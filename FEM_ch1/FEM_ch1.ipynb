{
 "cells": [
  {
   "cell_type": "markdown",
   "metadata": {},
   "source": [
    "# Table of Contents\n",
    "***\n",
    "[Problem 1](#Problem_1)<br>\n",
    "[Problem 2](#Problem_2)<br>\n",
    "[Problem 3](#Problem_3)<br>\n",
    "[Problem 4](#Problem_4)<br>\n",
    "[Problem 5](#Problem_5)<br>\n",
    "[Problem 6](#Problem_6)<br>\n",
    "[Problem 7](#Problem_7)<br>\n",
    "[Problem 8](#Problem_8)<br>\n",
    "[Problem 9](#Problem_9)<br>\n",
    "[Problem 10](#Problem_10)<br>\n",
    "[Problem 11](#Problem_11)<br>\n",
    "[Problem 12](#Problem_12)<br>\n",
    "[Problem 13](#Problem_13)<br>"
   ]
  },
  {
   "cell_type": "markdown",
   "metadata": {},
   "source": [
    "<a id=\"Problem_1\"> </a>   \n",
    "## Problem 1\n",
    "***\n",
    "\n",
    "__Problem Statement:__ Define the term _finite element_<br><br>\n",
    "__Solution:__ A small unit, or a number of units, that can be combined to estimate the behavior of a larger body."
   ]
  },
  {
   "cell_type": "markdown",
   "metadata": {},
   "source": [
    "<a id=\"Problem_2\"></a>\n",
    "## Problem 2\n",
    "***\n",
    "**Problem Statement:** What does *discretization* mean in the finite element method?\n",
    "<br><br>\n",
    "**Solution:** The process of modeling a body by dividing it into an equivalent system of smaller bodies or units (finite elements) interconnected at points common to two or more elements (nodal points or nodes) and/or boundary lines and/or surfaces."
   ]
  },
  {
   "cell_type": "markdown",
   "metadata": {},
   "source": [
    "<a id=\"Problem_3\"></a>\n",
    "## Problem 3\n",
    "***\n",
    "**Problem Statement:** In what year did the modern development of the finite element method begin?<br><br>\n",
    "**Solution:** In 1940's in the field of structural engineering. Hrennikoff began work in 1941 and McHenry began his work in 1943."
   ]
  },
  {
   "cell_type": "markdown",
   "metadata": {},
   "source": [
    "<a id=\"Problem_4\"></a>\n",
    "## Problem 4\n",
    "***\n",
    "**Problem Statement:** In what year was the direct stiffness method introduced?<br>\n",
    "**Solution:** Levy suggested the stiffness, or displacement, method in 1947."
   ]
  },
  {
   "cell_type": "markdown",
   "metadata": {},
   "source": [
    "<a id=\"Problem_5\"></a>\n",
    "\n",
    "## Problem 5\n",
    "***\n",
    "\n",
    "**Problem Statement:** Define the term *matrix*.<br><br>\n",
    "**Solution:** a rectangular array of quantities arranged in rows and columns that is often used as an aid in expressing and solving a system of algebraic equations."
   ]
  },
  {
   "cell_type": "markdown",
   "metadata": {},
   "source": [
    "<a id=\"Problem_6\"></a>\n",
    "\n",
    "## Problem 6\n",
    "***\n",
    "**Problem Statement:** What role did the computer play in the use of the finite element method?<br><br>\n",
    "**Solution:** Computers make it possible to solve large Finite Element Models with large degrees of freedom."
   ]
  },
  {
   "cell_type": "markdown",
   "metadata": {},
   "source": [
    "<a id=\"Problem_7\"></a>\n",
    "## Problem 7\n",
    "***\n",
    "**Problem Statement:** List and briefly describe the general steps fo the finite element method.<br><br>\n",
    "**Solution:** <br>\n",
    "1. Discretize and select the element types.\n",
    "2. Select a displacement function.\n",
    "3. Define the Strain/Displacement and Stress/Strain Relationships.\n",
    "4. Derive the Element Stiffness Matrix Equations.\n",
    "5. Assemble the Element Equations to Obtain the Global or Total Equations and Introduce the Boundary Conditions.\n",
    "6. Solve for the unknown degress of freedom (or Generalized Displacements.)\n",
    "7. Solve for the Element Strains and Stresses.\n",
    "8. Interpret the Results."
   ]
  },
  {
   "cell_type": "markdown",
   "metadata": {},
   "source": [
    "<a id=\"Problem_8\"></a>\n",
    "## Problem 8\n",
    "***\n",
    "**Problem Statement:** What is the displacement method?<br><br>\n",
    "**Solution:** The assumption that the displacements of the nodes are unkown. The compatibility equations are used to make sure that a node shared by 2 or more elements has the same displacement requirement for each of the elements that shares the node."
   ]
  },
  {
   "cell_type": "markdown",
   "metadata": {},
   "source": [
    "<a id=\"Problem_9\"></a>\n",
    "## Problem 9\n",
    "***\n",
    "**Problem Statement:** List four common types of finite elements.<br><br>\n",
    "**Solution:** \n",
    "1. Line\n",
    "2. Triangle\n",
    "3. Quadrilateral\n",
    "4. Tetrahedrals\n",
    "5. Hexahedral"
   ]
  },
  {
   "cell_type": "markdown",
   "metadata": {},
   "source": [
    "<a id=\"Problem_10\"></a>\n",
    "## Problem 10\n",
    "***\n",
    "**Problem Statement:** Name three commonly used methods for deriving the element stiffness matrix and element equations. Briefly describe each method.<br><br>\n",
    "**Solution:** \n",
    "1. Direct Equilibrium or Stiffness Method\n",
    "$$ \\sum F_x\\ = 0 $$\n",
    "2. Work or Energy Method\n",
    "$$\\pi\\ = W + U$$\n",
    "3. Methods of Weighted Residuals"
   ]
  },
  {
   "cell_type": "markdown",
   "metadata": {},
   "source": [
    "<a id=\"Problem_11\"></a>\n",
    "## Problem 11\n",
    "***\n",
    "\n",
    "**Problem Statement:** To what does the term *degrees of freedom* refer?<br><br>\n",
    "**Solution:** The properties at a node. IE Position u, Position, y"
   ]
  },
  {
   "cell_type": "markdown",
   "metadata": {},
   "source": [
    "<a id=\"Problem_12\"></a>\n",
    "## Problem 12\n",
    "***\n",
    "**Problem Statement:** List five typical areas of engineering where the finite element method is applied.<br><br>\n",
    "**Solution:**\n",
    "1. Stress Analysis\n",
    "2. Buckling\n",
    "3. Vibration\n",
    "4. Impact problems\n",
    "5. Heat Transfer\n",
    "6. Fluid Flow\n",
    "7. Distribution of electric or magnetic potential."
   ]
  },
  {
   "cell_type": "markdown",
   "metadata": {},
   "source": [
    "<a id=\"Problem_13\"></a>\n",
    "## Problem 13\n",
    "***\n",
    "**Problem Statement:** List five advantages of the finite element method.<br><br>\n",
    "**Solution:** \n",
    "1. Model irregularly shaped bodies quite easily.\n",
    "2. Handle general load conditions without difficulty.\n",
    "3. Model bodies composed of severaldifferent materials.\n",
    "4. Handle unlimited numb3ers and kinds of boundarys condition\n",
    "5. Alter the finite element model relatively easily and cheaply"
   ]
  }
 ],
 "metadata": {
  "kernelspec": {
   "display_name": "Python 3",
   "language": "python",
   "name": "python3"
  },
  "language_info": {
   "codemirror_mode": {
    "name": "ipython",
    "version": 3
   },
   "file_extension": ".py",
   "mimetype": "text/x-python",
   "name": "python",
   "nbconvert_exporter": "python",
   "pygments_lexer": "ipython3",
   "version": "3.5.5"
  }
 },
 "nbformat": 4,
 "nbformat_minor": 2
}
