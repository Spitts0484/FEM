{
 "cells": [
  {
   "cell_type": "markdown",
   "metadata": {
    "slideshow": {
     "slide_type": "skip"
    }
   },
   "source": [
    "<a id=\"TOC\"></a>\n",
    "# Table of Contents\n",
    "***\n",
    "[Problem 1](#Problem_1)<br>\n",
    "[Problem 2](#Problem_2)<br>\n",
    "[Problem 18](#Problem_18)<br>"
   ]
  },
  {
   "cell_type": "code",
   "execution_count": 1,
   "metadata": {
    "slideshow": {
     "slide_type": "skip"
    }
   },
   "outputs": [],
   "source": [
    "%matplotlib inline\n",
    "\n",
    "import matplotlib.pyplot as plt\n",
    "import numpy as np;\n",
    "import pandas as pd;\n",
    "import sympy as sp;\n",
    "\n",
    "sp.init_printing()\n",
    "#sp.init_session()"
   ]
  },
  {
   "cell_type": "markdown",
   "metadata": {
    "slideshow": {
     "slide_type": "slide"
    }
   },
   "source": [
    "<a id=\"Problem_1\"> </a>   \n",
    "## Problem 1\n",
    "***\n",
    "\n",
    "__Problem Statement:__ <br>\n",
    "__a.__ Obtain the global stiffness matrix \\[K\\] of the assemblage shown in Figure P2-1 by superimposing the stiffness matrices of the individual springs. Here $k_1$, $k_2$, and $k_3$ are the stiffness of the springs shown.<br>\n",
    "__b.__ If nodes 1 and 2 are fixed and a force *P* acts on node 4 in the positive x direction, find an expression for the displacements of nodes 3 and 4.<br>\n",
    "__c.__ Determine the r.)eaction forces at nodes 1 and 2.<br>\n",
    "(_Hint:_ Do this problem by writting the nodal equilibrium equations and then making use of the force/displacement relationships for each element as done in the first part of Section 2.4. Then solve the problem by the direct stiffness method.)<br><br>\n",
    "\n",
    "![alt text](FEM_ch2_p1.png \"Logan, Daryl L.(5th Edition).(2019) <br> A First Course in the FINITE ELEMENT METHOD. Stamford, CT: Global Engineering\")"
   ]
  },
  {
   "cell_type": "markdown",
   "metadata": {
    "slideshow": {
     "slide_type": "subslide"
    }
   },
   "source": [
    "## Force Balances\n",
    "\n",
    "### Force Balance for element 1\n",
    "$$f_1^{<1>} = k_1 (u_1 - u_3) $$\n",
    "$$f_3^{<1>} = k_1 (u_3 - u_1) $$\n",
    "\n",
    "$$\n",
    "\\begin{bmatrix}f_1^{<1>}\\\\f_3^{<1>}\\end{bmatrix} = \n",
    "\\begin{bmatrix}k_1 & -k_1\\\\-k_1 & k_1\\end{bmatrix}\n",
    "\\begin{bmatrix}u_1\\\\u_3\\end{bmatrix}\n",
    "$$\n",
    "\n",
    "### Force Balance for element 2\n",
    "$$f_3^{<2>} = k_2 (u_3 - u_4) $$\n",
    "$$f_4^{<4>} = k_2 (u_4 - u_3) $$\n",
    "\n",
    "$$\n",
    "\\begin{bmatrix}f_3^{<2>}\\\\f_4^{<2>}\\end{bmatrix} = \n",
    "\\begin{bmatrix}k_2 & -k_2 \\\\ -k_2 & k_2\\end{bmatrix}\n",
    "\\begin{bmatrix}u_3\\\\u_4\\end{bmatrix}\n",
    "$$\n",
    "\n",
    "### Force Balance for element 3\n",
    "$$f_4^{<3>} = k_3 (u4 - u_2) $$\n",
    "$$f_2^{<3>} = k_3 (u2 - u_4) $$\n",
    "\n",
    "$$\n",
    "\\begin{bmatrix}f_4^{<3>}\\\\f_2^{<4>}\\end{bmatrix} = \n",
    "\\begin{bmatrix}k_3 & -k_3 \\\\ -k_3 & k_3\\end{bmatrix}\n",
    "\\begin{bmatrix}u_4 \\\\ u_2\\end{bmatrix}\n",
    "$$\n"
   ]
  },
  {
   "cell_type": "markdown",
   "metadata": {
    "slideshow": {
     "slide_type": "subslide"
    }
   },
   "source": [
    "## Superimpose the matrices\n",
    "\n",
    "$$\n",
    "\\begin{bmatrix}f_1 \\\\ f_3 \\\\ f_4 \\\\ f_2 \\end{bmatrix} =\n",
    "\\begin{bmatrix}\n",
    "     k_1 & -k_1 & 0 & 0\\\\\n",
    "     -k_1 & k_1+k_2 & -k_2 & 0\\\\\n",
    "     0 & -k_2 & k_2 + k_3 & -k_2\\\\\n",
    "     0 & 0 & -k_3 & k_3\n",
    "     \\end{bmatrix}\n",
    "\\begin{bmatrix}\n",
    "    u_1 \\\\ u_3 \\\\ u_4 \\\\ u_2\n",
    "    \\end{bmatrix}\n",
    "$$<br><br>\n",
    "$$\n",
    "\\boxed{\\boldsymbol{K} = \n",
    "\\begin{bmatrix}\n",
    "     k_1 & -k_1 & 0 & 0\\\\\n",
    "     -k_1 & k_1+k_2 & -k_2 & 0\\\\\n",
    "     0 & -k_2 & k_2 + k_3 & -k_2\\\\\n",
    "     0 & 0 & -k_3 & k_3\n",
    "     \\end{bmatrix}\n",
    "     }\n",
    "$$"
   ]
  },
  {
   "cell_type": "markdown",
   "metadata": {
    "slideshow": {
     "slide_type": "notes"
    }
   },
   "source": [
    "1. Though not intuitive, the ordering of the forces and nodal displacements is kept non-sequential to affirm that the ordering of the equations is not significant but extra work may be needed to accurately keep track of the meaning of each position."
   ]
  },
  {
   "cell_type": "markdown",
   "metadata": {
    "slideshow": {
     "slide_type": "subslide"
    }
   },
   "source": [
    "## Add in Boundary Conditions and substitute nodal forces\n",
    "\n",
    "$$\n",
    "\\begin{bmatrix}f_1 \\\\ 0 \\\\ P \\\\ f_2 \\end{bmatrix} =\n",
    "\\begin{bmatrix}\n",
    "     k_1 & -k_1 & 0 & 0\\\\\n",
    "     -k_1 & k_1+k_2 & -k_2 & 0\\\\\n",
    "     0 & -k_2 & k_2 + k_3 & -k_2\\\\\n",
    "     0 & 0 & -k_3 & k_3\n",
    "     \\end{bmatrix}\n",
    "\\begin{bmatrix}\n",
    "    0 \\\\ u_3 \\\\ u_4 \\\\ 0\n",
    "    \\end{bmatrix}\n",
    "$$<br><br>\n",
    "\n",
    "$$\n",
    "\\begin{bmatrix} 0 \\\\ P \\end{bmatrix} =\n",
    "\\begin{bmatrix}\n",
    "     k_1+k_2 & -k_2\\\\\n",
    "     -k_2 & k_2 + k_3\\\\\n",
    "     \\end{bmatrix}\n",
    "\\begin{bmatrix}\n",
    "    u_3 \\\\ u_4\n",
    "    \\end{bmatrix}\n",
    "$$"
   ]
  },
  {
   "cell_type": "markdown",
   "metadata": {
    "slideshow": {
     "slide_type": "subslide"
    }
   },
   "source": [
    "## Solve for nodal displacements\n",
    "\n",
    "$$\n",
    "\\boldsymbol{K^{-1}} = \n",
    "\\frac{1}{(k_1 + k_2)(k_2 + k_3) - k_2^2}\\begin{bmatrix}k_2 + k_3 & k_2 \\\\k_2 & k_1 + k_2\\end{bmatrix}\n",
    "$$<br><br>\n",
    "\n",
    "$$ \\begin{bmatrix}u_3 \\\\ u_4 \\end{bmatrix} = \n",
    "\\frac{1}{(k_1 + k_2)(k_2 + k_3) - k_2^2}\n",
    "\\begin{bmatrix}k_2 + k_3 & k_2 \\\\k_2 & k_1 + k_2\\end{bmatrix}\n",
    "\\begin{bmatrix}0 \\\\ P \\end{bmatrix}\n",
    "$$<br><br>\n",
    "\n",
    "$$ \\boxed{u_3 = \\frac{P k_2}{k_1 k_2 + k_1 k_3 + k_2 k_3}}$$\n",
    "$$ \\boxed{u_4 = \\frac{P(k_1 + k_2)}{k_1 k_2 + k_1 k_3 + k_2 k_3}}$$"
   ]
  },
  {
   "cell_type": "markdown",
   "metadata": {
    "slideshow": {
     "slide_type": "notes"
    }
   },
   "source": [
    "1. Assuming that $(k_1 + k_2)(k_2 + k_3) - k_2^2 \\neq 0$\n",
    "2. note here that the $\\boldsymbol{K}^{-1}$ nomenclature is technically inaccurate. This is a modified/reduced stiffness matrix"
   ]
  },
  {
   "cell_type": "markdown",
   "metadata": {
    "slideshow": {
     "slide_type": "subslide"
    }
   },
   "source": [
    "## Substitute Known Displacements to find reaction forces\n",
    "$$\n",
    "\\begin{bmatrix}f_1 \\\\ 0 \\\\ P \\\\ f_2 \\end{bmatrix} =\n",
    "\\begin{bmatrix}\n",
    "     k_1 & -k_1 & 0 & 0\\\\\n",
    "     -k_1 & k_1+k_2 & -k_2 & 0\\\\\n",
    "     0 & -k_2 & k_2 + k_3 & -k_2\\\\\n",
    "     0 & 0 & -k_3 & k_3\n",
    "     \\end{bmatrix}\n",
    "\\begin{bmatrix}\n",
    "    0 \\\\ \\frac{P k_2}{k_1 k_2 + k_1 k_3 + k_2 k_3} \\\\ \\frac{P(k_1 + k_2)}{k_1 k_2 + k_1 k_3 + k_2 k_3} \\\\ 0\n",
    "    \\end{bmatrix}\n",
    "$$<br><br>\n",
    "\n",
    "\n",
    "$$\\boxed{f_1 = \\frac{-k_1 P k_2}{k_1 k_2 + k_1 k_3 + k_2 k_3}}$$\n",
    "$$\\boxed{f_2 = \\frac{-k_3 P(k_1 + k_2)}{k_1 k_2 + k_1 k_3 + k_2 k_3}}$$\n"
   ]
  },
  {
   "cell_type": "markdown",
   "metadata": {
    "slideshow": {
     "slide_type": "skip"
    }
   },
   "source": [
    "[To Table of Contents](#TOC)"
   ]
  },
  {
   "cell_type": "markdown",
   "metadata": {
    "slideshow": {
     "slide_type": "slide"
    }
   },
   "source": [
    "<a id=\"Problem_2\"></a>\n",
    "\n",
    "## Problem 2\n",
    "***\n",
    "\n",
    "**Problem Statement:** For the spring assemblage shown in Figure P2-2, determine the displacement at node 2 and the forces in each spring element. Also, determine the force $F_3$.<br>\n",
    "\n",
    "![alt text](FEM_ch2_p2.png \"Logan, Daryl L.(5th Edition).(2019) <br> A First Course in the FINITE ELEMENT METHOD. Stamford, CT: Global Engineering\")\n",
    "\n",
    "**Given:**<br>\n",
    "$$\\delta = 1 in$$\n",
    "$$k_1 = k_2 = 500 \\frac{lbf}{in}$$\n",
    "\n",
    "**Find:**<br>\n",
    "1. $u_2$\n",
    "2. $f^{<1>}$\n",
    "3. $f^{<2>}$\n",
    "4. $f_3$\n",
    "\n",
    "**Note:**\n",
    "1. In an effort to more rapidly generate answers in the future with less derivation, part of this problem will be an introduction to utilizing python, and the sympy module, in order to generate a solution.\n",
    "2. Another opportunity taken here is to confirm the performance of code_aster when simulating these solutions. With that said, a simulation was run, and the nodal displacements and forces stored in the attached csv files. The script for running the simulation is also stored locally and available for review in your favorite text editor or to run on your locally code_aster installation."
   ]
  },
  {
   "cell_type": "markdown",
   "metadata": {
    "slideshow": {
     "slide_type": "subslide"
    }
   },
   "source": [
    "**Solution:**\n",
    "The first step when utilizing python code is to import the necessary modules. In this case we will use sympy which is a symbolic mathematical library. After importing the module, we define and assign values to the variables.\n",
    "\n",
    "```python\n",
    "import sympy as sp;\n",
    "\n",
    "k1 = 500;\n",
    "k2 = k1;\n",
    "d = 1;\n",
    "\n",
    "[k1, k2, u1, u2, u3, f1, f2, f3, d] = sp.symbols(\"k1 k2 u1 u2 u3 f1 f2 f3 d\");\n",
    "```"
   ]
  },
  {
   "cell_type": "markdown",
   "metadata": {
    "slideshow": {
     "slide_type": "subslide"
    }
   },
   "source": [
    "**Solution:**<br>\n",
    "by inspection we can define the stiffness matrix, force vector, and displacement vectors.\n",
    "$$\\boldsymbol{K} = \\begin{bmatrix}k1 & -k1 & 0\\\\-k1 & k1+k2 & -k2\\\\0 & -k2 & k2\\end{bmatrix}$$<br>\n",
    "$$\\boldsymbol{F} = \\begin{bmatrix}f1\\\\f2\\\\f3\\end{bmatrix}$$<br>\n",
    "$$\\boldsymbol{U} = \\begin{bmatrix}u1\\\\u2\\\\u3\\end{bmatrix}$$<br>\n",
    "To do this within python we create a Global Matrices with\n",
    "```python\n",
    "K = sp.Matrix([[k1, -k1, 0]\n",
    "               [-k1, k1+k2, -k2],\n",
    "               [0, -k2, k2]]);\n",
    "\n",
    "F = sp.Matrix([f1, f2, f3]);\n",
    "U = sp.Matrix([u1, u2, u3]);\n",
    "```"
   ]
  },
  {
   "cell_type": "markdown",
   "metadata": {
    "slideshow": {
     "slide_type": "subslide"
    }
   },
   "source": [
    "yielding the system of equations\n",
    "$$ \\begin{bmatrix}f_1 \\\\ f_2 \\\\ f_3\\end{bmatrix} = \n",
    "\\begin{bmatrix}k1 & -k1 & 0\\\\-k1 & k1+k2 & -k2\\\\0 & -k2 & k2\\end{bmatrix}\n",
    "\\begin{bmatrix}u_1 \\\\ u_2 \\\\ u_3\\end{bmatrix}$$"
   ]
  },
  {
   "cell_type": "markdown",
   "metadata": {
    "slideshow": {
     "slide_type": "subslide"
    }
   },
   "source": [
    "Applying the boundary condition\n",
    "$$ \\begin{bmatrix}f_1 \\\\ f_2 \\\\ f_3\\end{bmatrix} =  \n",
    "\\begin{bmatrix}k1 & -k1 & 0\\\\-k1 & k1+k2 & -k2\\\\0 & -k2 & k2\\end{bmatrix}\n",
    "\\begin{bmatrix}0 \\\\ u_2 \\\\ \\delta\\end{bmatrix}$$<br>\n",
    "\n",
    "Python Code:\n",
    "```python\n",
    "U[0]=0;\n",
    "U[2]=delta;\n",
    "```\n",
    "\n",
    "Note that python starts with an index of 0, so the first row of the displacement matrix is accessed with U[0]"
   ]
  },
  {
   "cell_type": "markdown",
   "metadata": {
    "slideshow": {
     "slide_type": "subslide"
    }
   },
   "source": [
    "Substituting in the nodal forces. Keep in mind that it is a force on node 3 which causes the prescribed displacement and a force on node 1 that enforces the boundary condition.\n",
    "$$ \\begin{bmatrix}f_1 \\\\ 0 \\\\ f_3\\end{bmatrix} = \n",
    "\\begin{bmatrix}k1 & -k1 & 0\\\\-k1 & k1+k2 & -k2\\\\0 & -k2 & k2\\end{bmatrix}\n",
    "\\begin{bmatrix}0 \\\\ u_2 \\\\ \\delta\\end{bmatrix}$$<br>\n",
    "\n",
    "Python Code:\n",
    "```python\n",
    "F[1] = 0;\n",
    "```"
   ]
  },
  {
   "cell_type": "markdown",
   "metadata": {
    "slideshow": {
     "slide_type": "subslide"
    }
   },
   "source": [
    "eliminating rows and columns that correspond to $u_1$\n",
    "$$ \\begin{bmatrix}0 \\\\ f_3\\end{bmatrix} = \n",
    "\\begin{bmatrix}k1+k2 & -k2\\\\-k2 & k2\\end{bmatrix}\n",
    "\\begin{bmatrix}u_2 \\\\ \\delta\\end{bmatrix}$$\n",
    "\n",
    "Python Code:\n",
    "```python\n",
    "k_red = K.copy();\n",
    "k_red.row_del(0);\n",
    "k_red.col_del(0);\n",
    "\n",
    "f_red = F.copy();\n",
    "f_red.row_del(0);\n",
    "\n",
    "u_red = U.copy();\n",
    "u_red.row_del(0);\n",
    "```\n",
    "Note that we don't want to eliminate the global matrix so we make copies of the global matrices and name the `*_red` and then delete the first row, and column if appropriate, of the copied matrices. Had we simply commanded `k_red = K` then we would be telling the computer to create a variable named `k_red` which has it's value stored in the same memory location as `K`; this would mean that any change done to 'k_red' would also be done to `K`."
   ]
  },
  {
   "cell_type": "markdown",
   "metadata": {
    "slideshow": {
     "slide_type": "subslide"
    }
   },
   "source": [
    "solving the first row for $u_2$\n",
    "$$ \\boxed{u_2 = \\frac{k_2 \\delta}{k_1 + k_2} = 0.5\\ inches}$$<br>\n",
    "\n",
    "Python Code:\n",
    "```python\n",
    "U[1] = sp.solve((k_red*u_red)[0], u2)[0];\n",
    "```\n",
    "Note that we simply assigned th solved value to the global $\\boldsymbol{U}$ matrix. This code can be read as \"solve the 1st row of k_red * u_red for u2 and assign the value to the 2nd row of the global displacement matrix.\" Note that the solve attribute assumes that the expression being solved is equal to zero. The solve attribute returns an array of values; to retrieve the first value within the array, which corresponds to the value of the solved expression, you end the attribute call with `[0]`.\n",
    "\n"
   ]
  },
  {
   "cell_type": "markdown",
   "metadata": {
    "slideshow": {
     "slide_type": "subslide"
    }
   },
   "source": [
    "Using the now known $u_2$ displacement to solve the full system of equations for $f_1$ & $f_3$\n",
    "$$f_3 = -k_2 u_2 + k_2 \\delta = 250\\ lbf$$<br>\n",
    "$$f_1 = -k_1 u_2 = -250 lbf$$<br>\n",
    "\n",
    "The force in element 2 must withstand the force applied at node 3\n",
    "$$\\boxed{f_{3x}^{<2>} = -f_3 = -250 lbf}$$\n",
    "There is no nodal force applied at node 2 so all of the force in element 3 is transmitted through element 2.\n",
    "$$\\boxed{f_{2x}^{<1>} = f_{3x}^{<2>} = -250\\ lbf}$$\n",
    "\n",
    "Python Code:\n",
    "```python\n",
    "F = k*u;\n",
    "```\n",
    "\n",
    "The full python code as well as printed results below."
   ]
  },
  {
   "cell_type": "code",
   "execution_count": 83,
   "metadata": {
    "slideshow": {
     "slide_type": "subslide"
    }
   },
   "outputs": [
    {
     "name": "stdout",
     "output_type": "stream",
     "text": [
      "\n",
      "    u2 = 0.50 inches\n",
      "    F1 = -250.0 lbf\n",
      "    F3 = 250.0 lbf\n",
      "    \n"
     ]
    }
   ],
   "source": [
    "[u1, u2, u3, f1, f2, f3, delta] = sp.symbols(\"u1 u2 u3 f1 f2 f3 delta\")\n",
    "k1 = 500*12;\n",
    "k2 = k1;\n",
    "F = sp.Matrix([f1, f2, f3]);\n",
    "U = sp.Matrix([u1, u2, u3]);\n",
    "K = sp.Matrix([[k1, -k1, 0],[-k1, k1+k2, -k2], [0, -k2, k2]]);\n",
    "\n",
    "delta = 1/12;\n",
    "\n",
    "F_reduced = F.copy();\n",
    "F_reduced.row_del(0);\n",
    "\n",
    "U_reduced = U.copy();\n",
    "U_reduced.row_del(0);\n",
    "U_reduced[1] = delta;\n",
    "\n",
    "K_reduced = K.copy();\n",
    "K_reduced.row_del(0);\n",
    "K_reduced.col_del(0);\n",
    "\n",
    "U[1] = sp.solve((K_reduced*U_reduced)[0], u2)[0]\n",
    "U[0] = 0;\n",
    "U[2] = delta;\n",
    "\n",
    "F = K*U\n",
    "\n",
    "print(\"\"\"\n",
    "    u2 = {:.2f} inches\n",
    "    F1 = {:3.1f} lbf\n",
    "    F3 = {:3.1f} lbf\n",
    "    \"\"\".format(U[1]*12, F[0], F[2]))"
   ]
  },
  {
   "cell_type": "markdown",
   "metadata": {
    "slideshow": {
     "slide_type": "subslide"
    }
   },
   "source": [
    "**Code Aster Solution:**\n",
    "As mentioned previously, this problem can be verified using code_aster which is an FEA solver. Teaching the use of code_aster is outside the scope of this project but the command (.comm) file and the CAD model (.hdf) files are included within this repository. The code that follows merely take csv that was generated by code aster and processes it within this python environment to in order to make easy comparison. The processing of the csv file is required because code aster's \"native\" units are metric so they must be converted to imperial in order to make comparison with the closed-solution easier."
   ]
  },
  {
   "cell_type": "code",
   "execution_count": 99,

   "metadata": {
    "slideshow": {
     "slide_type": "fragment"
    }
   },
   "outputs": [
    {
     "name": "stdout",
     "output_type": "stream",
     "text": [
      "   NOEUD            DX_lbf\n",
      "0  N1        -2.499988e+02\n",
      "1  N2        -1.022312e-13\n",
      "2  N3         2.500011e+02\n",
      "\n",
      "\n",
      "\n",
      "   INTITULE           DX_in\n",
      "0  N2 displacement      0.5\n"
     ]
    }
   ],
   "source": [
    "forcesDF = pd.read_csv(\"FEM_ch2_p2_nodal_forces.csv\", skiprows=4)\n",
    "dispDF = pd.read_csv(\"FEM_ch2_p2_N2_displacement.csv\", skiprows=4)\n",
    "\n",
    "forcesDF[\"DX_lbf\"] = forcesDF[\"DX           \"]*0.224809;\n",
    "dispDF[\"DX_in\"] = dispDF[\"DX          \"][0]*39.3701;\n",
    "print(forcesDF[[\"NOEUD    \",\"DX_lbf\"]]);\n",
    "print(\"\\n\\n\")\n",
    "print(dispDF[[\"INTITULE         \", \"DX_in\"]])"
   ]
  },
  {
   "cell_type": "markdown",
   "metadata": {
    "slideshow": {
     "slide_type": "skip"
    }
   },
   "source": [
    "[To Table of Contents](#TOC)"
   ]
  },
  {
   "cell_type": "markdown",
   "metadata": {
    "slideshow": {
     "slide_type": "slide"
    }
   },
   "source": [
    "<a id=\"Problem_18\"></a>\n",
    "## Problem 18\n",
    "***\n",
    "\n",
    "**Problem Statement:** <br>Use the principle of minimum potential energy developed in Section 2.6 to solve the spring problems shown in Figure P2-18. That is, plot the total potential energy for variations in the displacement of the free end of the spring to determine the minimum potential energy. Observe that the displacement that yields the minimum potential energy also yields the stable equilibrium position.\n",
    "\n",
    "![alt text](FEM_ch2_p18.png \"Logan, Daryl L.(5th Edition).(2019) <br> A First Course in the FINITE ELEMENT METHOD. Stamford, CT: Global Engineering\")\n",
    "\n",
    "**Given:**<br>\n",
    "(a) F = -1000 lbf, k = 2000 lbf/in<br>\n",
    "(b) F = -1000 lbf, k = 500 lbf/in<br>\n",
    "(c) m = 400 kg, k = 2000 N/mm<br>\n",
    "(d) m = 100 kg, k = 400 N/mm<br>\n",
    "\n",
    "**Find:**<br>\n",
    "For problems a through d:\n",
    "1. Plot of potential energy as a function of displacement.\n",
    "2. Proof that the displacement at corresponding to the minimum of the potential energy is the solution to the system.\n",
    "\n",
    "**Assumptions:**<br>\n",
    "1. acceleration due to gravity is $9.8\\frac{m}{s^2}$.\n",
    "2. The spring follows Hooke's Law."
   ]
  },
  {
   "cell_type": "markdown",
   "metadata": {
    "slideshow": {
     "slide_type": "subslide"
    }
   },
   "source": [
    "### Background\n",
    "\n",
    "First, we must review the equation for the potential energy of the system.<br>\n",
    "\n",
    "$$\\pi_p = U + W$$<br>\n",
    "where $\\pi_p$ is the the potential energy of the system, $U$ is the internal energy caused by a deformation of the system under consideration and $W$ is the work done on the system due to external forces. <br>\n",
    "The internal energy of the system is caused by a deformation of the spring. Assuming Hooke's law, which states that the deflection of the spring is linearly related to the force which caused displacement, we can say the work done to displace a spring is the area under the curve $F-\\delta$ curve shown below giving the equation\n",
    "$$U = \\frac{1}{2}F\\delta$$\n",
    "![alt text](FEM_ch2_p18_fd.png \"General Force-deflection graph for deriving the energy stored in a system due to a deformed field\")\n",
    "Knowing that the system is considered to be composed of a system of springs, we can use the Hooke's law $F=k\\delta$ to define the internal energy of the system as\n",
    "$$ U = \\frac{1}{2}k\\delta^2$$\n",
    "Since the systems being considered are represented with Matrices we must use the equation below to express the internal energy.\n",
    "$$ \\boldsymbol{U} = \\boldsymbol{\\delta}^T\\boldsymbol{K}\\boldsymbol{\\delta}$$\n",
    "It is left to the reader to investigate why the expression above is the only way of arranging the stiffness matrix and displacement vectors.\n",
    "<br>\n",
    "\n",
    "Next we form an expression for the work done on the system by the external forces as\n",
    "$$W = -F_{ext}\\delta$$\n",
    "Which in matrix form is\n",
    "$$\\boldsymbol{W} = -\\boldsymbol{F}_{ext}\\boldsymbol{\\delta}$$\n",
    "<br>\n",
    "\n",
    "We can now write the full expression for the potential energy of the system as\n",
    "$$\\boldsymbol{\\pi}_p = \\boldsymbol{\\delta}^T\\boldsymbol{K}\\boldsymbol{\\delta} - \\boldsymbol{F}_{ext}\\boldsymbol{\\delta}$$\n",
    "<br>which must be minimized by finding differentiating and setting equal to zero.\n",
    "$$\\frac{\\partial \\boldsymbol{\\pi}_p}{\\partial \\delta_i} = 0$$\n",
    "where subscript $i$ instructs the user to take the derivative of the row with respect to the Degree of Freedom  of that row. For the sake of discussion, we will continue the background discussion on the single degree of freedom system  yielding the minimum potential energy position as\n",
    "$$\\frac{\\partial \\pi_p}{\\partial \\delta} = 0 = k \\delta - F_{ext}$$\n",
    "which is the same equation we would arrive at had we used the direct stiffness method. This concludes the \"proof\" that the use of the minimum potential energy concept will allow us to derive the stiffness matrix as an alternative to the direct stiffness method."
   ]
  },
  {
   "cell_type": "code",
   "execution_count": 4,
   "metadata": {
    "slideshow": {
     "slide_type": "skip"
    }
   },
   "outputs": [
    {
     "data": {
      "image/png": "[encoded data removed]",
      "text/plain": [
       "<Figure size 432x288 with 1 Axes>"
      ]
     },
     "metadata": {
      "needs_background": "light"
     },
     "output_type": "display_data"
    }
   ],
   "source": [
    "dmy_delta = np.arange(0,1,0.1);\n",
    "dmy_force = 10*dmy_delta;\n",
    "plt.plot(dmy_delta, dmy_force, label = \"$F = kx$\");\n",
    "plt.grid();\n",
    "plt.title(\"Force - $\\delta$\");\n",
    "plt.xlabel(\"displacement $\\delta$\");\n",
    "plt.ylabel(\"Force\");\n",
    "plt.xlim(0,0.5);\n",
    "plt.ylim(0,10);\n",
    "plt.xticks(dmy_delta, \" \");\n",
    "plt.yticks(dmy_force, \" \");\n",
    "plt.legend(loc=2)\n",
    "#plt.savefig(\"FEM_ch2_p18_fd.png\")\n",
    "plt.show()\n",
    "del(dmy_delta, dmy_force);"
   ]
  },
  {
   "cell_type": "markdown",
   "metadata": {
    "slideshow": {
     "slide_type": "subslide"
    }
   },
   "source": [
    "### Problem 18a)"
   ]
  },
  {
   "cell_type": "code",
   "execution_count": 70,
   "metadata": {
    "slideshow": {
     "slide_type": "fragment"
    }
   },
   "outputs": [
    {
     "name": "stdout",
     "output_type": "stream",
     "text": [
      "\n",
      "The displacement for part (a) is -1/2 inches\n",
      "The displacement for part (b) is -2 inches\n",
      "The displacement for part (c) is -1.96 mm\n",
      "The displacement for part (d) is -2.45 mm\n",
      "\n"
     ]
    },
    {
     "data": {
      "image/png": "[encoded data removed]",
      "text/plain": [
       "<Figure size 432x288 with 1 Axes>"
      ]
     },
     "metadata": {
      "needs_background": "light"
     },
     "output_type": "display_data"
    },
    {
     "data": {
      "image/png": "[encoded data removed]",
      "text/plain": [
       "<Figure size 432x288 with 1 Axes>"
      ]
     },
     "metadata": {
      "needs_background": "light"
     },
     "output_type": "display_data"
    },
    {
     "data": {
      "image/png": "[encoded data removed]",
      "text/plain": [
       "<Figure size 432x288 with 1 Axes>"
      ]
     },
     "metadata": {
      "needs_background": "light"
     },
     "output_type": "display_data"
    },
    {
     "data": {
      "image/png": "[encoded data removed]",
      "text/plain": [
       "<Figure size 432x288 with 1 Axes>"
      ]
     },
     "metadata": {
      "needs_background": "light"
     },
     "output_type": "display_data"
    }
   ],
   "source": [
    "#Part a)\n",
    "fa, ka, va, pia, Ua, Wa = sp.symbols('fa ka va pia, Ua, Wa')\n",
    "Ua = 0.5*ka*va**2;\n",
    "Wa = fa*va;\n",
    "pia = Ua - Wa;\n",
    "dpidva = pia.diff(va)\n",
    "va = sp.solve(dpidva, va)[0]\n",
    "\n",
    "#Part b)\n",
    "fb, kb, ub, pib, Ub, Wb = sp.symbols('fb kb ub pib, Ub, Wb')\n",
    "Ub = 0.5*kb*ub**2;\n",
    "Wb = fb*ub;\n",
    "pib = Ub - Wb;\n",
    "dpidub = pib.diff(ub)\n",
    "ub = sp.solve(dpidub, ub)[0]\n",
    "\n",
    "#Part c)\n",
    "fc, mc, kc, vc , pic, Uc, Wc, g = sp.symbols('fc mc kc vc pic Uc Wc g')\n",
    "fc = mc*g;\n",
    "Uc = 0.5*kc*vc**2;\n",
    "Wc = fc*vc;\n",
    "pic = Uc - Wc;\n",
    "dpidvc = pic.diff(vc)\n",
    "vc = sp.solve(dpidvc, vc)[0]\n",
    "\n",
    "#Part d)\n",
    "fd, md, kd, vd, pid, Ud, Wd, g = sp.symbols('fd md kd vd pid Ud Wd g')\n",
    "fd = md*g;\n",
    "Ud = 0.5*kd*vd**2;\n",
    "Wd = fd*vd;\n",
    "pid = Ud - Wd;\n",
    "dpidvd = pid.diff(vd)\n",
    "vd = sp.solve(dpidvd, vd)[0]\n",
    "\n",
    "\n",
    "print(\"\"\"\n",
    "The displacement for part (a) is {:} inches\n",
    "The displacement for part (b) is {:} inches\n",
    "The displacement for part (c) is {:3.2f} mm\n",
    "The displacement for part (d) is {:3.2f} mm\n",
    "\"\"\".format(\n",
    "    va.subs([(fa, -1000), (ka, 2000)]),\n",
    "    ub.subs([(fb, -1000), (kb, 500)]),\n",
    "    vc.subs([(mc, 400), (g, -9.8), (kc, 2000)]),\n",
    "    vd.subs([(md, 100), (g, -9.8), (kd, 400)])\n",
    "          ));\n",
    "sp.plotting.plot(pia.subs([(fa, -1000), (ka,2000)]),\n",
    "                 xlim = (-1, 0.25), ylim = (-300,100),\n",
    "                 adaptive=False,\n",
    "                 nb_of_points=3000,\n",
    "                 xlabel = \"v (in)\",\n",
    "                 ylabel = \"$\\pi$ (ft lbf)\"\n",
    "                );\n",
    "sp.plotting.plot(pib.subs([(fb, -1000), (kb,500)]),\n",
    "                 xlim = (-5, 1), ylim = (-1000,400),\n",
    "                 adaptive=False,\n",
    "                 nb_of_points=3000,\n",
    "                 xlabel = \"u (in)\",\n",
    "                 ylabel = \"$\\pi$ (ft lbf)\"\n",
    "                );\n",
    "sp.plotting.plot(pic.subs([(g, -9.8),(mc,400), (kc, 2000)]),\n",
    "                 xlim = (-5, 1), ylim = (-4000,500),\n",
    "                 adaptive=False,\n",
    "                 nb_of_points=3000,\n",
    "                 xlabel = \"v (mm)\",\n",
    "                 ylabel = \"$\\pi$ (Nm)\"\n",
    "                );\n",
    "sp.plotting.plot(pid.subs([(g, -9.8),(md,100), (kd, 400)]),\n",
    "                 xlim = (-5, 1), ylim = (-1200,500),\n",
    "                 adaptive=False,\n",
    "                 nb_of_points=3000,\n",
    "                 xlabel=\"v (mm)\",\n",
    "                 ylabel=\"$\\pi$ (Nm)\"\n",
    "                 \n",
    "                );\n",
    "plt.show()\n",
    "del fa, ka, va, pia, Ua, Wa, dpidva;"
   ]
  }
 ],
 "metadata": {
  "celltoolbar": "Slideshow",
  "kernelspec": {
   "display_name": "Python 3",
   "language": "python",
   "name": "python3"
  },
  "language_info": {
   "codemirror_mode": {
    "name": "ipython",
    "version": 3
   },
   "file_extension": ".py",
   "mimetype": "text/x-python",
   "name": "python",
   "nbconvert_exporter": "python",
   "pygments_lexer": "ipython3",
   "version": "3.5.5"
  }
 },
 "nbformat": 4,
 "nbformat_minor": 2
}
