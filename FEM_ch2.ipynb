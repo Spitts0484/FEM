{
 "cells": [
  {
   "cell_type": "markdown",
   "metadata": {
    "slideshow": {
     "slide_type": "slide"
    }
   },
   "source": [
    "# Table of Contents\n",
    "***\n",
    "[Problem 1](#Problem_1)<br>"
   ]
  },
  {
   "cell_type": "code",
   "execution_count": 2,
   "metadata": {
    "slideshow": {
     "slide_type": "skip"
    }
   },
   "outputs": [],
   "source": [
    "%matplotlib inline\n",
    "import sympy as sp;\n",
    "import matplotlib.pyplot as plt"
   ]
  },
  {
   "cell_type": "markdown",
   "metadata": {
    "slideshow": {
     "slide_type": "slide"
    }
   },
   "source": [
    "<a id=\"Problem_1\"> </a>   \n",
    "## Problem 1\n",
    "***\n",
    "\n",
    "__Problem Statement:__ <br>\n",
    "__a.__ Obtain the global stiffness matrix \\[K\\] of the assemblage shown in Figure P2-1 by superimposing the stiffness matrices of the individual springs. Here $k_1$, $k_2$, and $k_3$ are the stiffness of the springs shown.<br>\n",
    "__b.__ If nodes 1 and 2 are fixed and a force *P* acts on node 4 in the positive x direction, find an expression for the displacements of nodes 3 and 4.<br>\n",
    "__c.__ Determine the reaction forces at nodes 1 and 2.<br>\n",
    "(_Hint:_ Do this problem by writting the nodal equilibrium equations and then making use of the force/displacement relationships for each element as done in the first part of Section 2.4. Then solve the problem by the direct stiffness method.)<br><br>\n",
    "\n",
    "![alt text](FEM_ch2_p1.png \"need to cite book for image\")"
   ]
  },
  {
   "cell_type": "markdown",
   "metadata": {
    "slideshow": {
     "slide_type": "subslide"
    }
   },
   "source": [
    "## Force Balances\n",
    "\n",
    "### Force Balance for element 1\n",
    "$$f_1^{<1>} = k_1 (u_1 - u_3) $$\n",
    "$$f_3^{<1>} = k_1 (u_3 - u_1) $$\n",
    "\n",
    "$$\n",
    "\\begin{bmatrix}f_1^{<1>}\\\\f_3^{<1>}\\end{bmatrix} = \n",
    "\\begin{bmatrix}k_1 & -k_1\\\\-k_1 & k_1\\end{bmatrix}\n",
    "\\begin{bmatrix}u_1\\\\u_3\\end{bmatrix}\n",
    "$$\n",
    "\n",
    "### Force Balance for element 2\n",
    "$$f_3^{<2>} = k_2 (u_3 - u_4) $$\n",
    "$$f_4^{<4>} = k_2 (u_4 - u_3) $$\n",
    "\n",
    "$$\n",
    "\\begin{bmatrix}f_3^{<2>}\\\\f_4^{<2>}\\end{bmatrix} = \n",
    "\\begin{bmatrix}k_2 & -k_2 \\\\ -k_2 & k_2\\end{bmatrix}\n",
    "\\begin{bmatrix}u_3\\\\u_4\\end{bmatrix}\n",
    "$$\n",
    "\n",
    "### Force Balance for element 3\n",
    "$$f_4^{<3>} = k_3 (u4 - u_2) $$\n",
    "$$f_2^{<3>} = k_3 (u2 - u_4) $$\n",
    "\n",
    "$$\n",
    "\\begin{bmatrix}f_4^{<3>}\\\\f_2^{<4>}\\end{bmatrix} = \n",
    "\\begin{bmatrix}k_3 & -k_3 \\\\ -k_3 & k_3\\end{bmatrix}\n",
    "\\begin{bmatrix}u_4 \\\\ u_2\\end{bmatrix}\n",
    "$$\n"
   ]
  },
  {
   "cell_type": "markdown",
   "metadata": {
    "slideshow": {
     "slide_type": "subslide"
    }
   },
   "source": [
    "## Superimpose the matrices\n",
    "\n",
    "$$\n",
    "\\begin{bmatrix}f_1 \\\\ f_3 \\\\ f_4 \\\\ f_2 \\end{bmatrix} =\n",
    "\\begin{bmatrix}\n",
    "     k_1 & -k_1 & 0 & 0\\\\\n",
    "     -k_1 & k_1+k_2 & -k_2 & 0\\\\\n",
    "     0 & -k_2 & k_2 + k_3 & -k_2\\\\\n",
    "     0 & 0 & -k_3 & k_3\n",
    "     \\end{bmatrix}\n",
    "\\begin{bmatrix}\n",
    "    u_1 \\\\ u_3 \\\\ u_4 \\\\ u_2\n",
    "    \\end{bmatrix}\n",
    "$$<br><br>\n",
    "$$\n",
    "\\boxed{\\boldsymbol{K} = \n",
    "\\begin{bmatrix}\n",
    "     k_1 & -k_1 & 0 & 0\\\\\n",
    "     -k_1 & k_1+k_2 & -k_2 & 0\\\\\n",
    "     0 & -k_2 & k_2 + k_3 & -k_2\\\\\n",
    "     0 & 0 & -k_3 & k_3\n",
    "     \\end{bmatrix}\n",
    "     }\n",
    "$$"
   ]
  },
  {
   "cell_type": "markdown",
   "metadata": {
    "slideshow": {
     "slide_type": "notes"
    }
   },
   "source": [
    "1. Though not intuitive, the ordering of the forces and nodal displacements is kept non-sequential to affirm that the ordering of the equations is not significant but extra work may be needed to accurately keep track of the meaning of each position."
   ]
  },
  {
   "cell_type": "markdown",
   "metadata": {
    "slideshow": {
     "slide_type": "subslide"
    }
   },
   "source": [
    "## Add in Boundary Conditions and substitute nodal forces\n",
    "\n",
    "$$\n",
    "\\begin{bmatrix}f_1 \\\\ 0 \\\\ P \\\\ f_4 \\end{bmatrix} =\n",
    "\\begin{bmatrix}\n",
    "     k_1 & -k_1 & 0 & 0\\\\\n",
    "     -k_1 & k_1+k_2 & -k_2 & 0\\\\\n",
    "     0 & -k_2 & k_2 + k_3 & -k_2\\\\\n",
    "     0 & 0 & -k_3 & k_3\n",
    "     \\end{bmatrix}\n",
    "\\begin{bmatrix}\n",
    "    0 \\\\ u_3 \\\\ u_4 \\\\ 0\n",
    "    \\end{bmatrix}\n",
    "$$<br><br>\n",
    "\n",
    "$$\n",
    "\\begin{bmatrix} 0 \\\\ P \\end{bmatrix} =\n",
    "\\begin{bmatrix}\n",
    "     k_1+k_2 & -k_2\\\\\n",
    "     -k_2 & k_2 + k_3\\\\\n",
    "     \\end{bmatrix}\n",
    "\\begin{bmatrix}\n",
    "    u_3 \\\\ u_4\n",
    "    \\end{bmatrix}\n",
    "$$"
   ]
  },
  {
   "cell_type": "markdown",
   "metadata": {
    "slideshow": {
     "slide_type": "subslide"
    }
   },
   "source": [
    "## Solve for nodal displacements\n",
    "\n",
    "$$\n",
    "\\boldsymbol{K^{-1}} = \n",
    "\\frac{1}{(k_1 + k_2)(k_2 + k_3) - k_2^2}\\begin{bmatrix}k_2 + k_3 & k_2 \\\\k_2 & k_1 + k_2\\end{bmatrix}\n",
    "$$<br><br>\n",
    "\n",
    "$$ \\begin{bmatrix}u_3 \\\\ u_4 \\end{bmatrix} = \n",
    "\\frac{1}{(k_1 + k_2)(k_2 + k_3) - k_2^2}\n",
    "\\begin{bmatrix}k_2 + k_3 & k_2 \\\\k_2 & k_1 + k_2\\end{bmatrix}\n",
    "\\begin{bmatrix}0 \\\\ P \\end{bmatrix}\n",
    "$$<br><br>\n",
    "\n",
    "$$ \\boxed{u_3 = \\frac{P k_2}{k_1 k_2 + k_1 k_3 + k_2 k_3}}$$\n",
    "$$ \\boxed{u_4 = \\frac{P(k_1 + k_2)}{k_1 k_2 + k_1 k_3 + k_2 k_3}}$$"
   ]
  },
  {
   "cell_type": "markdown",
   "metadata": {
    "slideshow": {
     "slide_type": "notes"
    }
   },
   "source": [
    "1. Assuming that $(k_1 + k_2)(k_2 + k_3) - k_2^2 \\neq 0$\n",
    "2. note here that the $\\boldsymbol{K}^{-1}$ nomenclature is technically inaccurate. This is a modified/reduced stiffness matrix"
   ]
  },
  {
   "cell_type": "markdown",
   "metadata": {
    "slideshow": {
     "slide_type": "subslide"
    }
   },
   "source": [
    "## Substitute Known Displacements to find reaction forces\n",
    "$$\n",
    "\\begin{bmatrix}f_1 \\\\ 0 \\\\ P \\\\ f_4 \\end{bmatrix} =\n",
    "\\begin{bmatrix}\n",
    "     k_1 & -k_1 & 0 & 0\\\\\n",
    "     -k_1 & k_1+k_2 & -k_2 & 0\\\\\n",
    "     0 & -k_2 & k_2 + k_3 & -k_2\\\\\n",
    "     0 & 0 & -k_3 & k_3\n",
    "     \\end{bmatrix}\n",
    "\\begin{bmatrix}\n",
    "    0 \\\\ \\frac{P k_2}{k_1 k_2 + k_1 k_3 + k_2 k_3} \\\\ \\frac{P(k_1 + k_2)}{k_1 k_2 + k_1 k_3 + k_2 k_3} \\\\ 0\n",
    "    \\end{bmatrix}\n",
    "$$<br><br>\n",
    "\n",
    "\n",
    "$$\\boxed{f_3 = \\frac{-k_1 P k_2}{k_1 k_2 + k_1 k_3 + k_2 k_3}}$$\n",
    "$$\\boxed{f_4 = \\frac{-k_3 P(k_1 + k_2)}{k_1 k_2 + k_1 k_3 + k_2 k_3}}$$\n"
   ]
  }
 ],
 "metadata": {
  "celltoolbar": "Slideshow",
  "kernelspec": {
   "display_name": "Python 2",
   "language": "python",
   "name": "python2"
  },
  "language_info": {
   "codemirror_mode": {
    "name": "ipython",
    "version": 2
   },
   "file_extension": ".py",
   "mimetype": "text/x-python",
   "name": "python",
   "nbconvert_exporter": "python",
   "pygments_lexer": "ipython2",
   "version": "2.7.15"
  }
 },
 "nbformat": 4,
 "nbformat_minor": 2
}
