{
 "cells": [
  {
   "cell_type": "code",
   "execution_count": 3,
   "metadata": {},
   "outputs": [],
   "source": [
    "%matplotlib inline\n",
    "\n",
    "import matplotlib.pyplot as plt;\n",
    "import numpy as np;\n",
    "import pandas as pd;\n",
    "import sympy as sp;\n",
    "\n",
    "sp.init_printing()"
   ]
  },
  {
   "cell_type": "code",
   "execution_count": 2,
   "metadata": {},
   "outputs": [],
   "source": [
    "#################\n",
    "#################\n",
    "##  FUNCTIONS  ##\n",
    "#################\n",
    "#################\n",
    "def conv_deg_to_rad(angle_deg = 45):\n",
    "    angle_rad = angle_deg*sp.pi.evalf()/180;\n",
    "    return(angle_rad);\n",
    "\n",
    "def calc_t_star(angle_deg=45, dimensions=2):\n",
    "    angle_rad = conv_deg_to_rad(angle_deg);\n",
    "    if dimensions==2:\n",
    "        t_star = sp.Matrix(\n",
    "            [\n",
    "                [sp.cos(angle_rad), sp.sin(angle_rad), 0, 0],\n",
    "                [-sp.sin(angle_rad), sp.cos(angle_rad), 0, 0],\n",
    "                [0, 0, sp.cos(angle_rad), sp.sin(angle_rad)],\n",
    "                [0, 0, -sp.sin(angle_rad), sp.cos(angle_rad)]               \n",
    "            ]);\n",
    "        return(t_star);\n",
    "    elif dimensions==3:\n",
    "        print(\"3D bar functionality has not yet been implimented.\");\n",
    "        return(None)\n",
    "    else:\n",
    "        print(\"Invalid Entry, bar can only exist in 2D or 3D.\")\n",
    "        return(None)\n",
    "    \n",
    "def conv_in_to_m(inches = [1, 1, 1]):\n",
    "    m = [0, 0, 0];\n",
    "    for i,j in enumerate(inches):\n",
    "        m[i] = j*25.4/1000;\n",
    "    return(m);\n",
    "\n",
    "def conv_lbf_to_N(lbf=[1, 1, 1]):\n",
    "    N = [];\n",
    "    for i,j in enumerate(lbf):\n",
    "        N.append(j*4.44822)\n",
    "    return(N);\n"
   ]
  },
  {
   "cell_type": "markdown",
   "metadata": {},
   "source": [
    "<a name=\"TOC\"></a>\n",
    "\n",
    "# Table of Contents\n",
    "***\n",
    "***\n",
    "1. [Chapter Summary](#CS)\n",
    " 1. [Stiffness Matrix for a bar element in Local Coordinates](#CS_stiff)\n",
    " 1. [Shape Functions](#CS_shape)\n",
    " 1. [Vector Transformations for a bar in 2D](#CS_trans2d)\n",
    " 1. [Stiffness Matrix for a bar in 2D](#CS_stiff2d)\n",
    " 1. [Stress calculations for a bar in 2D](#CS_stress2d)\n",
    " 1. [Vector Transformations for a bar in 3D](#CS_trans3d)\n",
    " 1. [Stress calculations for a bar in 3D](#CS_stress3d)\n",
    " 1. [Inclined/Skewed constraints](#CS_cnstrnt)\n",
    " 1. [Potential Energy Approach](#CS_pe)\n",
    " 1. [Galerkin's Residual Method to derive 1D bar element equation](#CS_galerkin)\n",
    " 1. [Review of other Residual Methods](#CS_residual)\n",
    "2. [Problems](#Prob)\n",
    " 1. [3.1](#Prob_31)\n",
    " 1. [3.13](#Prob_313)\n",
    " 1. [3.15](#Prob_315)\n",
    " 1. [3.16](#Prob_316)\n",
    " 1. [3.20](#Prob_320)\n",
    " 1. [3.21](#Prob_321)\n",
    " 1. [3.42](#Prob_342)\n",
    " 1. [3.49](#Prob_349)\n",
    "3. [Simulations](#Sim)\n",
    "  1. [3.20](#Sim_320)\n",
    "  1. [3.42](#Sim_342)\n",
    "  1. [3.49](#Sim_349)"
   ]
  },
  {
   "cell_type": "markdown",
   "metadata": {},
   "source": [
    "<a name=\"CS\"></a>\n",
    "## Chapter Summary\n",
    "***"
   ]
  },
  {
   "cell_type": "markdown",
   "metadata": {},
   "source": [
    "<a name=\"CS_stiff\"></a>\n",
    "### Stiffness Matrix for a bar element in Local Coordinates\n",
    "\n",
    "The bar, or truss, is considered to be have a constant cross sectional area $A$, has a length of $L$, and is only capable of resisting axial deflections caused by tensile force $T$ and therefore gives us the ability to approximate tensile stresses $\\sigma$; to calculate these fields, the bar will be made of a linear elastic material with a modulus of elasticity $E$ that allows conversions between the tensile stress and strains $\\epsilon$. The previous chapters considered idealized springs which resisted axial deflections but did not have stress since there was no cross sectional area to distribute the force over.<br>\n",
    "To begin, let's define axial stress $\\sigma_x$ as the distribution of the tensile force $T$ at a node of the bar element over the bar's cross sectional area $A$.\n",
    "\n",
    "$$\\sigma = \\frac{T}{A}$$<br>\n",
    "Next, we relate the axial strain of the bar $\\epsilon_x$ to $\\sigma_x$ using Hooke's law and the modulus of elasticity of the bar's material, $E$.\n",
    "\n",
    "$$\\sigma_x = E\\epsilon_x$$<br>\n",
    "The axial strain of the bar is defined by the change in length of the bar element over the original length of the bar element. \n",
    "\n",
    "$$\\epsilon_x = \\frac{du}{dx}$$<br>\n",
    "We can now combine the above equations and solve for the nodal force to get closer to the format used in the previous chapters.\n",
    "\n",
    "$$ T = EA\\frac{du}{dx}$$<br>\n",
    "Initial considerations of a bar will only have loads applied at the nodes which yields the property that the change in stress of the bar along it's length is 0.\n",
    "\n",
    "$$\\frac{d}{dx}\\biggl(EA\\frac{du}{dx}\\biggr) = 0$$<br>\n",
    "Neither the cross sectional area, nor the modulus of elasticity have been taken out of the derivative in preparation for a time when the cross sectional area and/or material property varies along the length of the bar element.\n",
    "<br><br>\n",
    "[TOC](#TOC)\n"
   ]
  },
  {
   "cell_type": "code",
   "execution_count": 3,
   "metadata": {},
   "outputs": [
    {
     "data": {
      "image/png": "[encoded data removed]",
      "text/plain": [
       "<Figure size 432x288 with 1 Axes>"
      ]
     },
     "metadata": {
      "needs_background": "light"
     },
     "output_type": "display_data"
    }
   ],
   "source": [
    "plt.quiver(0,0, 1, 0, scale=2);\n",
    "plt.quiver(0,0,0,1, scale=20);\n",
    "plt.quiver(0,0, 0.8, .2, scale=2);\n",
    "plt.grid()\n",
    "plt.xlim(-2,2);\n",
    "plt.ylim(-1.50,1.50);\n",
    "plt.show()"
   ]
  },
  {
   "cell_type": "markdown",
   "metadata": {},
   "source": [
    "<a name=\"CS_shape\"></a>\n",
    "### Shape Functions\n",
    "\n",
    "The matrix equations allow for the approximation of the field equations at nodes. It is often necessary to approximate one of the field values at a some location that is in/on an element but is in between the end nodes. To do this, we requiquire an interpolation equation that blends the value of a field variable between all pertinent nodes. In the case of the bar element, we need a way of approximating the displacement at any location on the element. To do this, we assume a displacement function for our element as\n",
    "\n",
    "$$u(x) = a_0 + a_1x$$<br>\n",
    "In general, the displacement functions has as many constants as the element has Degrees of Freedom (DOF). If our bar element had an intermediate node, then our assumed displacement function would be $u(x) = a_0 + a_1x + a_2x^2$. To determine the values of the constants, we enforce the \"boundary conditions\" of the bar element that $u(0)=u_0$ and $u(L) = u_1$\n",
    "\n",
    "$$u(0) = u_0 = a_1$$<br>\n",
    "$$u(L) = u_1 = u_0 + a_1L \\implies a_1 = \\frac{u_1-u_0}{L}$$\n",
    "$$u(x) = u_0 + \\frac{u_1-u_0}{L}x$$\n",
    "$$u(x) = u_0(1-\\frac{x}{L}) + u_1(\\frac{x}{L})$$\n",
    "$$u(x) = \\begin{bmatrix}1-\\frac{x}{L} & \\frac{x}{L}\\end{bmatrix}\\begin{bmatrix}u_0\\\\u_1\\end{bmatrix}$$\n",
    "$$u(x) = \\begin{bmatrix}N_0 & N_1\\end{bmatrix}\\begin{bmatrix}u_0\\\\u_1\\end{bmatrix}\\ \\  where\\ N_0 = 1-\\frac{x}{L}\\ \\  and\\ \\  N_1 = \\frac{x}{L}$$<br>\n",
    "$N_0$ and $N_1$ are called shape functions and they contain the following properties:\n",
    "1. Must be continuous within the bar element\n",
    "2. Shape functions between two elements which share a node must conform with eachother. This prevents two elements from seperating or overlapping at the node. This property of the shape functions is the reason they are sometimes reffered to as *conforming* or *compatibility* functions. This basic assumption is critical to FEA and allows the information from one element to pass to the next element.\n",
    "3. Must allow for rigid body motion; consequently, the shape functions of an element must sum to be zero. In the case of the bar element, if $u_0$ and $u_1$ are equal, then $u(x) = 1$\n",
    "\n",
    "[TOC](#TOC)"
   ]
  },
  {
   "cell_type": "markdown",
   "metadata": {},
   "source": [
    "<a name=\"CS_trans2d\"></a>\n",
    "### Vector Transformations for a bar in 2D\n",
    "\n",
    "![alt text](FEM_ch3_2d_rotation.png \"Rotation of coordinate system in 2D\")\n",
    "\n",
    "For Reasons that will become apparant later, we need a way of jumping between the global coordinate system, which has $\\boldsymbol{i}$ and $\\boldsymbol{j}$ unit vectors aligned with the global x and y axis, and the local coordinate system, which has $\\boldsymbol{i}'$ and $\\boldsymbol{j}'$ unit vectors with the $\\boldsymbol{i}'$ unit vector aligned with the axis of the bar element and the $\\boldsymbol{j}'$ unit vector perpendicular to the axis. In the 2D case, lets assume that the local coordinate system has been rotated by an $\\theta$ radians from the global coordinate system. We can then define the local unit vectors as some combination of sines and cosines of the global unit vectors as.\n",
    "\n",
    "$$ \\boldsymbol{i}' = \\boldsymbol{i} \\cos{\\theta} + \\boldsymbol{j} \\sin{\\theta}$$\n",
    "$$ \\boldsymbol{j}' = -\\boldsymbol{i} \\sin{\\theta} + \\boldsymbol{j} \\cos{\\theta}$$<br>\n",
    "writing in matrix notation we get\n",
    "\n",
    "$$\\begin{bmatrix} \\boldsymbol{i}' \\\\ \\boldsymbol{j}' \\end{bmatrix} = \n",
    "\\begin{bmatrix} \\cos{\\theta} & \\sin{\\theta} \\\\ -\\sin{\\theta} & \\cos{\\theta} \\end{bmatrix}\n",
    "\\begin{bmatrix}\\boldsymbol{i} \\\\ \\boldsymbol{j} \\end{bmatrix}$$<br>\n",
    "In shorthand notation we write\n",
    "\n",
    "$$\\begin{bmatrix} \\boldsymbol{i}' \\\\ \\boldsymbol{j}' \\end{bmatrix} = \n",
    "\\begin{bmatrix} C & S \\\\ -S & C \\end{bmatrix}\n",
    "\\begin{bmatrix}\\boldsymbol{i} \\\\ \\boldsymbol{j} \\end{bmatrix}$$<br><br>\n",
    "where $C = \\cos{\\theta}$ and $S=\\sin{\\theta}$. This *transformation*, or *rotation*, *matrix* can be used on transfer any vector quantity from the local coordinate system, or basis, to the global coordinate system or vice-versa. It is left to the reader to investigate the interesting relationship between the inverse and trasnpose of the transformation matrix; this odd but useful property is a result of the rotation matrix being orthogonal.<br>\n",
    "\n",
    "\n",
    "[TOC](#TOC)"
   ]
  },
  {
   "cell_type": "markdown",
   "metadata": {},
   "source": [
    "<a name=\"CS_stiff2d\"></a>\n",
    "### Stiffness matrix for a bar in 2D\n",
    "\n",
    "In the case of the stiffness matrix, lets analyze a bar element oriented at an angle $\\theta$ relative to the global coordinate system. In the local coordinate system, we express the system of equations as\n",
    "\n",
    "$$ \\begin{bmatrix}f_1' \\\\ f_2' \\end{bmatrix} = \n",
    "\\begin{bmatrix}k & -k \\\\ -k & k \\end{bmatrix}\n",
    "\\begin{bmatrix}u_1' \\\\ u_2' \\end{bmatrix}\n",
    "\\implies\n",
    "\\boldsymbol{f}' = \\boldsymbol{k}' \\boldsymbol{d}'$$<br>\n",
    "To determine the transformation matrix, we look at the displacement vectors and see that\n",
    "\n",
    "$$u_1' = u_1 C + v_1 S$$\n",
    "$$u_2' = u_2 C + v_2 S$$<br>\n",
    "yielding the equation\n",
    "\n",
    "$$\\begin{bmatrix} u_1' \\\\ u_2' \\end{bmatrix} = \n",
    "\\begin {bmatrix} C & S & 0 & 0 \\\\ 0 & 0 & C & S \\end{bmatrix}\n",
    "\\begin{bmatrix}u_1 \\\\ v_1 \\\\ u_2 \\\\ v_2 \\end{bmatrix}$$<br>\n",
    "or more conciseley\n",
    "\n",
    "$$ \\boldsymbol{d}' = \\boldsymbol{T}^* \\boldsymbol{d}$$<br>\n",
    "The * is used to indicate that the transformation is incomplete/incorrect for reasons that will be apparent later. This equation can be substituted into the system of equations for the local coordinate system and yields\n",
    "\n",
    "$$ \\boldsymbol{f}' = \\boldsymbol{k}' \\boldsymbol{T}^* \\boldsymbol{d}$$<br>\n",
    "similarly \n",
    "\n",
    "$$\\begin{bmatrix}f_1' \\\\ f_2' \\end{bmatrix} = \n",
    "\\boldsymbol{T}^*\n",
    "\\begin{bmatrix}f_{1x} \\\\ f_{1y} \\\\ f_{2x} \\\\ f_{2y} \\end{bmatrix} \n",
    "\\implies\n",
    "\\boldsymbol{f}' = \\boldsymbol{T}^* \\boldsymbol{f}\n",
    "$$<br>\n",
    "which can also be substituted into the previous equation yielding\n",
    "\n",
    "$$\\boldsymbol{T}^* \\boldsymbol{f} = \\boldsymbol{k}' \\boldsymbol{T}^* \\boldsymbol{d}$$<br>\n",
    "Though this system of equations is technically true, it yields an immediate issue if one tries to solve for $\\boldsymbol{d}$ as has been done in previous sections; the transformation matrix $\\boldsymbol{T}^*$ is not square and is therefore non-invertible. To rectify this, the entire system of equation must be expanded to include $v_1'$, $v_2'$, $f_1'$, and $f_2'$ in the original system of equations even though they must all come to be 0. This activity is left to the reader, for which they should reference the derivation in the \"Vector Transformation for a bar in 2D\" section. We find the correct transformation matrix to be\n",
    "\n",
    "$$ \\boldsymbol{T} = \n",
    "\\begin{bmatrix}C & S & 0 & 0 \\\\ -S & C & 0 & 0 \\\\ 0 & 0 & C & S \\\\ 0 & 0 & -S & C \\end{bmatrix}$$<br>\n",
    "which gives the displacement transformation of\n",
    "\n",
    "$$ \\begin{bmatrix}u_1' \\\\ v_1' \\\\ u_2' \\\\ v_2' \\end{bmatrix} = \n",
    "\\boldsymbol{T}\n",
    "\\begin{bmatrix} u_1 \\\\ v_1 \\\\ u_2 \\\\ v_2 \\end{bmatrix}$$<br>\n",
    "\n",
    "$$ \\begin{bmatrix}f_1' \\\\ f_1' \\\\ f_2' \\\\ f_2' \\end{bmatrix} = \n",
    "\\boldsymbol{T}\n",
    "\\begin{bmatrix} f_{1x} \\\\ f_{1y} \\\\ f_{2x} \\\\ f_{2y} \\end{bmatrix}$$<br>\n",
    "\n",
    "Therefore\n",
    "$$ \\boldsymbol{T} \\boldsymbol{f} = \\boldsymbol{k}' \\boldsymbol{T} \\boldsymbol{d}$$<br>\n",
    "$$ \\boldsymbol{f} = \\boldsymbol{T}^{-1}\\boldsymbol{k}' \\boldsymbol{T} \\boldsymbol{d}$$<br>\n",
    "$$ \\therefore \\boldsymbol{f} = \\boldsymbol{k}\\boldsymbol{d}\\ \\ where\\ \\ \\boldsymbol{k} = \\boldsymbol{T}^T\\boldsymbol{k}\\boldsymbol{T}$$<br>\n",
    "[TOC](#TOC)"
   ]
  },
  {
   "cell_type": "markdown",
   "metadata": {},
   "source": [
    "### Stress Calculations for a bar in 2D\n",
    "\n",
    "Calculating the stress in a bar element begins with determining the nodal forces on the element. The equation for the forces is repeated here.\n",
    "\n",
    "$$ \\begin{bmatrix} f_1' \\\\ f_2' \\end{bmatrix} =\n",
    "\\frac{A E}{L} \\begin{bmatrix} 1 & -1 \\\\ -1 & 1 \\end{bmatrix}\n",
    "\\begin{bmatrix} u_1' \\\\ u_2' \\end{bmatrix} $$<br>\n",
    "Stress is defined as force over the cross sectional area $\\sigma = \\frac{f_2'}{A}$. Using the matrix definition above we notice\n",
    "\n",
    "$$\\boldsymbol{\\sigma} = \\frac{E}{L}\n",
    "\\begin{bmatrix}-1 & 1\\end{bmatrix}\n",
    "\\begin{bmatrix}u_1' \\\\ u_2' \\end{bmatrix} = \n",
    "\\frac{E}{L}\n",
    "\\begin{bmatrix}-1 & 1\\end{bmatrix} \\boldsymbol{d}'$$<br>\n",
    "In this case, we used the equation corresponding to $f_2^'$; either equation can be used, but the reader must remember that a positive, or tensile, stress is one which points away from the element under consideration. That is a \"possitive\" stress will be positive on the right node and negative on the left node. Using the incomplete transformation from the previous section to relate the stress field variable to the global coordinate system we get\n",
    "\n",
    "$$ \\boldsymbol{\\sigma} = \\frac{E}{L}\n",
    "\\begin{bmatrix}-1 & 1 \\end{bmatrix}\n",
    "\\boldsymbol{T}^*\\boldsymbol{d}$$<br>\n",
    "\n",
    "$$ \\boldsymbol{\\sigma} = \\boldsymbol{C}^*\\boldsymbol{d}$$<br> \n",
    "where\n",
    "$$\\boldsymbol{C}^* = \\frac{E}{L}\n",
    "\\begin{bmatrix}-1 & 1 \\end{bmatrix}\n",
    "\\begin{bmatrix} C & S & 0 & 0 \\\\ 0 & 0 & C & S\\end{bmatrix} = \n",
    "\\frac{E}{L}\n",
    "\\begin{bmatrix} -C & -S & C & S \\end{bmatrix}$$<br>\n",
    "\n",
    "In this instance we can use the \"incomplete\" transformation matrix $T*$ because the system no matrix will need to be inverted or transposed in order to find the variable in question. This should serve as a reminder that, even though the typical output for and FEA is the stress field, we must first solve for the displacement field and then use those results to calculate the stress field.<br>\n",
    "[TOC](#TOC)"
   ]
  },
  {
   "cell_type": "markdown",
   "metadata": {},
   "source": [
    "<a name=\"CS_trans3d\"></a>\n",
    "### Vector Transformations for a bar in 3D\n",
    "\n",
    "Similar to the work done in the \"Vector Transformations for a bar in 2D,\" we now need to develop a tranfromation, or rotation, matrix which allows us to translate from the bar coordinate system to the global coordinate system. To do this we state\n",
    "\n",
    "$$ u' \\hat{i}' + v' \\hat{j}' + w' \\hat{k} = u \\hat{i} + v \\hat{j} + w \\hat{k} $$<br>\n",
    "where the \"'\" indicates the local coordinate system. If we premultiply the equation by $\\hat{i}'$ we get\n",
    "\n",
    "$$ u' \\hat{i}' \\dot{} \\hat{i}' + v' \\hat{i}' \\dot{} \\hat{j}' + w' \\hat{i}' \\dot{} \\hat{k} = u \\hat{i}' \\dot{} \\hat{i} + v \\hat{i}' \\dot{} \\hat{j} + w \\hat{i}' \\dot{} \\hat{k} $$<br>\n",
    "\n",
    "Recal that $A \\dot{} B = |A||B| \\cos{\\theta_{AB}} $ where $\\theta_{AB}$ is the angle between the A axis and B axis. Also, recall that the local coordinate system for a bar element has the x' axis aligned with the bar element so there is $v'$ or $w'$ displacement values.\n",
    "\n",
    "$$ u' = u \\cos{\\theta_x} + v \\cos{\\theta_y} + w \\cos{\\theta_z} $$<br>\n",
    "where $\\theta_x$ is the angle between the local and global x axis, $\\theta_y$ is the angle between the local x axis and the global y axis, and $\\theta_z$ is the angle between the local x axis and the global z axis. Expanding we get\n",
    "\n",
    "$$\\begin{Bmatrix} u_1' \\\\ u_2' \\end{Bmatrix} = \n",
    "\\begin{bmatrix} C_x & C_y & C_z & 0 & 0 & 0 \\\\ 0 & 0 & 0 & C_x & C_y & C_z \\end{bmatrix}\n",
    "\\begin{Bmatrix} u_1 \\\\ v_1 \\\\ w_1 \\\\ u_2 \\\\ v_2 \\\\ w_2 \\end{Bmatrix}$$<br>\n",
    "or more concisely\n",
    "\n",
    "$$\\{d'\\} = [T^*] \\{d\\}$$<br>\n",
    "and\n",
    "\n",
    "$$ \\{f'\\} = [T^*] \\{f\\} \\implies [T^*]^T \\{f'\\} = \\{f\\} $$<br>\n",
    "and\n",
    "\n",
    "$$ \\{f\\}' = [K']\\{d'\\} $$<br>\n",
    "$$ \\{f\\}' = [K'][T^*]\\{d\\}$$<br>\n",
    "premultiply by $[T*]^T$\n",
    "\n",
    "$$ [T*]^T\\{f\\}' = [T*]^T[K'][T^*]\\{d\\} \\implies \\{f\\} = [T*]^T[K'][T^*]\\{d\\} $$<br>\n",
    "$$\\therefore [K] = [T^*]^T[K'][T^*]$$\n",
    "<br>\n",
    "[TOC](#TOC)"
   ]
  },
  {
   "cell_type": "markdown",
   "metadata": {},
   "source": [
    "<a name=\"CS_stress3d\"></a>\n",
    "### Stress Calculations for a bar in 3D\n",
    "\n",
    "[TOC](#TOC)"
   ]
  },
  {
   "cell_type": "markdown",
   "metadata": {},
   "source": [
    "<a name=\"CS_cnstrnt\"></a>\n",
    "### Inclined/Skewed Constraints\n",
    "\n",
    "[TOC](#TOC)"
   ]
  },
  {
   "cell_type": "markdown",
   "metadata": {},
   "source": [
    "<a name=\"CS_pe\"></a>\n",
    "### Potential Energy Approach\n",
    "\n",
    "Recall from chapter 2 that the stiffness matrix can be derived by minimizing the potential energy function for elements with linear elastic materials. To do this, we must first derive the $U$ and $\\Omega$ in the equation $\\pi_p = U + \\Omega$.<br>\n",
    "\n",
    "![alt text](./FEM_ch3_pip_diff_elem.png \"Differential element used for Potential Energy Derivation of bar element in 2D\")<br>\n",
    "\n",
    "To begin with, we will develop an expression for the internal energy, $U$, by using the differential element above. Starting from the generic understanding that the internal energy is a product of the internal forces and the change in shape, $U = F \\Delta L$, we  realize that $F = \\sigma\\ Area$, $Area = \\Delta y \\Delta z$, and the change in length $\\Delta L$ is the product of the strain on the element $\\epsilon_x$ and the elements original length $\\Delta x$.\n",
    "\n",
    "$$ \\delta U = \\sigma_x \\Delta y \\Delta z \\mathrm{d} \\epsilon_x \\Delta x = \\sigma_x \\delta \\epsilon_x \\mathrm{d}V$$<br>\n",
    "integrating, we see that\n",
    "\n",
    "$$ U = \\iiint \\left( \\int_0^{\\epsilon_x} \\sigma_x \\mathrm{d} \\epsilon_x \\right) \\mathrm{d} V $$<br>\n",
    "For linear elastic material, we know that stress and strain are linearly related by the modulus of elasticity. Realizing that the area under the stress strain curve is $\\frac{1}{2}\\sigma_x \\epsilon_x$ we get\n",
    "\n",
    "$$ \\boldsymbol{U} = \\iiint \\frac{1}{2} \\boldsymbol{\\sigma}_x^T \\boldsymbol{\\epsilon}_x \\mathrm{d}  V = \\frac{A}{2} \\int \\boldsymbol{\\sigma}_x^T \\boldsymbol{\\epsilon}_x \\mathrm{d}x$$<br>\n",
    "Next, we will form an expression for the Work done on the element by external forces $\\Omega$. With a little thought, we realize that there are 3 ways that external forces can be applied; the standard nodal forces ($P$) which we have dealt with previously, traction forces ($T_s$) which are applied to the surface ($S$) of the element, and lastly body forces ($X_b$) which are applied to the mass of the element. An example of body forces would be the gravity field applied to the mass of the element. An example of traction forces would be friction on one side of the element due to contact with another element. With a little consideration, we see that\n",
    "\n",
    "$$\\Omega = \\boldsymbol{u}^T \\boldsymbol{P} + \\iint_S \\boldsymbol{u}_S^T \\boldsymbol{T}_S \\mathrm{d} S+ \\iiint \\boldsymbol{u}^T \\boldsymbol{X}_b \\mathrm{d} V$$<br>\n",
    "finally, we can express the potential energy of the element as\n",
    "\n",
    "$$\\boldsymbol{\\pi}_p = \\frac{A}{2} \\int \\boldsymbol{\\sigma}_x^T \\boldsymbol{\\epsilon}_x \\mathrm{d}x - \\boldsymbol{u}^T \\boldsymbol{P} - \\iint_S \\boldsymbol{u}_S^T \\boldsymbol{T}_S \\mathrm{d}S - \\iiint \\boldsymbol{u}^T \\boldsymbol{X}_b \\mathrm{d} V$$<br>\n",
    "from here, we expend some effort to express all terms as a function of the displacement vector $\\boldsymbol{d}$. Recall $\\boldsymbol{u} = \\boldsymbol{N}\\boldsymbol{d}$, and logically $\\boldsymbol{u}_S = \\boldsymbol{N}_S \\boldsymbol{d}$ and<br>\n",
    "\n",
    "$$\\boldsymbol{N} = \\begin{bmatrix} 1-\\frac{x}{L} & \\frac{x}{L} \\end{bmatrix}$$\n",
    "\n",
    "$$\\epsilon = \\frac{\\partial{u}}{\\partial{x}} \\implies \\boldsymbol{\\epsilon}_x = \\frac{\\partial}{\\partial x} \\boldsymbol{N} \\boldsymbol{d} = \\boldsymbol{B}\\boldsymbol{d}$$\n",
    "where the gradient matrix $\\boldsymbol{B}$ is defined as $\\boldsymbol{B} = \\begin{bmatrix} -\\frac{1}{L} & \\frac{1}{L} \\end{bmatrix}$<br>\n",
    "Next we use Hooke's law to determine $\\boldsymbol{\\sigma}$ in terms of the displacement matrix<br>\n",
    "\n",
    "$$\\boldsymbol{\\sigma}_x = \\boldsymbol{D} \\boldsymbol{\\epsilon}_x = \\boldsymbol{D} \\boldsymbol{B} \\boldsymbol{d} $$<br>\n",
    "where $\\boldsymbol{D}$ is the modulus of elasticity $E$ for a bar element. From here we can restate the potential energy expression while recalling the fact that $\\bigl( \\boldsymbol{A}\\boldsymbol{B}\\bigr)^T = \\boldsymbol{B}^T \\boldsymbol{A}^T$\n",
    "\n",
    "$$\\boldsymbol{\\pi}_p = \\frac{A}{2}\\int_0^L \\boldsymbol{d}^T \\boldsymbol{B}^T \\boldsymbol{D}^T \\boldsymbol{B} \\boldsymbol{d} \\mathrm{d}x - \\boldsymbol{d}^T \\boldsymbol{P} - \\iint \\boldsymbol{d}^T \\boldsymbol{N}_S^T \\boldsymbol{T}_S \\mathrm{d}S - \\iiint \\boldsymbol{d}^T \\boldsymbol{N}^T \\boldsymbol{X}_b \\mathrm{d}V$$<br>\n",
    "In the case of bar elements with linear shape functions, none of the variables in the first term are a function of x allowing for easy integration yielding\n",
    "\n",
    "$$\\boldsymbol{\\pi}_p = \\frac{A\\ L}{2}\\boldsymbol{d}^T \\boldsymbol{B}^T \\boldsymbol{D}^T \\boldsymbol{B} \\boldsymbol{d} - \\boldsymbol{d}^T \\boldsymbol{f}$$\n",
    "where\n",
    "$$\\boldsymbol{f} = \\boldsymbol{P} + \\boldsymbol{f}_S + \\boldsymbol{f}_b $$\n",
    "$$\\boldsymbol{f}_S = \\iint \\boldsymbol{N}_S^T \\boldsymbol{T}_S \\mathrm{d}S$$\n",
    "$$\\boldsymbol{f}_b = \\iiint \\boldsymbol{N}^T \\boldsymbol{X}_b \\mathrm{d}V$$<br>\n",
    "With this expression for the potential energy function, we can now set the derivative equal to zero and solve to establish the stiffness matrix\n",
    "\n",
    "$$\\frac{\\partial d \\boldsymbol{\\pi}_p}{\\partial \\{\\boldsymbol{d}\\}}  = \\frac{\\partial}{\\partial \\{ \\boldsymbol{d}\\}} \\biggl( \\frac{A\\ L}{2}\\boldsymbol{d}^T \\boldsymbol{B}^T \\boldsymbol{D}^T \\boldsymbol{B} \\boldsymbol{d} - \\boldsymbol{d}^T \\boldsymbol{f} \\biggr) = 0$$\n",
    "\n",
    "\n",
    "<br>\n",
    "\n",
    "[TOC](#TOC)"
   ]
  },
  {
   "cell_type": "markdown",
   "metadata": {},
   "source": [
    "<a name=\"CS_galerkin\"></a>\n",
    "### Galerkin's Residual Method to derive 1D bar element equation\n",
    "\n",
    "[TOC](#TOC)"
   ]
  },
  {
   "cell_type": "markdown",
   "metadata": {},
   "source": [
    "<a name=\"CS_residual\"></a>\n",
    "### Review of other Residual Methods\n",
    "\n",
    "[TOC](#TOC)"
   ]
  },
  {
   "cell_type": "markdown",
   "metadata": {},
   "source": [
    "<a name=\"Prob\"></a>\n",
    "\n",
    "## Problems\n",
    "***"
   ]
  },
  {
   "cell_type": "markdown",
   "metadata": {},
   "source": [
    "<a name=\"Prob_31\"></a>\n",
    "### Problem 3.1\n",
    "\n",
    "**Problem Statement:**<br>\n",
    "__a__. Compute the total stiffness matrix $[K]$ of the assemblage shown in Figure P3-1 by superimposing the stiffness matrices of the individual bars. Note that $[K]$ should be in terms of $A_1$, $A_2$, $A_3$, $E_1$, $E_2$, $E_3$, $L_1$, $L_2$, and $L_3$. Here A, E, and L are generic symbols used for cross-sectional area, modulus of elasticity, and length, respectively.<br>\n",
    "\n",
    "__b__. Now let $A_1 = A_2 = A_3 = A$, $E_1 = E_2 = E_3 = E$, and $L_1 = L_2 = L_3 = L$. If nodes 1 and 4 are fixed and a force P acts at node 3 in the positive x direction, find expressions for the displacement of nodes 2 and 3 in terms of A, E, L, and P.<br>\n",
    "\n",
    "__c__. Now let $A=1\\ in^2$, $E=10*10^6\\ psi$, $L=10\\ in.$, and $P=1000\\ lbf$.\n",
    "1. Determine the numberical values of the displacements of nodes 2 and 3.\n",
    "1. Determine the numberical values of the reactions at nodes 1 and 4.\n",
    "1. Determine the stresses in elements 1-3."
   ]
  },
  {
   "cell_type": "code",
   "execution_count": 4,
   "metadata": {},
   "outputs": [
    {
     "name": "stdout",
     "output_type": "stream",
     "text": [
      "The global stiffness matrix is\n"
     ]
    },
    {
     "data": {
      "text/latex": [
       "$$\\left[\\begin{matrix}\\frac{A_{1} E_{1}}{L_{1}} & - \\frac{A_{1} E_{1}}{L_{1}} & 0 & 0\\\\- \\frac{A_{1} E_{1}}{L_{1}} & \\frac{A_{1} E_{1}}{L_{1}} + \\frac{A_{2} E_{2}}{L_{2}} & - \\frac{A_{2} E_{2}}{L_{2}} & 0\\\\0 & - \\frac{A_{2} E_{2}}{L_{2}} & \\frac{A_{2} E_{2}}{L_{2}} + \\frac{A_{3} E_{3}}{L_{3}} & - \\frac{A_{3} E_{3}}{L_{3}}\\\\0 & 0 & - \\frac{A_{3} E_{3}}{L_{3}} & \\frac{A_{3} E_{3}}{L_{3}}\\end{matrix}\\right]$$"
      ],
      "text/plain": [
       "⎡ A₁⋅E₁      -A₁⋅E₁                            ⎤\n",
       "⎢ ─────      ───────           0           0   ⎥\n",
       "⎢   L₁          L₁                             ⎥\n",
       "⎢                                              ⎥\n",
       "⎢-A₁⋅E₁   A₁⋅E₁   A₂⋅E₂     -A₂⋅E₂             ⎥\n",
       "⎢───────  ───── + ─────     ───────        0   ⎥\n",
       "⎢   L₁      L₁      L₂         L₂              ⎥\n",
       "⎢                                              ⎥\n",
       "⎢            -A₂⋅E₂      A₂⋅E₂   A₃⋅E₃  -A₃⋅E₃ ⎥\n",
       "⎢   0        ───────     ───── + ─────  ───────⎥\n",
       "⎢               L₂         L₂      L₃      L₃  ⎥\n",
       "⎢                                              ⎥\n",
       "⎢                           -A₃⋅E₃       A₃⋅E₃ ⎥\n",
       "⎢   0           0           ───────      ───── ⎥\n",
       "⎣                              L₃          L₃  ⎦"
      ]
     },
     "execution_count": 4,
     "metadata": {},
     "output_type": "execute_result"
    }
   ],
   "source": [
    "A, A1, A2, A3 = sp.symbols(\"A A_1 A_2 A_3\");\n",
    "E, E1, E2, E3 = sp.symbols(\"E E_1 E_2 E_3\");\n",
    "L, L1, L2, L3 = sp.symbols(\"L L_1 L_2 L_3\");\n",
    "f1, f2, f3, f4 = sp.symbols(\"f_1 f_2 f_3 f_4\");\n",
    "u1, u2, u3, u4 = sp.symbols(\"u_1, u_2, u_3, u_4\");\n",
    "P = sp.symbols(\"P\");\n",
    "\n",
    "k1 = (A1*E1/L1)*sp.Matrix([\n",
    "    [1, -1, 0, 0],\n",
    "    [-1, 1, 0, 0],\n",
    "    [0, 0, 0, 0],\n",
    "    [0, 0, 0, 0]]);\n",
    "\n",
    "k2 = (A2*E2/L2)*sp.Matrix([\n",
    "    [0, 0, 0, 0],\n",
    "    [0, 1, -1, 0],\n",
    "    [0, -1, 1, 0],\n",
    "    [0, 0, 0, 0]]);\n",
    "\n",
    "k3 = (A3*E3/L3)*sp.Matrix([\n",
    "    [0, 0, 0, 0],\n",
    "    [0, 0, 0, 0],\n",
    "    [0, 0, 1, -1],\n",
    "    [0, 0, -1, 1]]);\n",
    "\n",
    "K=k1 + k2 + k3;\n",
    "print(\"\"\"The global stiffness matrix is\"\"\");\n",
    "K"
   ]
  },
  {
   "cell_type": "code",
   "execution_count": 5,
   "metadata": {},
   "outputs": [],
   "source": [
    "# Create the nodal force vector\n",
    "F = sp.Matrix([f1, f2, f3, f4]);\n",
    "# apply nodal force P to node 3\n",
    "F[2] = P;\n",
    "# Create the nodal displacement vector\n",
    "d = sp.Matrix([u1, u2, u3, u4]);\n",
    "\n",
    "# Apply the Boundary Conditions that u1 = u4 = 0\n",
    "d[0] = 0;\n",
    "d[3] = 0;\n",
    "\n",
    "# Create modified displacement vector and drop rows where the displacement is 0\n",
    "dmod = d.copy()\n",
    "dmod.row_del(3);\n",
    "dmod.row_del(0);\n",
    "\n",
    "# Create a modified force vector and drop the rows where the displacement is 0\n",
    "fmod = F.copy();\n",
    "fmod[1] = 0;\n",
    "fmod.row_del(3);\n",
    "fmod.row_del(0);\n",
    "\n",
    "\n",
    "# Create modified stiffness matrix and drop rows and columns where displacement is 0\n",
    "kmod = K.copy();\n",
    "kmod.row_del(3);\n",
    "kmod.row_del(0);\n",
    "kmod.col_del(3);\n",
    "kmod.col_del(0);"
   ]
  },
  {
   "cell_type": "code",
   "execution_count": 6,
   "metadata": {},
   "outputs": [
    {
     "name": "stdout",
     "output_type": "stream",
     "text": [
      "u2 expression is\n"
     ]
    },
    {
     "data": {
      "image/png": "[encoded data removed]",
      "text/latex": [
       "$$\\frac{L P}{3 A E}$$"
      ],
      "text/plain": [
       " L⋅P \n",
       "─────\n",
       "3⋅A⋅E"
      ]
     },
     "execution_count": 6,
     "metadata": {},
     "output_type": "execute_result"
    }
   ],
   "source": [
    "eq = kmod.inv()*fmod-dmod\n",
    "dsol_u2 = sp.solve(eq[0], u2)\n",
    "print(\"u2 expression is\")\n",
    "dsol_u2 = dsol_u2[0].subs([(A1, A), (A2, A), (A3, A), (E1, E), (E2, E), (E3, E), (L1, L), (L2, L), (L3, L)])\n",
    "dsol_u2"
   ]
  },
  {
   "cell_type": "code",
   "execution_count": 7,
   "metadata": {},
   "outputs": [
    {
     "name": "stdout",
     "output_type": "stream",
     "text": [
      "u3 expression is\n"
     ]
    },
    {
     "data": {
      "image/png": "[encoded data removed]",
      "text/latex": [
       "$$\\frac{2 L P}{3 A E}$$"
      ],
      "text/plain": [
       "2⋅L⋅P\n",
       "─────\n",
       "3⋅A⋅E"
      ]
     },
     "execution_count": 7,
     "metadata": {},
     "output_type": "execute_result"
    }
   ],
   "source": [
    "dsol_u3 = sp.solve(eq[1], u3)\n",
    "print(\"u3 expression is\")\n",
    "dsol_u3 = dsol_u3[0].subs([(A1, A), (A2, A), (A3, A), (E1, E), (E2, E), (E3, E), (L1, L), (L2, L), (L3, L)]);\n",
    "dsol_u3"
   ]
  },
  {
   "cell_type": "code",
   "execution_count": 8,
   "metadata": {},
   "outputs": [
    {
     "name": "stdout",
     "output_type": "stream",
     "text": [
      "u2 displacement would be 3.333E-4 inches\n",
      "u3 displacement would be 6.667E-4 inches\n"
     ]
    }
   ],
   "source": [
    "print(\"u2 displacement would be {:1.3E} inches\".format(dsol_u2.subs([(A,1), (E,10E6), (L,10), (P,1000)])))\n",
    "print(\"u3 displacement would be {:1.3E} inches\".format(dsol_u3.subs([(A,1), (E,10E6), (L,10), (P,1000)])))"
   ]
  },
  {
   "cell_type": "code",
   "execution_count": 9,
   "metadata": {},
   "outputs": [
    {
     "name": "stdout",
     "output_type": "stream",
     "text": [
      "\n",
      "    The reaction at node 1 is -3.333E+2 lbf\n",
      "    The reaction at node 4 is -6.667E+2 lbf\n"
     ]
    }
   ],
   "source": [
    "d[1] = dsol_u2.subs([(A,1), (E,10E6), (L,10), (P,1000)]); \n",
    "d[2] = dsol_u3.subs([(A,1), (E,10E6), (L,10), (P,1000)]);\n",
    "print(\"\"\"\n",
    "    The reaction at node 1 is {:1.3E} lbf\n",
    "    The reaction at node 4 is {:1.3E} lbf\"\"\".format(\n",
    "        (K.subs([(A1, 1), (A2, 1), (A3, 1), (E1, 10E6), (E2, 10E6), (E3, 10E6), (L1, 10), (L2, 10), (L3, 10)])*d)[0],\n",
    "        (K.subs([(A1, 1), (A2, 1), (A3, 1), (E1, 10E6), (E2, 10E6), (E3, 10E6), (L1, 10), (L2, 10), (L3, 10)])*d)[3]));"
   ]
  },
  {
   "cell_type": "code",
   "execution_count": 10,
   "metadata": {},
   "outputs": [
    {
     "name": "stdout",
     "output_type": "stream",
     "text": [
      "\n",
      "The stress in element 1 is 3.333E+2 psi\n",
      "The stress in element 2 is 3.333E+2 psi\n",
      "The stress in element 3 is -6.667E+2 psi\n",
      "\n"
     ]
    }
   ],
   "source": [
    "d[1] = dsol_u2;\n",
    "d[2] = dsol_u3;\n",
    "F[0] = (K.subs([(A1, 1), (A2, 1), (A3, 1), (E1, 10E6), (E2, 10E6), (E3, 10E6), (L1, 10), (L2, 10), (L3, 10)])*d)[0];\n",
    "F[1] = (K.subs([(A1, 1), (A2, 1), (A3, 1), (E1, 10E6), (E2, 10E6), (E3, 10E6), (L1, 10), (L2, 10), (L3, 10)])*d)[1];\n",
    "F[2] = 1000;\n",
    "F[3] = (K.subs([(A1, 1), (A2, 1), (A3, 1), (E1, 10E6), (E2, 10E6), (E3, 10E6), (L1, 10), (L2, 10), (L3, 10)])*d)[3];\n",
    "sigma = sp.Matrix([(k1*d)[1], (k2*d)[2], (k3*d)[3]]).subs([(A, 1), (A1, 1), (A2, 1), (A3, 1), (E, 10E6), (E1, 10E6), (E2, 10E6), (E3, 10E6), (L,10), (L1, 10), (L2, 10), (L3, 10), (P,1000)])\n",
    "print(\"\"\"\n",
    "The stress in element 1 is {:1.3E} psi\n",
    "The stress in element 2 is {:1.3E} psi\n",
    "The stress in element 3 is {:1.3E} psi\n",
    "\"\"\".format(sigma[0], sigma[1], sigma[2]))\n",
    "del(A, A1, A2, A3, E, E1, E2, E3, L, L1, L2, L3, f1, f2, f3, f4, u1, u2, u3, u4, P, k1 ,k2, k3, K, F, d, dmod, fmod, kmod, eq, dsol_u2, dsol_u3, sigma)"
   ]
  },
  {
   "cell_type": "markdown",
   "metadata": {},
   "source": [
    "[TOC](#TOC)"
   ]
  },
  {
   "cell_type": "markdown",
   "metadata": {},
   "source": [
    "<a name=\"Prob_313\"></a>\n",
    "### Problem 3.13\n",
    "\n",
    "![alt text](FEM_ch3_p313.png \"Logan, Daryl L.(5th Edition).(2019) <br> A First Course in the FINITE ELEMENT METHOD. Stamford, CT: Global Engineering\")\n",
    "\n",
    "**Problem Statement:**<br>\n",
    "Determine the stiffness matrix for the bar element with end nodes and midlength node shown in Figure P3-13. Let axial displacement $u=a_1 +a_2x + a_3x^2$. (This is a higher-order element in that strain now varies linearly through the element.)<br>\n",
    "\n",
    "**Given:**<br>\n",
    "$u(x)=a_1 + a_2x + a_3x^2$<br>\n",
    "\n",
    "**Find:**<br>\n",
    "stiffness matrix $\\boldsymbol{K}$<br>\n",
    "\n",
    "**Assume:**<br>\n",
    "1. bar element has modulus of elasticity $E$\n",
    "1. bar element has cross sectional area $A$\n",
    "1. $u(-\\frac{L}{2}) = u_1$\n",
    "1. $u(0) = u_3$\n",
    "1. $u(\\frac{L}{2}) = u_2$\n",
    "\n",
    "**Solution:**\n"
   ]
  },
  {
   "cell_type": "code",
   "execution_count": 11,
   "metadata": {},
   "outputs": [
    {
     "name": "stdout",
     "output_type": "stream",
     "text": [
      "B is \n"
     ]
    },
    {
     "data": {
      "text/latex": [
       "$$\\left[\\begin{matrix}- \\frac{1}{L} + \\frac{4 x}{L^{2}} & \\frac{1}{L} + \\frac{4 x}{L^{2}} & - \\frac{8 x}{L^{2}}\\end{matrix}\\right]$$"
      ],
      "text/plain": [
       "⎡  1   4⋅x  1   4⋅x  -8⋅x ⎤\n",
       "⎢- ─ + ───  ─ + ───  ─────⎥\n",
       "⎢  L     2  L     2     2 ⎥\n",
       "⎣       L        L     L  ⎦"
      ]
     },
     "execution_count": 11,
     "metadata": {},
     "output_type": "execute_result"
    }
   ],
   "source": [
    "a1, a2, a3, x = sp.symbols(\"a_1 a_2 a_3 x\")\n",
    "u1, u2, u3 = sp.symbols(\"u_1 u_2 u_3\")\n",
    "f, L, A, E= sp.symbols(\"f L A E\")\n",
    "\n",
    "u = a1 + a2*x + a3*x**2;\n",
    "u = u.subs(a1, sp.solve(u.subs(x,-L/2) - u1, a1)[0]);\n",
    "u = u.subs(a2, sp.solve(u.subs(x, 0) - u3, a2)[0]);\n",
    "u = u.subs(a3, sp.solve(u.subs(x, L/2) - u2, a3)[0]);\n",
    "\n",
    "N = sp.Matrix([[sp.collect(sp.expand(u), [u1, u2, u3]).args[0].args[1],\n",
    "               sp.collect(sp.expand(u), [u1, u2, u3]).args[1].args[1],\n",
    "               sp.collect(sp.expand(u), [u1, u2, u3]).args[2].args[1]]]);\n",
    "\n",
    "D = sp.Matrix([E, E, E]);\n",
    "d = sp.Matrix([u1, u2, u3]);\n",
    "B = N.diff(x);\n",
    "P = sp.Matrix([0, f, 0]);\n",
    "\n",
    "pip = (A/2)*sp.integrate((d.transpose()*B.transpose()*E*B*d)[0], (x, 0, L)) - (d.transpose()*P)[0];\n",
    "dpipdu = sp.Matrix(\n",
    "    [\n",
    "        sp.collect(sp.expand(pip.diff(u1)), [u1, u2, u3]),\n",
    "        sp.collect(sp.expand(pip.diff(u2)), [u1, u2, u3]),\n",
    "        sp.collect(sp.expand(pip.diff(u3)), [u1, u2, u3])\n",
    "    ]);\n",
    "\n",
    "K = sp.Matrix(\n",
    "    [\n",
    "        [\n",
    "            sp.collect(dpipdu[0], [u1, u2, u3]).args[2]/u1, \n",
    "            sp.collect(dpipdu[0], [u1, u2, u3]).args[1]/u2, \n",
    "            sp.collect(dpipdu[0], [u1, u2, u3]).args[0]/u3\n",
    "        ],\n",
    "        [\n",
    "            sp.collect(dpipdu[1], [u1, u2, u3]).args[2]/u1,\n",
    "            sp.collect(dpipdu[1], [u1, u2, u3]).args[3]/u2,\n",
    "            sp.collect(dpipdu[1], [u1, u2, u3]).args[1]/u3,\n",
    "        ],\n",
    "        [\n",
    "            sp.collect(dpipdu[2], [u1, u2, u3]).args[0]/u1, \n",
    "            sp.collect(dpipdu[2], [u1, u2, u3]).args[1]/u2, \n",
    "            sp.collect(dpipdu[2], [u1, u2, u3]).args[2]/u3\n",
    "        ],\n",
    "    ]\n",
    ")/(A*E/L);\n",
    "\n",
    "print(\"B is \");\n",
    "B"
   ]
  },
  {
   "cell_type": "code",
   "execution_count": 12,
   "metadata": {},
   "outputs": [
    {
     "name": "stdout",
     "output_type": "stream",
     "text": [
      "K is \n"
     ]
    },
    {
     "data": {
      "text/latex": [
       "$$\\left[\\begin{matrix}\\frac{13 u_{2}}{3 u_{1}} & \\frac{7 u_{1}}{3 u_{2}} & - \\frac{20}{3}\\\\\\frac{13}{3} & \\frac{31}{3} & - \\frac{44}{3}\\\\- \\frac{44 u_{2}}{3 u_{1}} & - \\frac{20 u_{1}}{3 u_{2}} & \\frac{64}{3}\\end{matrix}\\right]$$"
      ],
      "text/plain": [
       "⎡ 13⋅u₂    7⋅u₁         ⎤\n",
       "⎢ ─────    ────    -20/3⎥\n",
       "⎢  3⋅u₁    3⋅u₂         ⎥\n",
       "⎢                       ⎥\n",
       "⎢ 13/3     31/3    -44/3⎥\n",
       "⎢                       ⎥\n",
       "⎢-44⋅u₂   -20⋅u₁        ⎥\n",
       "⎢───────  ───────  64/3 ⎥\n",
       "⎣  3⋅u₁     3⋅u₂        ⎦"
      ]
     },
     "execution_count": 12,
     "metadata": {},
     "output_type": "execute_result"
    }
   ],
   "source": [
    "print(\"K is \");\n",
    "K"
   ]
  },
  {
   "cell_type": "code",
   "execution_count": 13,
   "metadata": {},
   "outputs": [],
   "source": [
    "del(a1, a2, a3, x,u1, u2, u3, f, L, A, E);"
   ]
  },
  {
   "cell_type": "code",
   "execution_count": 14,
   "metadata": {},
   "outputs": [],
   "source": [
    "u1, u2, x, L = sp.symbols(\"u_1 u_2 x L\")\n",
    "a1, a2, E, f, R1, R2, A = sp.symbols(\"a_1 a_2 E f R1 R2 A\")\n",
    "\n",
    "u = a1 + a2*x;\n",
    "u = u.subs(a1, sp.solve(u.subs(x,0)-u1, a1)[0]);\n",
    "u = u.subs(a2, sp.solve(u.subs(x,L)-u2, a2)[0]);\n",
    "N = sp.Matrix([[\n",
    "    sp.collect(u.expand(), [u1, u2]).args[0].args[1],\n",
    "    sp.collect(u.expand(), [u1, u2]).args[1]/u2]]);\n",
    "\n",
    "B = N.diff(x);\n",
    "\n",
    "d = sp.Matrix([u1, u2])\n",
    "D = E\n",
    "P = sp.Matrix([R1, f])\n",
    "pip = ((A/2)*sp.integrate(d.transpose()*B.transpose()*D*B*d, (x, 0, L)) - d.transpose()*P)[0];\n",
    "\n",
    "    "
   ]
  },
  {
   "cell_type": "markdown",
   "metadata": {},
   "source": [
    "[TOC](#TOC)"
   ]
  },
  {
   "cell_type": "markdown",
   "metadata": {},
   "source": [
    "<a name=\"Prob_315\"></a>\n",
    "### Problem 3.15¶\n",
    "\n",
    "![alt text](FEM_ch3_p15.png \"Logan, Daryl L.(5th Edition).(2019) <br> A First Course in the FINITE ELEMENT METHOD. Stamford, CT: Global Engineering\")\n",
    "\n",
    "**Problem Statement:**<br>\n",
    "For each of the bar elements shown in Figure P3-15, evaluate the global x-y stiffness matrix<br>\n",
    "\n",
    "**Given:**<br>\n",
    "$E_a = 30E6\\ psi$<br>\n",
    "$A_a = 3\\ in^2$<br>\n",
    "$L_a = 20\\ in$<br>\n",
    "$\\theta_a = 45\\ deg$<br>\n",
    "\n",
    "$E_b = 15E6\\ psi$<br>\n",
    "$A_b = 1\\ in^2$<br>\n",
    "$L_b = 15\\ in$<br>\n",
    "$\\theta_b = 120\\ deg$<br>\n",
    "\n",
    "$E_c = 210E9\\ Pa$<br>\n",
    "$A_c = 4E-4\\ m^2$<br>\n",
    "$L_c = 3\\ m$<br>\n",
    "$\\theta_c = -30\\ deg$<br>\n",
    "\n",
    "$E_d = 70E9\\ Pa$<br>\n",
    "$A_d = 2E-4\\ m^2$<br>\n",
    "$L_d = 1\\ m$<br>\n",
    "$\\theta_d = 20\\ deg$<br>\n",
    "\n",
    "**Find:**<br>\n",
    "Global stiffness matrix $[K]$.<br>\n",
    "\n",
    "**Assumption:**<br>\n",
    "For problem 3.15d, the \"global\" coordinate system is slanted, not the element that we are analysing. This flips the sign of the angle.<br>\n",
    "\n",
    "**Solution:**"
   ]
  },
  {
   "cell_type": "code",
   "execution_count": 15,
   "metadata": {},
   "outputs": [
    {
     "name": "stdout",
     "output_type": "stream",
     "text": [
      "answer #1 is 4.00E+6 multiplied by\n",
      "⎡0.5   0.5   -0.5  -0.5⎤\n",
      "⎢                      ⎥\n",
      "⎢0.5   0.5   -0.5  -0.5⎥\n",
      "⎢                      ⎥\n",
      "⎢-0.5  -0.5  0.5   0.5 ⎥\n",
      "⎢                      ⎥\n",
      "⎣-0.5  -0.5  0.5   0.5 ⎦\n",
      "\n",
      "\n",
      "\n",
      "answer #2 is 1.00E+6 multiplied by\n",
      "⎡ 0.25   -0.433  -0.25   0.433 ⎤\n",
      "⎢                              ⎥\n",
      "⎢-0.433   0.75   0.433   -0.75 ⎥\n",
      "⎢                              ⎥\n",
      "⎢-0.25   0.433    0.25   -0.433⎥\n",
      "⎢                              ⎥\n",
      "⎣0.433   -0.75   -0.433   0.75 ⎦\n",
      "\n",
      "\n",
      "\n",
      "answer #3 is 3.00E+7 multiplied by\n",
      "⎡ 0.75   -0.433  -0.75   0.433 ⎤\n",
      "⎢                              ⎥\n",
      "⎢-0.433   0.25   0.433   -0.25 ⎥\n",
      "⎢                              ⎥\n",
      "⎢-0.75   0.433    0.75   -0.433⎥\n",
      "⎢                              ⎥\n",
      "⎣0.433   -0.25   -0.433   0.25 ⎦\n",
      "\n",
      "\n",
      "\n",
      "answer #4 is 1.00E+7 multiplied by\n",
      "⎡0.883   0.321   -0.883  -0.321⎤\n",
      "⎢                              ⎥\n",
      "⎢0.321   0.117   -0.321  -0.117⎥\n",
      "⎢                              ⎥\n",
      "⎢-0.883  -0.321  0.883   0.321 ⎥\n",
      "⎢                              ⎥\n",
      "⎣-0.321  -0.117  0.321   0.117 ⎦\n",
      "\n",
      "\n",
      "\n"
     ]
    }
   ],
   "source": [
    "#################################################\n",
    "## Create Array of parameters for each problem ##\n",
    "#################################################\n",
    "E = sp.Matrix([[30E6, 15E6, 210E9, 70E9]]);\n",
    "A = sp.Matrix([[3, 1, 4E-4, 2E-4]]);\n",
    "L = sp.Matrix([[20, 15, 3, 1]]);\n",
    "theta = sp.Matrix([[45, 120, -30, 20]])\n",
    "\n",
    "###################################################\n",
    "## Stiffness Matrices in local coordinate system ##\n",
    "###################################################\n",
    "kl = sp.Matrix([[1, 0, -1, 0], [0, 0, 0, 0], [-1, 0, 1, 0], [0, 0, 0, 0]]);\n",
    "\n",
    "#####################################\n",
    "## Calc. global stiffness matrices ##\n",
    "#####################################\n",
    "K = [0, 0, 0, 0];\n",
    "\n",
    "for i, j in enumerate(E):\n",
    "    T = calc_t_star(theta[i]);\n",
    "    print(\"answer #{:} is {:1.2E} multiplied by\".format(i+1, (A[i]*E[i]/L[i]).evalf(1)));\n",
    "    sp.pprint((T.transpose()*kl*T).evalf(3));\n",
    "    print(\"\\n\\n\")"
   ]
  },
  {
   "cell_type": "markdown",
   "metadata": {},
   "source": [
    "[TOC](#TOC)"
   ]
  },
  {
   "cell_type": "markdown",
   "metadata": {},
   "source": [
    "<a name=\"Prob_316\"></a>\n",
    "### Problem 3.16\n",
    "\n",
    "![alt text](FEM_ch3_p16.png \"Logan, Daryl L.(5th Edition).(2019) <br> A First Course in the FINITE ELEMENT METHOD. Stamford, CT: Global Engineering\")\n",
    "\n",
    "\n",
    "**Problem Statement:**<br>\n",
    "For the bar elements shown in Figure P3-16, the global displacements have been determined to be $u_1=15\\ in$, $v_1 =0$, $u_2 = 0.25\\ in$, and $v_2 = 0.75\\ in$. Determine the local x displacements at each end of the bars. Let $E=12\\times10^6\\ psi$, $A = 0.5\\ in^2$, and $L = 60\\ in$ for each element.<br>\n",
    "\n",
    "**Given:**<br>\n",
    "\n",
    "|Variable|Value|\n",
    "| :-----: | :---: |\n",
    "|$\\theta_1$|$30^{\\circ}$|\n",
    "|$u_1$|0.50|\n",
    "|$v_1$|0.00|\n",
    "|$\\theta_2$|$-30^{\\circ}$|\n",
    "|$u_2$|0.25|\n",
    "|$v_2$|0.75|\n",
    "\n",
    "<br>\n",
    "**Find:**<br>\n",
    "\n",
    "|Variable|\n",
    "|:--:|\n",
    "|$u_1$|\n",
    "|$u_2$|\n",
    "\n",
    "**Solution:**<br>"
   ]
  },
  {
   "cell_type": "code",
   "execution_count": 16,
   "metadata": {},
   "outputs": [
    {
     "name": "stdout",
     "output_type": "stream",
     "text": [
      "answer a is \n",
      "⎡0.433⎤\n",
      "⎢     ⎥\n",
      "⎣0.592⎦\n",
      "\n",
      "\n",
      "\n",
      " answer b is \n",
      "⎡0.433 ⎤\n",
      "⎢      ⎥\n",
      "⎣-0.159⎦\n"
     ]
    }
   ],
   "source": [
    "u1, v1, u2, v2,theta, theta1, theta2 = sp.symbols(\"u_1 v_1 u_2 v_2 theta theta_1 theta_2\")\n",
    "U = sp.Matrix([\n",
    "    u1,\n",
    "    v1,\n",
    "    u2,\n",
    "    v2]);\n",
    "\n",
    "theta1=30;\n",
    "theta2=-30;\n",
    "\n",
    "T_star = sp.Matrix(\n",
    "    [\n",
    "        [sp.cos(theta), sp.sin(theta), 0, 0],\n",
    "        [0, 0, sp.cos(theta), sp.sin(theta)]\n",
    "    ]\n",
    ");\n",
    "\n",
    "Ua = T_star.subs(theta,conv_deg_to_rad(theta1))*U.subs([(u1, 0.50),(v1,0.0),(u2,0.25),(v2,0.75)])\n",
    "Ub = T_star.subs(theta,conv_deg_to_rad(theta2))*U.subs([(u1, 0.50),(v1,0.0),(u2,0.25),(v2,0.75)])\n",
    "print(\"answer a is \")\n",
    "sp.pprint(Ua.evalf(3))\n",
    "print(\"\\n\\n\\n answer b is \");\n",
    "sp.pprint(Ub.evalf(3));\n",
    "del(Ub, Ua, T_star, u1, v1, u2, v2, theta, theta1, theta2)"
   ]
  },
  {
   "cell_type": "markdown",
   "metadata": {},
   "source": [
    "[TOC](#TOC)"
   ]
  },
  {
   "cell_type": "markdown",
   "metadata": {},
   "source": [
    "<a name=\"Prob_320\"></a>\n",
    "### Problem 3.20\n",
    "\n",
    "![alt text](FEM_ch3_p20.png \"Logan, Daryl L.(5th Edition).(2019) <br> A First Course in the FINITE ELEMENT METHOD. Stamford, CT: Global Engineering\")\n",
    "\n",
    "**Problem Statement:**<br>\n",
    "For the plane truss structure shown in Figure P3-20, determine the displacement of node 2 using the stiffness method. Also determine the stress in element 1. Let $A=5\\ in^2$, $E=1 \\times 10^6\\ psi$, and $L=100\\ in$.<br>\n",
    "\n",
    "**Given:**<br>\n",
    "\n",
    "|Variable|Value|Units|\n",
    "| :-: | :-: | :-: |\n",
    "| $A$ | 5 | $in^2$ |\n",
    "| $E$ | 10^6 | $psi$ |\n",
    "| $L$ | 100 | $in$ |\n",
    "| $f_{2y}$ | 10000 | $lbf$ |<br>\n",
    "\n",
    "**Find:**<br>\n",
    "$u_2$<br>\n",
    "$v_2$<br>\n",
    "$\\sigma_1$<br>\n",
    "\n",
    "**Assumption:**<br>\n",
    "The problem is symmetrical about vertical plane through node 2.<br>\n",
    "\n",
    "**Solution:**<br>"
   ]
  },
  {
   "cell_type": "code",
   "execution_count": 17,
   "metadata": {},
   "outputs": [
    {
     "name": "stdout",
     "output_type": "stream",
     "text": [
      "The global displacement of node 2 is:\n",
      " \n",
      "      0.000 inches in 'X' direction\n",
      "\n",
      "      and 0.283 inches in 'Y' direction.\n",
      "\n",
      "The stress of the element is 1414.214 in Tension\n"
     ]
    }
   ],
   "source": [
    "## Create Variables ##\n",
    "u11p, u12p, v11p, v12p = sp.symbols(\"{u'}_{11} {u'}_{12} {v'}_{11} {v'}_{12}\");\n",
    "u11, v11, u12, v12 = sp.symbols(\"u_{11} v_{11} u_{12} v_{12}\");\n",
    "L, theta, A, E = sp.symbols(\"L theta A E\");\n",
    "f11x, f11y, f12x, f12y = sp.symbols(\"f_{11x} f_{11y} f_{12x} f_{12y}\" );\n",
    "\n",
    "## Assign Values to Variables ##\n",
    "## Recall that symmetry is being used so the force is halved ##\n",
    "L = 100;\n",
    "E = 10**6;\n",
    "A = 5;\n",
    "f2y = 5000;\n",
    "theta = conv_deg_to_rad(45);\n",
    "C = sp.cos(theta);\n",
    "S = sp.sin(theta);\n",
    "\n",
    "## Matrices for local coordinate system of element 1 ##\n",
    "d1p = sp.Matrix([u11p, v11p, u12p, v12p])\n",
    "length = L/sp.cos(theta);\n",
    "k1p = (A*E/length)*sp.Matrix([\n",
    "    [1, 0, -1, 0],\n",
    "    [0, 0, 0, 0],\n",
    "    [-1, 0, 1, 0],\n",
    "    [0, 0, 0, 0]\n",
    "]);\n",
    "\n",
    "T1star = sp.Matrix([\n",
    "    [C, S, 0, 0],\n",
    "    [-S, C, 0, 0],\n",
    "    [0, 0, C, S],\n",
    "    [0, 0, -S, C]\n",
    "]);\n",
    "\n",
    "## Matrices for global coordinates ##\n",
    "## Remember: u2=0 due to symmetry\n",
    "k = T1star.transpose()*k1p*T1star\n",
    "d = sp.Matrix([0, 0, u12, v12]);\n",
    "d[2] = 0.0;\n",
    "f = sp.Matrix([f11x, f11y, f12x, f2y])\n",
    "\n",
    "## Create Modified Global Matrices based on displacements that must be zero ##\n",
    "d_reduced = d.copy()\n",
    "d_reduced.row_del(2)\n",
    "d_reduced.row_del(1)\n",
    "d_reduced.row_del(0)\n",
    "\n",
    "k_reduced = k.copy()\n",
    "k_reduced.row_del(2)\n",
    "k_reduced.row_del(1)\n",
    "k_reduced.row_del(0)\n",
    "k_reduced.col_del(2)\n",
    "k_reduced.col_del(1)\n",
    "k_reduced.col_del(0)\n",
    "\n",
    "f_reduced = f.copy();\n",
    "f_reduced.row_del(2);\n",
    "f_reduced.row_del(1);\n",
    "f_reduced.row_del(0);\n",
    "\n",
    "## Calculate global displacements ##\n",
    "d[3] = k_reduced.inv()*f_reduced;\n",
    "print(\"\"\"The global displacement of node 2 is:\\n \n",
    "      {:3.3f} inches in \\'X' direction\\n\n",
    "      and {:3.3f} inches in \\'Y' direction.\"\"\"\n",
    "     .format(d[2], d[3]))\n",
    "\n",
    "## find displacement of element 1 in local coordinate system ##\n",
    "d1p = (T1star*d);\n",
    "\n",
    "## Calculate the force on each node ##\n",
    "f1p = k1p*d1p;\n",
    "\n",
    "## Calculate the stress (& direction)\n",
    "sigma =(f1p/A)[2]\n",
    "print(\"\"\"\\nThe stress of the element is {:3.3f} in Tension\"\"\".format(sigma))\n",
    "\n",
    "\n",
    "del(u11p, u12p, v11p, v12p, u11, v11, u12, v12, L, theta, A, E, f11x, f11y, f12x, f12y, C, S, d1p, length, T1star, k1p, k, d, f, d_reduced, k_reduced, f_reduced, sigma)"
   ]
  },
  {
   "cell_type": "markdown",
   "metadata": {},
   "source": [
    "[TOC](#TOC)"
   ]
  },
  {
   "cell_type": "markdown",
   "metadata": {},
   "source": [
    "<a name=\"Prob_321\"></a>\n",
    "### Problem 3.21\n",
    "\n",
    "![alt text](FEM_ch3_p21.png \"Logan, Daryl L.(5th Edition).(2019) <br> A First Course in the FINITE ELEMENT METHOD. Stamford, CT: Global Engineering\")\n",
    "\n",
    "**Problem Statement:**<br>\n",
    "Find the horizontal and vertical displacements of node 1 for the truss shown in Figure P3-21. Assume $AE$ isthe same for each element.<br>\n",
    "\n",
    "**Given:** <br>\n",
    "\n",
    "| Variable | Value | Units |\n",
    "| :--: | :--: | :--: |\n",
    "| $\\theta_f$ | $45$ | degrees |\n",
    "| $\\theta_1$ | $60$ | degrees |\n",
    "| $\\theta_2$ | $90$ | degrees |\n",
    "| $\\theta_3$ | $120$ | degrees |\n",
    "| $f_1$ | $141$ | lbf |\n",
    "\n",
    "**Find:**<br>\n",
    "$u_{1x}$<br>\n",
    "$v_{1x}$<br>\n",
    "\n",
    "**Assumption:**<br>\n",
    "$$\\{\\boldsymbol{d}\\} = \n",
    "\\begin{Bmatrix} u_{1} \\\\ v_{1} \\\\u_{2} \\\\ v_{2} \\\\ u_{3} \\\\ v_{3} \\\\ u_{4} \\\\ v_{4}\n",
    "\\end{Bmatrix}\n",
    "$$\n",
    "\n",
    "$$\n",
    "\\{\\boldsymbol{F}\\} = \n",
    "\\begin{Bmatrix}\n",
    "f_{1x} \\\\ f_{1y} \\\\ f_{2x} \\\\ f_{2y} \\\\ f_{3x} \\\\ f_{3y} \\\\ f_{4x} \\\\ f_{4y}\n",
    "\\end{Bmatrix}\n",
    "$$\n",
    "\n",
    "**Solution:**"
   ]
  },
  {
   "cell_type": "code",
   "execution_count": 18,
   "metadata": {},
   "outputs": [
    {
     "data": {
      "text/latex": [
       "$$\\left[\\begin{matrix}u_{1}\\\\v_{1}\\end{matrix}\\right] = \\left[\\begin{matrix}\\frac{230.0 l_{2}}{A E}\\\\\\frac{43.4 l_{2}}{A E}\\end{matrix}\\right]$$"
      ],
      "text/plain": [
       "       ⎡230.0⋅l₂⎤\n",
       "       ⎢────────⎥\n",
       "⎡u₁⎤   ⎢  A⋅E   ⎥\n",
       "⎢  ⎥ = ⎢        ⎥\n",
       "⎣v₁⎦   ⎢43.4⋅l₂ ⎥\n",
       "       ⎢─────── ⎥\n",
       "       ⎣  A⋅E   ⎦"
      ]
     },
     "execution_count": 18,
     "metadata": {},
     "output_type": "execute_result"
    }
   ],
   "source": [
    "## Create Variables ##\n",
    "thetaf, theta1, theta2, theta3, f1 = sp.symbols(\"theta_f theta_1 theta_2 theta_3 f_1\")\n",
    "l1, l2, l3 = sp.symbols(\"l_1 l_2 l_3\")\n",
    "A, E = sp.symbols(\"A E\")\n",
    "f1x, f1y, f2x, f2y, f3x, f3y, f4x, f4y = sp.symbols(\"f_{1x} f_{1y} f_{2x} f_{2y} f_{3x} f_{3y} f_{4x} f_{4y}\")\n",
    "u1, v1 = sp.symbols(\"u_1 v_1\")\n",
    "\n",
    "## Plug in known/assumed values ##\n",
    "thetaf = conv_deg_to_rad(45);\n",
    "theta1 = conv_deg_to_rad(60);\n",
    "theta2 = conv_deg_to_rad(90);\n",
    "theta3 = conv_deg_to_rad(120);\n",
    "f1x = 141*sp.cos(thetaf);\n",
    "f1y = 141*sp.sin(thetaf);\n",
    "l1 = l2/sp.cos(conv_deg_to_rad(30));\n",
    "l3 = l1;\n",
    "\n",
    "## Stiffness Matrix for elements in local coordinates ##\n",
    "k1p = (A*E/l1)*sp.Matrix(\n",
    "    [\n",
    "        [1, 0, -1, 0, 0, 0, 0, 0],\n",
    "        [0, 0, 0, 0, 0, 0, 0, 0],\n",
    "        [-1, 0, 1, 0, 0, 0, 0, 0],\n",
    "        [0, 0, 0, 0, 0, 0, 0, 0],\n",
    "        [0, 0, 0, 0, 0, 0, 0, 0],\n",
    "        [0, 0, 0, 0, 0, 0, 0, 0],\n",
    "        [0, 0, 0, 0, 0, 0, 0, 0],\n",
    "        [0, 0, 0, 0, 0, 0, 0, 0]\n",
    "    ]\n",
    ");\n",
    "k2p = (A*E/l2)*sp.Matrix(\n",
    "    [\n",
    "        [1, 0, 0, 0, -1, 0, 0, 0],\n",
    "        [0, 0, 0, 0, 0, 0, 0, 0],\n",
    "        [0, 0, 0, 0, 0, 0, 0, 0],\n",
    "        [0, 0, 0, 0, 0, 0, 0, 0],\n",
    "        [-1, 0, 0, 0, 1, 0, 0, 0],\n",
    "        [0, 0, 0, 0, 0, 0, 0, 0],\n",
    "        [0, 0, 0, 0, 0, 0, 0, 0],\n",
    "        [0, 0, 0, 0, 0, 0, 0, 0]\n",
    "    ]\n",
    ");\n",
    "k3p = (A*E/l3)*sp.Matrix(\n",
    "    [\n",
    "        [1, 0, 0, 0, 0, 0, -1, 0],\n",
    "        [0, 0, 0, 0, 0, 0, 0, 0],\n",
    "        [0, 0, 0, 0, 0, 0, 0, 0],\n",
    "        [0, 0, 0, 0, 0, 0, 0, 0],\n",
    "        [0, 0, 0, 0, 0, 0, 0, 0],\n",
    "        [0, 0, 0, 0, 0, 0, 0, 0],\n",
    "        [-1, 0, 0, 0, 0, 0, 1, 0],\n",
    "        [0, 0, 0, 0, 0, 0, 0, 0],\n",
    "    ]\n",
    ");\n",
    "\n",
    "## Transformation Matrix for each element and the force##\n",
    "C1, S1 = sp.cos(theta1), sp.sin(theta1)\n",
    "C2, S2 = sp.cos(theta2), sp.sin(theta2)\n",
    "C3, S3 = sp.cos(theta3), sp.sin(theta3)\n",
    "#CF, SF = sp.cos(thetaf), sp.sin(thetaf)\n",
    "\n",
    "T1 = sp.Matrix(\n",
    "    [\n",
    "        [C1, S1, 0, 0, 0, 0, 0, 0],\n",
    "        [-S1, C1, 0, 0, 0, 0, 0, 0],\n",
    "        [0, 0, C1, S1, 0, 0, 0, 0,],\n",
    "        [0, 0, -S1, C1, 0, 0, 0, 0],\n",
    "        [0, 0, 0, 0, 0, 0, 0, 0,],\n",
    "        [0, 0, 0, 0, 0, 0, 0, 0,],\n",
    "        [0, 0, 0, 0, 0, 0, 0, 0,],\n",
    "        [0, 0, 0, 0, 0, 0, 0, 0,]\n",
    "        \n",
    "    ]);\n",
    "T2 = sp.Matrix(\n",
    "    [\n",
    "        [C2, S2, 0, 0, 0, 0, 0, 0], \n",
    "        [-S2, C2, 0, 0, 0, 0, 0, 0],\n",
    "        [0, 0, 0, 0, 0, 0, 0, 0,],\n",
    "        [0, 0, 0, 0, 0, 0, 0, 0,],\n",
    "        [0, 0, 0, 0, C2, S2, 0, 0],\n",
    "        [0, 0, 0, 0, -S2, C2, 0, 0],\n",
    "        [0, 0, 0, 0, 0, 0, 0, 0,],\n",
    "        [0, 0, 0, 0, 0, 0, 0, 0,],\n",
    "    ]);\n",
    "T3 = sp.Matrix(\n",
    "    [\n",
    "        [C3, S3, 0, 0, 0, 0, 0, 0],\n",
    "        [-S3, C3, 0, 0, 0, 0, 0, 0],\n",
    "        [0, 0, 0, 0, 0, 0, 0, 0,],\n",
    "        [0, 0, 0, 0, 0, 0, 0, 0,],\n",
    "        [0, 0, 0, 0, 0, 0, 0, 0,],\n",
    "        [0, 0, 0, 0, 0, 0, 0, 0,],\n",
    "        [0, 0, 0, 0, 0, 0, C3, S3],\n",
    "        [0, 0, 0, 0, 0, 0, -S3, C3]\n",
    "    ]);\n",
    "\n",
    "#Tf = sp.Matrix([[CF, SF], [-SF, CF]]);\n",
    "\n",
    "## Form Global Matrices ##\n",
    "K = T1.transpose()*k1p*T1 + T2.transpose()*k2p*T2 + T3.transpose()*k3p*T3\n",
    "F = sp.Matrix([f1x, f1y, f2x, f2y, f3x, f3y, f4x, f4y]);\n",
    "d = sp.Matrix([u1, v1, 0, 0, 0, 0, 0, 0])\n",
    "\n",
    "## Form modified global matrices ##\n",
    "K_mod = K.copy()\n",
    "F_mod = F.copy()\n",
    "d_mod = d.copy()\n",
    "\n",
    "dummy=0;\n",
    "for i, j in enumerate(d):\n",
    "    if j==0:\n",
    "        K_mod.col_del(i-dummy);\n",
    "        K_mod.row_del(i-dummy);\n",
    "        F_mod.row_del(i-dummy);\n",
    "        d_mod.row_del(i-dummy);\n",
    "        dummy += 1\n",
    "        \n",
    "## Calculate displacements ##\n",
    "answer = K_mod.inv()*F_mod\n",
    "sp.Eq(d_mod, (K_mod.inv()*F_mod).evalf(3))"
   ]
  },
  {
   "cell_type": "markdown",
   "metadata": {},
   "source": [
    "[TOC](#TOC)"
   ]
  },
  {
   "cell_type": "markdown",
   "metadata": {},
   "source": [
    "<a name=\"Prob_342\"></a>\n",
    "### Problem 3.42<br>\n",
    "\n",
    "**Problem Statement:**<br>\n",
    "For the space truss subjected to a 1000-lb load in the x direction as shown in Figure P3-42, determine the displacement of node 5. Also, determine the stresses in each element. Let $A=25\\times10^{-4}\\ m^2$, $E=2\\times 10^{11} \\frac{N}{m}$ for all elements. The coordinates of each node, in inches, are shown in the figure. Nodes 1-4 are supported by ball-and-socket joints (fixed supports).<br>\n",
    "\n",
    "**Given:**<br>\n",
    "\n",
    "|Variable|Value|Units|\n",
    "|:-:|:-:|:-:|\n",
    "|$A$|$25\\times 10^{-4}$|$m^2$|\n",
    "|E|$2\\times 10^{11}$|$\\frac{N}{m^2}$|\n",
    "|F|4448.22|$N$|\n",
    "\n",
    "**Find:**<br>\n",
    "$u_5$<br>\n",
    "$v_5$<br>\n",
    "$w_5$<br>\n",
    "\n",
    "**Assumptions:**<br>\n",
    "1. All units are metric <br>\n",
    "1. Symmetry can be used to only evaluate elements 1 and 2, by reducing the load to 2224.11 N\n",
    "\n",
    "**Solution:**<br>"
   ]
  },
  {
   "cell_type": "code",
   "execution_count": 176,
   "metadata": {},
   "outputs": [
    {
     "data": {
      "image/png": "[encoded data removed]",
      "text/latex": [
       "$$\\frac{2}{3}$$"
      ],
      "text/plain": [
       "2/3"
      ]
     },
     "execution_count": 176,
     "metadata": {},
     "output_type": "execute_result"
    }
   ],
   "source": [
    "Cz1"
   ]
  },
  {
   "cell_type": "code",
   "execution_count": 178,
   "metadata": {},
   "outputs": [
    {
     "data": {
      "image/png": "[encoded data removed]",
      "text/latex": [
       "$$\\frac{2}{3}$$"
      ],
      "text/plain": [
       "2/3"
      ]
     },
     "execution_count": 178,
     "metadata": {},
     "output_type": "execute_result"
    }
   ],
   "source": [
    "72/L1"
   ]
  },
  {
   "cell_type": "code",
   "execution_count": 156,
   "metadata": {},
   "outputs": [],
   "source": [
    "#A, E, f, L1, L2, k1p, k2p = sp.symbols(\"A E f L_1 L_2 k'_1 k'_2\");\n",
    "u5, w5 = sp.symbols(\"u_5 w_5\");\n",
    "\n",
    "A = 25*10**(-4);\n",
    "E = 2*10**(11);\n",
    "L1 = sp.sqrt(72**2 + 36**2 + 72**2);\n",
    "L2 = sp.sqrt(36**2 + 72**2);\n",
    "f=2224.11;\n",
    "k1p = A*E/L1;\n",
    "k2p = A*E/L2;\n",
    "##############################\n",
    "##############################\n",
    "## Local Stiffness Matrices ##\n",
    "##############################\n",
    "##############################\n",
    "\n",
    "# Element 1 #\n",
    "d1p = sp.Matrix.zeros(2);\n",
    "d1p[0,0] = k1p;\n",
    "d1p[0,1] = -k1p;\n",
    "d1p[1,0] = -k1p;\n",
    "d1p[1,1] = k1p;\n",
    "\n",
    "# Element 2 #\n",
    "d2p = sp.Matrix.zeros(2);\n",
    "d2p[0,0] = k2p;\n",
    "d2p[0,1] = -k2p;\n",
    "d2p[1,0] = -k2p;\n",
    "d2p[1,1] = k2p;\n",
    "\n",
    "#############################\n",
    "#############################\n",
    "## Transformation Matrices ##\n",
    "#############################\n",
    "#############################\n",
    "\n",
    "##################################\n",
    "## unit vector for each element ##\n",
    "##################################\n",
    "u1 = sp.Matrix([72, 36, 72]);\n",
    "u1 = u1.normalized()\n",
    "u2 = sp.Matrix([0, 36, 72]);\n",
    "u2 = u2.normalized();\n",
    "x = sp.Matrix([1, 0, 0]); # unit vector in global x direction\n",
    "y = sp.Matrix([0, 1, 0]); # unit vector in global y direction\n",
    "z = sp.Matrix([0, 0, 1]); # unit vector in global z direction\n",
    "\n",
    "################################################################\n",
    "## Angle Cosines between elements and global x, y, and z axis ##\n",
    "################################################################\n",
    "Cx1 = u1.dot(x);\n",
    "Cy1 = u1.dot(y);\n",
    "Cz1 = u1.dot(z);\n",
    "\n",
    "Cx2 = u2.dot(x);\n",
    "Cy2 = u2.dot(y);\n",
    "Cz2 = u2.dot(z);\n",
    "\n",
    "#############################\n",
    "## Transformation matrices ##\n",
    "#############################\n",
    "T1 = sp.Matrix(\n",
    "    [\n",
    "        [Cx1, Cy1, Cz1, 0, 0, 0],\n",
    "        [0, 0, 0, Cx1, Cy1, Cz1]\n",
    "    ]);\n",
    "T2 = sp.Matrix(\n",
    "    [\n",
    "        [Cx2, Cy2, Cz2, 0, 0, 0],\n",
    "        [0, 0, 0, Cx2, Cy2, Cz2]\n",
    "    ]);\n",
    "\n",
    "\n",
    "############################\n",
    "############################\n",
    "## Global Stifness Matrix ##\n",
    "############################\n",
    "############################\n",
    "\n",
    "############################\n",
    "## Small stiffness matrix ##\n",
    "############################\n",
    "k1 = (T1.transpose()*(A*E/L1)*k1p*T1).evalf();\n",
    "k2 = (T2.transpose()*(A*E/L2)*k2p*T2).evalf();\n",
    "\n",
    "############################################\n",
    "## Expand stiffness matrices to full size ##\n",
    "############################################\n",
    "empty_6 = sp.Matrix.zeros(1,6);\n",
    "empty_9 = sp.Matrix.zeros(9, 1);\n",
    "for i in range(3):\n",
    "    k1 = k1.row_insert(3, empty_6)\n",
    "    k2 = k2.row_insert(0, empty_6)\n",
    "for i in range(3):\n",
    "    k1 = k1.col_insert(3, empty_9)\n",
    "    k2 = k2.col_insert(0, empty_9)\n",
    "del(empty_6, empty_9)\n",
    "K = k1 + k2;\n",
    "\n",
    "#########################\n",
    "#########################\n",
    "## Global Force Matrix ##\n",
    "#########################\n",
    "#########################\n",
    "F = sp.Matrix.zeros(9, 1)\n",
    "F[6,0] = f;\n",
    "\n",
    "################################\n",
    "################################\n",
    "## Global displacement Matrix ##\n",
    "################################\n",
    "################################\n",
    "d = sp.Matrix.zeros(9,1);\n",
    "d[6,0] = u5;\n",
    "d[7,0] = 0;\n",
    "d[8,0] = w5;\n",
    "\n",
    "########################################################################################\n",
    "########################################################################################\n",
    "## Reduce size of matrices by eliminating rows/columns that have BC of 0 displacement ##\n",
    "########################################################################################\n",
    "########################################################################################\n",
    "dummy_n = 0;\n",
    "dummy = d.copy()\n",
    "for i, j in enumerate(dummy):\n",
    "    if j == 0:\n",
    "        d.row_del(i-dummy_n);\n",
    "        F.row_del(i-dummy_n);\n",
    "        K.row_del(i-dummy_n);\n",
    "        K.col_del(i-dummy_n);\n",
    "        dummy_n+=1;\n",
    "del(dummy_n, dummy);\n",
    "\n",
    "#############################\n",
    "#############################\n",
    "## Solve for displacements ##\n",
    "#############################\n",
    "#############################\n",
    "ans = K.inv()*F*39.3701;"
   ]
  },
  {
   "cell_type": "code",
   "execution_count": 157,
   "metadata": {},
   "outputs": [
    {
     "data": {
      "text/latex": [
       "$$\\left[\\begin{matrix}1.20291141870567 \\cdot 10^{-8}\\\\-2.8370552327964 \\cdot 10^{-9}\\end{matrix}\\right]$$"
      ],
      "text/plain": [
       "⎡1.20291141870567e-8⎤\n",
       "⎢                   ⎥\n",
       "⎣-2.8370552327964e-9⎦"
      ]
     },
     "execution_count": 157,
     "metadata": {},
     "output_type": "execute_result"
    }
   ],
   "source": [
    "ans"
   ]
  },
  {
   "cell_type": "markdown",
   "metadata": {},
   "source": [
    "[TOC](#TOC)"
   ]
  },
  {
   "cell_type": "markdown",
   "metadata": {},
   "source": [
    "<a name=\"Prob_349\"></a>\n",
    "### Problem 3.49<br>\n",
    "\n",
    "**Problem Statement:**<br>\n",
    "For the plane trusses with inclined supports shown in Figures P3-49 through P3-51, solve for the nodal displacements and element stresses in the bars. Let $A = 2\\ in^2$, $E=30\\times10^6\\ psi$, and $L=30\\ in$ for each truss.<br>\n",
    "\n",
    "**Given:**<br>\n",
    "\n",
    "|Variables|Value|units|\n",
    "| :-: | :-: | :-: |\n",
    "|$\\theta$| 45 | $^\\circ{}$|\n",
    "| L | 30 | in |\n",
    "| F | 2000 | lbf |\n",
    "| E | $30\\times10^6$ | psi |\n",
    "| A | 2 | $in^2$ |\n",
    "\n",
    "**Find:**<br>\n",
    "1. Nodal displacements<br>\n",
    "2. Element stresses"
   ]
  },
  {
   "cell_type": "code",
   "execution_count": 62,
   "metadata": {},
   "outputs": [],
   "source": [
    "# Given Values\n",
    "A = 2;\n",
    "E = 30*10**6;\n",
    "L1 = 30;\n",
    "L2 = np.sqrt(2*L1**2);\n",
    "phi = 135*np.pi/180; #orientation of element 2 relative to positive X axis\n",
    "theta = -45*np.pi/180;\n",
    "\n",
    "# Stiffnes matrices in local coordinates ##\n",
    "kp2 = (A*E/L2)*np.array([[1, -1],[-1, 1]]);\n",
    "kp2 = np.insert(kp2, [1,2], 0, axis=1);\n",
    "kp2 = np.insert(kp2, [1,2], 0, axis=0);\n",
    "\n",
    "# Stiffness Transformation matrix for element 2\n",
    "C = np.cos(phi);\n",
    "S = np.sin(phi);\n",
    "T1 = np.array(\n",
    "    [\n",
    "        [C, S, 0, 0],\n",
    "        [-S, C, 0, 0],\n",
    "        [0, 0, C, S],\n",
    "        [0, 0, -S, C]\n",
    "    ]);\n",
    "\n",
    "k2 = T1.transpose().dot(kp2.dot(T1));\n",
    "\n",
    "#Expand the size of the global matrices\n",
    "k2 = np.insert(k2, [0,0], 0, axis=0);\n",
    "k2 = np.insert(k2, [0,0], 0, axis=1)\n",
    "\n",
    "k1 = (A*E/L1)*np.array([[1, -1],[-1, 1]]);\n",
    "k1 = np.insert(k1, [1,2,2,2], 0, axis=0);\n",
    "k1 = np.insert(k1, [1,2,2,2], 0, axis=1);\n",
    "\n",
    "k3 = (A*E/L1)*np.array([[1, -1],[-1, 1]]);\n",
    "k3 = np.insert(k3, [0,1,1,1], 0, axis=0);\n",
    "k3 = np.insert(k3, [0,1,1,1], 0, axis=1);\n",
    "\n",
    "k = k1 + k2 + k3;\n",
    "\n",
    "# BC transformation matrix for element 2\n",
    "Tf = np.eye(6)\n",
    "Tf[4,4] = 0\n",
    "Tf[5,5] = 0\n",
    "t3 = np.array([[np.cos(theta), np.sin(theta)],\n",
    "             [-np.sin(theta), np.cos(theta)]])\n",
    "t3 = np.insert(t3, [0, 0, 0, 0], 0, axis=0);\n",
    "t3 = np.insert(t3, [0, 0, 0, 0], 0, axis=1);"
   ]
  },
  {
   "cell_type": "code",
   "execution_count": 69,
   "metadata": {},
   "outputs": [
    {
     "data": {
      "text/plain": [
       "array([[ 1.        ,  0.        ,  0.        ,  0.        ,  0.        ,\n",
       "         0.        ],\n",
       "       [ 0.        ,  1.        ,  0.        ,  0.        ,  0.        ,\n",
       "         0.        ],\n",
       "       [ 0.        ,  0.        ,  1.        ,  0.        ,  0.        ,\n",
       "         0.        ],\n",
       "       [ 0.        ,  0.        ,  0.        ,  1.        ,  0.        ,\n",
       "         0.        ],\n",
       "       [ 0.        ,  0.        ,  0.        ,  0.        ,  0.70710678,\n",
       "        -0.70710678],\n",
       "       [ 0.        ,  0.        ,  0.        ,  0.        ,  0.70710678,\n",
       "         0.70710678]])"
      ]
     },
     "execution_count": 69,
     "metadata": {},
     "output_type": "execute_result"
    }
   ],
   "source": [
    "(Tf + t3)*"
   ]
  },
  {
   "cell_type": "markdown",
   "metadata": {},
   "source": [
    "[TOC](#TOC)"
   ]
  },
  {
   "cell_type": "markdown",
   "metadata": {},
   "source": [
    "<a name=\"Sim\"></a>\n",
    "## Simulations\n",
    "***"
   ]
  },
  {
   "cell_type": "markdown",
   "metadata": {},
   "source": [
    "<a name=\"Sim_320\"></a>\n",
    "### Simulation of problem 3.20<br>\n",
    "\n",
    "See problem definition in the previous section."
   ]
  },
  {
   "cell_type": "markdown",
   "metadata": {},
   "source": [
    "**Code_Aster Simulation:**"
   ]
  },
  {
   "cell_type": "code",
   "execution_count": 19,
   "metadata": {},
   "outputs": [
    {
     "name": "stdout",
     "output_type": "stream",
     "text": [
      "The radius is 0.0320437830 m\n",
      "The modulus of elasticity is 6894760000 Pa\n",
      "The force applied to node 2 is 44482.20 N\n",
      "\n",
      "u2 = -0.000 in\n",
      "v2 = 0.283 in\n",
      "stress = 1413.878 psi\n",
      "\n"
     ]
    }
   ],
   "source": [
    "# Converting imperial inputs to metric for use in code_aster\n",
    "r_m = sp.sqrt(5/sp.pi.evalf())*.0254;\n",
    "E_m = (10**6)*6894.76;\n",
    "f_m = 10000*4.44822;\n",
    "\n",
    "print(\"\"\"The radius is {:1.10f} m\n",
    "The modulus of elasticity is {:1.0F} Pa\n",
    "The force applied to node 2 is {:1.2f} N\"\"\".format(r_m, E_m, f_m))\n",
    "p320_depl = pd.read_csv(\"p320/p320_N2_displacement.csv\", skiprows=4);\n",
    "p320_depl[\"DX_in\"] = p320_depl['    DX           ']*39.3701\n",
    "p320_depl[\"DY_in\"] = p320_depl['    DY           ']*39.3701\n",
    "p320_stress = pd.read_csv(\"p320/p320_stress.csv\", skiprows=4);\n",
    "p320_stress[\"SN_psi\"] = p320_stress[\"    SN           \"]*0.000145038\n",
    "p320_stress[\"SN_psi\"][0]\n",
    "print(\"\"\"\n",
    "u2 = {:3.3f} in\n",
    "v2 = {:3.3f} in\n",
    "stress = {:3.3f} psi\n",
    "\"\"\".format(p320_depl[\"DX_in\"][0], p320_depl[\"DY_in\"][0], p320_stress[\"SN_psi\"][0]))\n",
    "\n",
    "del(r_m, E_m, f_m, p320_depl, p320_stress)"
   ]
  },
  {
   "cell_type": "markdown",
   "metadata": {},
   "source": [
    "[TOC](#TOC)"
   ]
  },
  {
   "cell_type": "markdown",
   "metadata": {},
   "source": [
    "<a name=\"Sim_342\"></a>\n",
    "### Simulation of problem 3.42<br>\n",
    "See problem definition in the previous section."
   ]
  },
  {
   "cell_type": "markdown",
   "metadata": {},
   "source": [
    "**Code_Aster Simulation:**"
   ]
  },
  {
   "cell_type": "code",
   "execution_count": 20,
   "metadata": {},
   "outputs": [
    {
     "name": "stdout",
     "output_type": "stream",
     "text": [
      "u5 = 0.00153\n",
      "v5 = 0.00000\n",
      "w5 = -0.00045\n",
      "stress in elements 1 and 4 is 193.34 psi\n",
      "stress in elements 2 and 3 is -144.09 psi\n"
     ]
    }
   ],
   "source": [
    "depl = pd.read_csv(\"p342/N5_displacements.csv\", skiprows=4); #read in the displacement results from the Code Aster simulation1\n",
    "stress = pd.read_csv(\"p342/stress.csv\", skiprows=4); #read in the stress results from the Code Aster simulation\n",
    "stress[\"SN_psi\"] = stress[\"SN           \"]*0.000145038; #convert the stress results from Pa to psi\n",
    "depl['Dx_in'] = depl['DX           ']*39.3701; #convert the displacement result from m to in\n",
    "depl['Dy_in'] = depl['DY           ']*39.3701; #convert the displacement result from m to in\n",
    "depl['Dz_in'] = depl[\"DZ           \"]*39.3701; #convert the displacement result from m to in\n",
    "print(\"u5 = {:3.5f}\".format(depl[\"Dx_in\"][0]));\n",
    "print(\"v5 = {:3.5f}\".format(depl[\"Dy_in\"][0]));\n",
    "print(\"w5 = {:3.5f}\".format(depl[\"Dz_in\"][0]));\n",
    "print(\"stress in elements 1 and 4 is {:3.2f} psi\".format(stress['SN_psi'][0]))\n",
    "print(\"stress in elements 2 and 3 is {:3.2f} psi\".format(stress['SN_psi'][1]))\n",
    "\n",
    "del(depl, stress)"
   ]
  },
  {
   "cell_type": "markdown",
   "metadata": {},
   "source": [
    "<a name=\"Sim_349\"></a>\n",
    "### Simulation of problem 3.49<br>\n",
    "\n",
    "\n",
    "See problem definition in the previous section."
   ]
  },
  {
   "cell_type": "markdown",
   "metadata": {},
   "source": [
    "**Code_Aster Simulation:**"
   ]
  },
  {
   "cell_type": "code",
   "execution_count": 78,
   "metadata": {},
   "outputs": [
    {
     "name": "stdout",
     "output_type": "stream",
     "text": [
      "\n",
      "L is 7.62000000E-01 m\n",
      "A is 1.29032000E-03 m^2\n",
      "R is 2.02662678E-2 m\n",
      "E is 2.06932800E+11 Pa\n",
      "F is 8.89644000E+03 N\n",
      "\n",
      "\n",
      "X Displacement of node 1 in global coordinates is -3.3576E-08 inches\n",
      "Y Displacement of node 1 in global coordinates is 3.3576E-08 inches\n",
      "X Displacement of node 2 in global coordinates is 0.0000E+00 inches\n",
      "Y Displacement of node 2 in global coordinates is -2.8234E-03 inches\n",
      "Stress in element 2 is 1.41231896E+03 psi\n",
      "\n",
      "Note: in this case, the stress in element 2 was calculated by adding the stress at nodes 2 and 3.\n",
      "\n"
     ]
    }
   ],
   "source": [
    "L = 30*25.4/1000;\n",
    "A = 2*(25.4/1000)**2;\n",
    "R = sp.sqrt(A/sp.pi.evalf());\n",
    "Youngs = (30*10**6)*6897.76;\n",
    "F = 2000*4.44822\n",
    "print(\"\"\"\n",
    "L is {:3.8E} m\n",
    "A is {:3.8E} m^2\n",
    "R is {:3.8E} m'\n",
    "E is {:3.8E} Pa\n",
    "F is {:3.8E} N\n",
    "\"\"\".format(L, A, R, Youngs, F))\n",
    "del(L,A,Youngs, F);\n",
    "\n",
    "\n",
    "\n",
    "stress = pd.read_csv(\"p349_stress.csv\", skiprows=4);\n",
    "depl = pd.read_csv(\"p349_displacement.csv\", skiprows=4);\n",
    "depl[\"DX_in\"] = depl['    DX           ']*39.3701\n",
    "depl[\"DY_in\"] = depl['    DY           ']*39.3701\n",
    "stress[\"SN_psi\"] = stress[\"    SN           \"]*0.000145038\n",
    "\n",
    "print(\"\"\"\n",
    "X Displacement of node 1 in global coordinates is {:3.4E} inches\n",
    "Y Displacement of node 1 in global coordinates is {:3.4E} inches\n",
    "X Displacement of node 2 in global coordinates is {:3.4E} inches\n",
    "Y Displacement of node 2 in global coordinates is {:3.4E} inches\n",
    "Stress in element 2 is {:3.8E} psi\n",
    "\n",
    "Note: in this case, the stress in element 2 was calculated by adding the stress at nodes 2 and 3.\n",
    "\"\"\".format(\n",
    "    depl[depl[\"INTITULE         \"] == 'N1_displacement  ']['DX_in'][0],\n",
    "    depl[depl[\"INTITULE         \"] == 'N1_displacement  ']['DY_in'][0],\n",
    "    depl[depl[\"INTITULE         \"] == 'N2_displacement  ']['DX_in'][1],\n",
    "    depl[depl[\"INTITULE         \"] == 'N2_displacement  ']['DY_in'][1],\n",
    "    stress[stress[stress.columns[0]]==stress[stress.columns[0]][0]][stress.columns[16]][1]+stress[stress[stress.columns[0]]==stress[stress.columns[0]][0]][stress.columns[16]][2]\n",
    "          ))"
   ]
  },
  {
   "cell_type": "markdown",
   "metadata": {},
   "source": [
    "[TOC](#TOC)"
   ]
  }
 ],
 "metadata": {
  "kernelspec": {
   "display_name": "Python 3",
   "language": "python",
   "name": "python3"
  },
  "language_info": {
   "codemirror_mode": {
    "name": "ipython",
    "version": 3
   },
   "file_extension": ".py",
   "mimetype": "text/x-python",
   "name": "python",
   "nbconvert_exporter": "python",
   "pygments_lexer": "ipython3",
   "version": "3.5.5"
  }
 },
 "nbformat": 4,
 "nbformat_minor": 2
}
