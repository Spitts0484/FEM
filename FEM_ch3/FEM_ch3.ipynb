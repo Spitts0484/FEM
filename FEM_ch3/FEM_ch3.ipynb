{
 "cells": [
  {
   "cell_type": "code",
   "execution_count": 1,
   "metadata": {},
   "outputs": [],
   "source": [
    "%matplotlib inline\n",
    "\n",
    "import matplotlib.pyplot as plt;\n",
    "import sympy as sp;\n",
    "\n",
    "sp.init_printing()"
   ]
  },
  {
   "cell_type": "markdown",
   "metadata": {},
   "source": [
    "<a name=\"TOC\"></a>\n",
    "\n",
    "# Table of Contents\n",
    "***\n",
    "***\n",
    "1. [Chapter Summary](#CS)\n",
    " 1. [Stiffness Matrix for a bar element in Local Coordinates](#CS_stiff)\n",
    " 1. [Shape Functions](#CS_shape)\n",
    " 1. [Vector Transformations for a bar in 2D](#CS_trans2d)\n",
    " 1. [Stiffness Matrix for a bar in 2D](#CS_stiff2d)\n",
    " 1. [Stress calculations for a bar in 2D](#CS_stress2d)\n",
    " 1. [Vector Transformations for a bar in 3D](#CS_trans3d)\n",
    " 1. [Stress calculations for a bar in 3D](#CS_stress3d)\n",
    " 1. [Inclined/Skewed constraints](#CS_cnstrnt)\n",
    " 1. [Potential Energy Approach](#CS_pe)\n",
    " 1. [Galerkin's Residual Method to derive 1D bar element equation](#CS_galerkin)\n",
    " 1. [Review of other Residual Methods](#CS_residual)\n",
    "2. [Problems](#Prob)\n",
    " 1. [3.1](#Prob_31)\n",
    " 1. [3.13](#Prob_313)\n",
    " 1. [3.15](#Prob_315)\n",
    " 1. [3.16](#Prob_316)\n",
    " 1. [3.20](#Prob_320)\n",
    " 1. [3.21](#Prob_321)\n",
    " 1. [3.42](#Prob_342)\n",
    " 1. [3.49](#Prob_349)\n",
    "3. [Simulations](#Sim)\n",
    "  1. [3.20](#Sim_320)\n",
    "  1. [3.42](#Sim_342)\n",
    "  1. [3.49](#Sim_349)"
   ]
  },
  {
   "cell_type": "markdown",
   "metadata": {},
   "source": [
    "<a name=\"CS\"></a>\n",
    "## Chapter Summary\n",
    "***"
   ]
  },
  {
   "cell_type": "markdown",
   "metadata": {},
   "source": [
    "<a name=\"CS_stiff\"></a>\n",
    "### Stiffness Matrix for a bar element in Local Coordinates\n",
    "\n",
    "The bar, or truss, is considered to be have a constant cross sectional area $A$, has a length of $L$, and is only capable of resisting axial deflections caused by tensile force $T$ and therefore gives us the ability to approximate tensile stresses $\\sigma$; to calculate these fields, the bar will be made of a linear elastic material with a modulus of elasticity $E$ that allows conversions between the tensile stress and strains $\\epsilon$. The previous chapters considered idealized springs which resisted axial deflections but did not have stress since there was no cross sectional area to distribute the force over.<br>\n",
    "To begin, let's define axial stress $\\sigma_x$ as the distribution of the tensile force $T$ at a node of the bar element over the bar's cross sectional area $A$.\n",
    "\n",
    "$$\\sigma = \\frac{T}{A}$$<br>\n",
    "Next, we relate the axial strain of the bar $\\epsilon_x$ to $\\sigma_x$ using Hooke's law and the modulus of elasticity of the bar's material, $E$.\n",
    "\n",
    "$$\\sigma_x = E\\epsilon_x$$<br>\n",
    "The axial strain of the bar is defined by the change in length of the bar element over the original length of the bar element. \n",
    "\n",
    "$$\\epsilon_x = \\frac{du}{dx}$$<br>\n",
    "We can now combine the above equations and solve for the nodal force to get closer to the format used in the previous chapters.\n",
    "\n",
    "$$ T = EA\\frac{du}{dx}$$<br>\n",
    "Initial considerations of a bar will only have loads applied at the nodes which yields the property that the change in stress of the bar along it's length is 0.\n",
    "\n",
    "$$\\frac{d}{dx}\\biggl(EA\\frac{du}{dx}\\biggr) = 0$$<br>\n",
    "Neither the cross sectional area, nor the modulus of elasticity have been taken out of the derivative in preparation for a time when the cross sectional area and/or material property varies along the length of the bar element.\n",
    "<br><br>\n",
    "[TOC](#TOC)\n"
   ]
  },
  {
   "cell_type": "code",
   "execution_count": 39,
   "metadata": {},
   "outputs": [
    {
     "data": {
      "image/png": "[encoded data removed]",
      "text/plain": [
       "<Figure size 432x288 with 1 Axes>"
      ]
     },
     "metadata": {
      "needs_background": "light"
     },
     "output_type": "display_data"
    }
   ],
   "source": [
    "plt.quiver(0,0, 1, 0, scale=2);\n",
    "plt.quiver(0,0,0,1, scale=20);\n",
    "plt.quiver(0,0, 0.8, .2, scale=2);\n",
    "plt.grid()\n",
    "plt.xlim(-2,2);\n",
    "plt.ylim(-1.50,1.50);\n",
    "plt.show()"
   ]
  },
  {
   "cell_type": "markdown",
   "metadata": {},
   "source": [
    "<a name=\"CS_shape\"></a>\n",
    "### Shape Functions\n",
    "\n",
    "The matrix equations allow for the approximation of the field equations at nodes. It is often necessary to approximate one of the field values at a some location that is in/on an element but is in between the end nodes. To do this, we requiquire an interpolation equation that blends the value of a field variable between all pertinent nodes. In the case of the bar element, we need a way of approximating the displacement at any location on the element. To do this, we assume a displacement function for our element as\n",
    "\n",
    "$$u(x) = a_0 + a_1x$$<br>\n",
    "In general, the displacement functions has as many constants as the element has Degrees of Freedom (DOF). If our bar element had an intermediate node, then our assumed displacement function would be $u(x) = a_0 + a_1x + a_2x^2$. To determine the values of the constants, we enforce the \"boundary conditions\" of the bar element that $u(0)=u_0$ and $u(L) = u_1$\n",
    "\n",
    "$$u(0) = u_0 = a_1$$<br>\n",
    "$$u(L) = u_1 = u_0 + a_1L \\implies a_1 = \\frac{u_1-u_0}{L}$$\n",
    "$$u(x) = u_0 + \\frac{u_1-u_0}{L}x$$\n",
    "$$u(x) = u_0(1-\\frac{x}{L}) + u_1(\\frac{x}{L})$$\n",
    "$$u(x) = \\begin{bmatrix}1-\\frac{x}{L} & \\frac{x}{L}\\end{bmatrix}\\begin{bmatrix}u_0\\\\u_1\\end{bmatrix}$$\n",
    "$$u(x) = \\begin{bmatrix}N_0 & N_1\\end{bmatrix}\\begin{bmatrix}u_0\\\\u_1\\end{bmatrix}\\ \\  where\\ N_0 = 1-\\frac{x}{L}\\ \\  and\\ \\  N_1 = \\frac{x}{L}$$<br>\n",
    "$N_0$ and $N_1$ are called shape functions and they contain the following properties:\n",
    "1. Must be continuous within the bar element\n",
    "2. Shape functions between two elements which share a node must conform with eachother. This prevents two elements from seperating or overlapping at the node. This property of the shape functions is the reason they are sometimes reffered to as *conforming* or *compatibility* functions. This basic assumption is critical to FEA and allows the information from one element to pass to the next element.\n",
    "3. Must allow for rigid body motion; consequently, the shape functions of an element must sum to be zero. In the case of the bar element, if $u_0$ and $u_1$ are equal, then $u(x) = 1$\n",
    "\n",
    "[TOC](#TOC)"
   ]
  },
  {
   "cell_type": "markdown",
   "metadata": {},
   "source": [
    "<a name=\"CS_trans2d\"></a>\n",
    "### Vector Transformations for a bar in 2D\n",
    "\n",
    "![alt text](FEM_ch3_2d_rotation.png \"Rotation of coordinate system in 2D\")\n",
    "\n",
    "For Reasons that will become apparant later, we need a way of jumping between the global coordinate system, which has $\\boldsymbol{i}$ and $\\boldsymbol{j}$ unit vectors aligned with the global x and y axis, and the local coordinate system, which has $\\boldsymbol{i}'$ and $\\boldsymbol{j}'$ unit vectors with the $\\boldsymbol{i}'$ unit vector aligned with the axis of the bar element and the $\\boldsymbol{j}'$ unit vector perpendicular to the axis. In the 2D case, lets assume that the local coordinate system has been rotated by an $\\theta$ radians from the global coordinate system. We can then define the local unit vectors as some combination of sines and cosines of the global unit vectors as.\n",
    "\n",
    "$$ \\boldsymbol{i}' = \\boldsymbol{i} \\cos{\\theta} + \\boldsymbol{j} \\sin{\\theta}$$\n",
    "$$ \\boldsymbol{j}' = -\\boldsymbol{i} \\sin{\\theta} + \\boldsymbol{j} \\cos{\\theta}$$<br>\n",
    "writing in matrix notation we get\n",
    "\n",
    "$$\\begin{bmatrix} \\boldsymbol{i}' \\\\ \\boldsymbol{j}' \\end{bmatrix} = \n",
    "\\begin{bmatrix} \\cos{\\theta} & \\sin{\\theta} \\\\ -\\sin{\\theta} & \\cos{\\theta} \\end{bmatrix}\n",
    "\\begin{bmatrix}\\boldsymbol{i} \\\\ \\boldsymbol{j} \\end{bmatrix}$$<br>\n",
    "In shorthand notation we write\n",
    "\n",
    "$$\\begin{bmatrix} \\boldsymbol{i}' \\\\ \\boldsymbol{j}' \\end{bmatrix} = \n",
    "\\begin{bmatrix} C & S \\\\ -S & C \\end{bmatrix}\n",
    "\\begin{bmatrix}\\boldsymbol{i} \\\\ \\boldsymbol{j} \\end{bmatrix}$$<br><br>\n",
    "where $C = \\cos{\\theta}$ and $S=\\sin{\\theta}$. This *transformation*, or *rotation*, *matrix* can be used on transfer any vector quantity from the local coordinate system, or basis, to the global coordinate system or vice-versa. It is left to the reader to investigate the interesting relationship between the inverse and trasnpose of the transformation matrix; this odd but useful property is a result of the rotation matrix being orthogonal.<br>\n",
    "\n",
    "\n",
    "[TOC](#TOC)"
   ]
  },
  {
   "cell_type": "markdown",
   "metadata": {},
   "source": [
    "<a name=\"CS_stiff2d\"></a>\n",
    "### Stiffness matrix for a bar in 2D\n",
    "\n",
    "In the case of the stiffness matrix, lets analyze a bar element oriented at an angle $\\theta$ relative to the global coordinate system. In the local coordinate system, we express the system of equations as\n",
    "\n",
    "$$ \\begin{bmatrix}f_1' \\\\ f_2' \\end{bmatrix} = \n",
    "\\begin{bmatrix}k & -k \\\\ -k & k \\end{bmatrix}\n",
    "\\begin{bmatrix}u_1' \\\\ u_2' \\end{bmatrix}\n",
    "\\implies\n",
    "\\boldsymbol{f}' = \\boldsymbol{k}' \\boldsymbol{d}'$$<br>\n",
    "To determine the transformation matrix, we look at the displacement vectors and see that\n",
    "\n",
    "$$u_1' = u_1 C + v_1 S$$\n",
    "$$u_2' = u_2 C + v_2 S$$<br>\n",
    "yielding the equation\n",
    "\n",
    "$$\\begin{bmatrix} u_1' \\\\ u_2' \\end{bmatrix} = \n",
    "\\begin {bmatrix} C & S & 0 & 0 \\\\ 0 & 0 & C & S \\end{bmatrix}\n",
    "\\begin{bmatrix}u_1 \\\\ v_1 \\\\ u_2 \\\\ v_2 \\end{bmatrix}$$<br>\n",
    "or more conciseley\n",
    "\n",
    "$$ \\boldsymbol{d}' = \\boldsymbol{T}^* \\boldsymbol{d}$$<br>\n",
    "The * is used to indicate that the transformation is incomplete/incorrect for reasons that will be apparent later. This equation can be substituted into the system of equations for the local coordinate system and yields\n",
    "\n",
    "$$ \\boldsymbol{f}' = \\boldsymbol{k}' \\boldsymbol{T}^* \\boldsymbol{d}$$<br>\n",
    "similarly \n",
    "\n",
    "$$\\begin{bmatrix}f_1' \\\\ f_2' \\end{bmatrix} = \n",
    "\\boldsymbol{T}^*\n",
    "\\begin{bmatrix}f_{1x} \\\\ f_{1y} \\\\ f_{2x} \\\\ f_{2y} \\end{bmatrix} \n",
    "\\implies\n",
    "\\boldsymbol{f}' = \\boldsymbol{T}^* \\boldsymbol{f}\n",
    "$$<br>\n",
    "which can also be substituted into the previous equation yielding\n",
    "\n",
    "$$\\boldsymbol{T}^* \\boldsymbol{f} = \\boldsymbol{k}' \\boldsymbol{T}^* \\boldsymbol{d}$$<br>\n",
    "Though this system of equations is technically true, it yields an immediate issue if one tries to solve for $\\boldsymbol{d}$ as has been done in previous sections; the transformation matrix $\\boldsymbol{T}^*$ is not square and is therefore non-invertible. To rectify this, the entire system of equation must be expanded to include $v_1'$, $v_2'$, $f_1'$, and $f_2'$ in the original system of equations even though they must all come to be 0. This activity is left to the reader, for which they should reference the derivation in the \"Vector Transformation for a bar in 2D\" section. We find the correct transformation matrix to be\n",
    "\n",
    "$$ \\boldsymbol{T} = \n",
    "\\begin{bmatrix}C & S & 0 & 0 \\\\ -S & C & 0 & 0 \\\\ 0 & 0 & C & S \\\\ 0 & 0 & -S & C \\end{bmatrix}$$<br>\n",
    "which gives the displacement transformation of\n",
    "\n",
    "$$ \\begin{bmatrix}u_1' \\\\ v_1' \\\\ u_2' \\\\ v_2' \\end{bmatrix} = \n",
    "\\boldsymbol{T}\n",
    "\\begin{bmatrix} u_1 \\\\ v_1 \\\\ u_2 \\\\ v_2 \\end{bmatrix}$$<br>\n",
    "\n",
    "$$ \\begin{bmatrix}f_1' \\\\ f_1' \\\\ f_2' \\\\ f_2' \\end{bmatrix} = \n",
    "\\boldsymbol{T}\n",
    "\\begin{bmatrix} f_{1x} \\\\ f_{1y} \\\\ f_{2x} \\\\ f_{2y} \\end{bmatrix}$$<br>\n",
    "\n",
    "Therefore\n",
    "$$ \\boldsymbol{T} \\boldsymbol{f} = \\boldsymbol{k}' \\boldsymbol{T} \\boldsymbol{d}$$<br>\n",
    "$$ \\boldsymbol{f} = \\boldsymbol{T}^{-1}\\boldsymbol{k}' \\boldsymbol{T} \\boldsymbol{d}$$<br>\n",
    "$$ \\therefore \\boldsymbol{f} = \\boldsymbol{k}\\boldsymbol{d}\\ \\ where\\ \\ \\boldsymbol{k} = \\boldsymbol{T}^T\\boldsymbol{k}\\boldsymbol{T}$$<br>\n",
    "[TOC](#TOC)"
   ]
  },
  {
   "cell_type": "markdown",
   "metadata": {},
   "source": [
    "### Stress Calculations for a bar in 2D\n",
    "\n",
    "Calculating the stress in a bar element begins with determining the nodal forces on the element. The equation for the forces is repeated here.\n",
    "\n",
    "$$ \\begin{bmatrix} f_1' \\\\ f_2' \\end{bmatrix} =\n",
    "\\frac{A E}{L} \\begin{bmatrix} 1 & -1 \\\\ -1 & 1 \\end{bmatrix}\n",
    "\\begin{bmatrix} u_1' \\\\ u_2' \\end{bmatrix} $$<br>\n",
    "Stress is defined as force over the cross sectional area $\\sigma = \\frac{f_2'}{A}$. Using the matrix definition above we notice\n",
    "\n",
    "$$\\boldsymbol{\\sigma} = \\frac{E}{L}\n",
    "\\begin{bmatrix}-1 & 1\\end{bmatrix}\n",
    "\\begin{bmatrix}u_1' \\\\ u_2' \\end{bmatrix} = \n",
    "\\frac{E}{L}\n",
    "\\begin{bmatrix}-1 & 1\\end{bmatrix} \\boldsymbol{d}'$$<br>\n",
    "In this case, we used the equation corresponding to $f_2^'$; either equation can be used, but the reader must remember that a positive, or tensile, stress is one which points away from the element under consideration. That is a \"possitive\" stress will be positive on the right node and negative on the left node. Using the incomplete transformation from the previous section to relate the stress field variable to the global coordinate system we get\n",
    "\n",
    "$$ \\boldsymbol{\\sigma} = \\frac{E}{L}\n",
    "\\begin{bmatrix}-1 & 1 \\end{bmatrix}\n",
    "\\boldsymbol{T}^*\\boldsymbol{d}$$<br>\n",
    "\n",
    "$$ \\boldsymbol{\\sigma} = \\boldsymbol{C}^*\\boldsymbol{d}$$<br> \n",
    "where\n",
    "$$\\boldsymbol{C}^* = \\frac{E}{L}\n",
    "\\begin{bmatrix}-1 & 1 \\end{bmatrix}\n",
    "\\begin{bmatrix} C & S & 0 & 0 \\\\ 0 & 0 & C & S\\end{bmatrix} = \n",
    "\\frac{E}{L}\n",
    "\\begin{bmatrix} -C & -S & C & S \\end{bmatrix}$$<br>\n",
    "\n",
    "In this instance we can use the \"incomplete\" transformation matrix $T*$ because the system no matrix will need to be inverted or transposed in order to find the variable in question. This should serve as a reminder that, even though the typical output for and FEA is the stress field, we must first solve for the displacement field and then use those results to calculate the stress field.<br>\n",
    "[TOC](#TOC)"
   ]
  },
  {
   "cell_type": "markdown",
   "metadata": {},
   "source": [
    "<a name=\"CS_trans3d\"></a>\n",
    "### Vector Transformations for a bar in 3D\n",
    "\n",
    "Similar to the work done in the \"Vector Transformations for a bar in 2D,\" we now need to develop a tranfromation, or rotation, matrix which allows us to translate from the bar coordinate system to the global coordinate system. To do this we state\n",
    "\n",
    "$$ u' \\hat{i}' + v' \\hat{j}' + w' \\hat{k} = u \\hat{i} + v \\hat{j} + w \\hat{k} $$<br>\n",
    "where the \"'\" indicates the local coordinate system. If we premultiply the equation by $\\hat{i}'$ we get\n",
    "\n",
    "$$ u' \\hat{i}' \\dot{} \\hat{i}' + v' \\hat{i}' \\dot{} \\hat{j}' + w' \\hat{i}' \\dot{} \\hat{k} = u \\hat{i}' \\dot{} \\hat{i} + v \\hat{i}' \\dot{} \\hat{j} + w \\hat{i}' \\dot{} \\hat{k} $$<br>\n",
    "\n",
    "Recal that $A \\dot{} B = |A||B| \\cos{\\theta_{AB}} $ where $\\theta_{AB}$ is the angle between the A axis and B axis. Also, recall that the local coordinate system for a bar element has the x' axis aligned with the bar element so there is $v'$ or $w'$ displacement values.\n",
    "\n",
    "$$ u' = u \\cos{\\theta_x} + v \\cos{\\theta_y} + w \\cos{\\theta_z} $$<br>\n",
    "where $\\theta_x$ is the angle between the local and global x axis, $\\theta_y$ is the angle between the local x axis and the global y axis, and $\\theta_z$ is the angle between the local x axis and the global z axis. Expanding we get\n",
    "\n",
    "$$\\begin{Bmatrix} u_1' \\\\ u_2' \\end{Bmatrix} = \n",
    "\\begin{bmatrix} C_x & C_y & C_z & 0 & 0 & 0 \\\\ 0 & 0 & 0 & C_x & C_y & C_z \\end{bmatrix}\n",
    "\\begin{Bmatrix} u_1 \\\\ v_1 \\\\ w_1 \\\\ u_2 \\\\ v_2 \\\\ w_2 \\end{Bmatrix}$$<br>\n",
    "or more concisely\n",
    "\n",
    "$$\\{d'\\} = [T^*] \\{d\\}$$<br>\n",
    "and\n",
    "\n",
    "$$ \\{f'\\} = [T^*] \\{f\\} \\implies [T^*]^T \\{f'\\} = \\{f\\} $$<br>\n",
    "and\n",
    "\n",
    "$$ \\{f\\}' = [K']\\{d'\\} $$<br>\n",
    "$$ \\{f\\}' = [K'][T^*]\\{d\\}$$<br>\n",
    "premultiply by $[T*]^T$\n",
    "\n",
    "$$ [T*]^T\\{f\\}' = [T*]^T[K'][T^*]\\{d\\} \\implies \\{f\\} = [T*]^T[K'][T^*]\\{d\\} $$<br>\n",
    "$$\\therefore [K] = [T^*]^T[K'][T^*]$$\n",
    "<br>\n",
    "[TOC](#TOC)"
   ]
  },
  {
   "cell_type": "markdown",
   "metadata": {},
   "source": [
    "<a name=\"CS_stress3d\"></a>\n",
    "### Stress Calculations for a bar in 3D\n",
    "\n",
    "[TOC](#TOC)"
   ]
  },
  {
   "cell_type": "markdown",
   "metadata": {},
   "source": [
    "<a name=\"CS_cnstrnt\"></a>\n",
    "### Inclined/Skewed Constraints\n",
    "\n",
    "[TOC](#TOC)"
   ]
  },
  {
   "cell_type": "markdown",
   "metadata": {},
   "source": [
    "<a name=\"CS_pe\"></a>\n",
    "### Potential Energy Approach\n",
    "\n",
    "Recall from chapter 2 that the stiffness matrix can be derived by minimizing the potential energy function for elements with linear elastic materials. To do this, we must first derive the $U$ and $\\Omega$ in the equation $\\pi_p = U + \\Omega$.<br>\n",
    "\n",
    "![alt text](./FEM_ch3_pip_diff_elem.png \"Differential element used for Potential Energy Derivation of bar element in 2D\")<br>\n",
    "\n",
    "To begin with, we will develop an expression for the internal energy, $U$, by using the differential element above. Starting from the generic understanding that the internal energy is a product of the internal forces and the change in shape, $U = F \\Delta L$, we  realize that $F = \\sigma\\ Area$, $Area = \\Delta y \\Delta z$, and the change in length $\\Delta L$ is the product of the strain on the element $\\epsilon_x$ and the elements original length $\\Delta x$.\n",
    "\n",
    "$$ \\delta U = \\sigma_x \\Delta y \\Delta z \\mathrm{d} \\epsilon_x \\Delta x = \\sigma_x \\delta \\epsilon_x \\mathrm{d}V$$<br>\n",
    "integrating, we see that\n",
    "\n",
    "$$ U = \\iiint \\left( \\int_0^{\\epsilon_x} \\sigma_x \\mathrm{d} \\epsilon_x \\right) \\mathrm{d} V $$<br>\n",
    "For linear elastic material, we know that stress and strain are linearly related by the modulus of elasticity. Realizing that the area under the stress strain curve is $\\frac{1}{2}\\sigma_x \\epsilon_x$ we get\n",
    "\n",
    "$$ \\boldsymbol{U} = \\iiint \\frac{1}{2} \\boldsymbol{\\sigma}_x^T \\boldsymbol{\\epsilon}_x \\mathrm{d}  V = \\frac{A}{2} \\int \\boldsymbol{\\sigma}_x^T \\boldsymbol{\\epsilon}_x \\mathrm{d}x$$<br>\n",
    "Next, we will form an expression for the Work done on the element by external forces $\\Omega$. With a little thought, we realize that there are 3 ways that external forces can be applied; the standard nodal forces ($P$) which we have dealt with previously, traction forces ($T_s$) which are applied to the surface ($S$) of the element, and lastly body forces ($X_b$) which are applied to the mass of the element. An example of body forces would be the gravity field applied to the mass of the element. An example of traction forces would be friction on one side of the element due to contact with another element. With a little consideration, we see that\n",
    "\n",
    "$$\\Omega = \\boldsymbol{u}^T \\boldsymbol{P} + \\iint_S \\boldsymbol{u}_S^T \\boldsymbol{T}_S \\mathrm{d} S+ \\iiint \\boldsymbol{u}^T \\boldsymbol{X}_b \\mathrm{d} V$$<br>\n",
    "finally, we can express the potential energy of the element as\n",
    "\n",
    "$$\\boldsymbol{\\pi}_p = \\frac{A}{2} \\int \\boldsymbol{\\sigma}_x^T \\boldsymbol{\\epsilon}_x \\mathrm{d}x - \\boldsymbol{u}^T \\boldsymbol{P} - \\iint_S \\boldsymbol{u}_S^T \\boldsymbol{T}_S \\mathrm{d}S - \\iiint \\boldsymbol{u}^T \\boldsymbol{X}_b \\mathrm{d} V$$<br>\n",
    "from here, we expend some effort to express all terms as a function of the displacement vector $\\boldsymbol{d}$. Recall $\\boldsymbol{u} = \\boldsymbol{N}\\boldsymbol{d}$, and logically $\\boldsymbol{u}_S = \\boldsymbol{N}_S \\boldsymbol{d}$ and<br>\n",
    "\n",
    "$$\\boldsymbol{N} = \\begin{bmatrix} 1-\\frac{x}{L} & \\frac{x}{L} \\end{bmatrix}$$\n",
    "\n",
    "$$\\epsilon = \\frac{\\partial{u}}{\\partial{x}} \\implies \\boldsymbol{\\epsilon}_x = \\frac{\\partial}{\\partial x} \\boldsymbol{N} \\boldsymbol{d} = \\boldsymbol{B}\\boldsymbol{d}$$\n",
    "where the gradient matrix $\\boldsymbol{B}$ is defined as $\\boldsymbol{B} = \\begin{bmatrix} -\\frac{1}{L} & \\frac{1}{L} \\end{bmatrix}$<br>\n",
    "Next we use Hooke's law to determine $\\boldsymbol{\\sigma}$ in terms of the displacement matrix<br>\n",
    "\n",
    "$$\\boldsymbol{\\sigma}_x = \\boldsymbol{D} \\boldsymbol{\\epsilon}_x = \\boldsymbol{D} \\boldsymbol{B} \\boldsymbol{d} $$<br>\n",
    "where $\\boldsymbol{D}$ is the modulus of elasticity $E$ for a bar element. From here we can restate the potential energy expression while recalling the fact that $\\bigl( \\boldsymbol{A}\\boldsymbol{B}\\bigr)^T = \\boldsymbol{B}^T \\boldsymbol{A}^T$\n",
    "\n",
    "$$\\boldsymbol{\\pi}_p = \\frac{A}{2}\\int_0^L \\boldsymbol{d}^T \\boldsymbol{B}^T \\boldsymbol{D}^T \\boldsymbol{B} \\boldsymbol{d} \\mathrm{d}x - \\boldsymbol{d}^T \\boldsymbol{P} - \\iint \\boldsymbol{d}^T \\boldsymbol{N}_S^T \\boldsymbol{T}_S \\mathrm{d}S - \\iiint \\boldsymbol{d}^T \\boldsymbol{N}^T \\boldsymbol{X}_b \\mathrm{d}V$$<br>\n",
    "In the case of bar elements with linear shape functions, none of the variables in the first term are a function of x allowing for easy integration yielding\n",
    "\n",
    "$$\\boldsymbol{\\pi}_p = \\frac{A\\ L}{2}\\boldsymbol{d}^T \\boldsymbol{B}^T \\boldsymbol{D}^T \\boldsymbol{B} \\boldsymbol{d} - \\boldsymbol{d}^T \\boldsymbol{f}$$\n",
    "where\n",
    "$$\\boldsymbol{f} = \\boldsymbol{P} + \\boldsymbol{f}_S + \\boldsymbol{f}_b $$\n",
    "$$\\boldsymbol{f}_S = \\iint \\boldsymbol{N}_S^T \\boldsymbol{T}_S \\mathrm{d}S$$\n",
    "$$\\boldsymbol{f}_b = \\iiint \\boldsymbol{N}^T \\boldsymbol{X}_b \\mathrm{d}V$$<br>\n",
    "With this expression for the potential energy function, we can now set the derivative equal to zero and solve to establish the stiffness matrix\n",
    "\n",
    "$$\\frac{\\partial d \\boldsymbol{\\pi}_p}{\\partial \\{\\boldsymbol{d}\\}}  = \\frac{\\partial}{\\partial \\{ \\boldsymbol{d}\\}} \\biggl( \\frac{A\\ L}{2}\\boldsymbol{d}^T \\boldsymbol{B}^T \\boldsymbol{D}^T \\boldsymbol{B} \\boldsymbol{d} - \\boldsymbol{d}^T \\boldsymbol{f} \\biggr) = 0$$\n",
    "\n",
    "\n",
    "<br>\n",
    "\n",
    "[TOC](#TOC)"
   ]
  },
  {
   "cell_type": "markdown",
   "metadata": {},
   "source": [
    "<a name=\"CS_galerkin\"></a>\n",
    "### Galerkin's Residual Method to derive 1D bar element equation\n",
    "\n",
    "[TOC](#TOC)"
   ]
  },
  {
   "cell_type": "markdown",
   "metadata": {},
   "source": [
    "<a name=\"CS_residual\"></a>\n",
    "### Review of other Residual Methods\n",
    "\n",
    "[TOC](#TOC)"
   ]
  },
  {
   "cell_type": "markdown",
   "metadata": {},
   "source": [
    "<a name=\"Prob\"></a>\n",
    "\n",
    "## Problems\n",
    "***"
   ]
  },
  {
   "cell_type": "markdown",
   "metadata": {},
   "source": [
    "<a name=\"Prob_31\"></a>\n",
    "### Problem 3.1\n",
    "\n",
    "**Problem Statement:**<br>\n",
    "__a__. Compute the total stiffness matrix $[K]$ of the assemblage shown in Figure P3-1 by superimposing the stiffness matrices of the individual bars. Note that $[K]$ should be in terms of $A_1$, $A_2$, $A_3$, $E_1$, $E_2$, $E_3$, $L_1$, $L_2$, and $L_3$. Here A, E, and L are generic symbols used for cross-sectional area, modulus of elasticity, and length, respectively.<br>\n",
    "\n",
    "__b__. Now let $A_1 = A_2 = A_3 = A$, $E_1 = E_2 = E_3 = E$, and $L_1 = L_2 = L_3 = L$. If nodes 1 and 4 are fixed and a force P acts at node 3 in the positive x direction, find expressions for the displacement of nodes 2 and 3 in terms of A, E, L, and P.<br>\n",
    "\n",
    "__c__. Now let $A=1\\ in^2$, $E=10*10^6\\ psi$, $L=10\\ in.$, and $P=1000\\ lbf$.\n",
    "1. Determine the numberical values of the displacements of nodes 2 and 3.\n",
    "1. Determine the numberical values of the reactions at nodes 1 and 4.\n",
    "1. Determine the stresses in elements 1-3."
   ]
  },
  {
   "cell_type": "code",
   "execution_count": 10,
   "metadata": {},
   "outputs": [
    {
     "name": "stdout",
     "output_type": "stream",
     "text": [
      "The global stiffness matrix is\n"
     ]
    },
    {
     "data": {
      "text/latex": [
       "$$\\left[\\begin{matrix}\\frac{A_{1} E_{1}}{L_{1}} & - \\frac{A_{1} E_{1}}{L_{1}} & 0 & 0\\\\- \\frac{A_{1} E_{1}}{L_{1}} & \\frac{A_{1} E_{1}}{L_{1}} + \\frac{A_{2} E_{2}}{L_{2}} & - \\frac{A_{2} E_{2}}{L_{2}} & 0\\\\0 & - \\frac{A_{2} E_{2}}{L_{2}} & \\frac{A_{2} E_{2}}{L_{2}} + \\frac{A_{3} E_{3}}{L_{3}} & - \\frac{A_{3} E_{3}}{L_{3}}\\\\0 & 0 & - \\frac{A_{3} E_{3}}{L_{3}} & \\frac{A_{3} E_{3}}{L_{3}}\\end{matrix}\\right]$$"
      ],
      "text/plain": [
       "⎡ A₁⋅E₁      -A₁⋅E₁                            ⎤\n",
       "⎢ ─────      ───────           0           0   ⎥\n",
       "⎢   L₁          L₁                             ⎥\n",
       "⎢                                              ⎥\n",
       "⎢-A₁⋅E₁   A₁⋅E₁   A₂⋅E₂     -A₂⋅E₂             ⎥\n",
       "⎢───────  ───── + ─────     ───────        0   ⎥\n",
       "⎢   L₁      L₁      L₂         L₂              ⎥\n",
       "⎢                                              ⎥\n",
       "⎢            -A₂⋅E₂      A₂⋅E₂   A₃⋅E₃  -A₃⋅E₃ ⎥\n",
       "⎢   0        ───────     ───── + ─────  ───────⎥\n",
       "⎢               L₂         L₂      L₃      L₃  ⎥\n",
       "⎢                                              ⎥\n",
       "⎢                           -A₃⋅E₃       A₃⋅E₃ ⎥\n",
       "⎢   0           0           ───────      ───── ⎥\n",
       "⎣                              L₃          L₃  ⎦"
      ]
     },
     "execution_count": 10,
     "metadata": {},
     "output_type": "execute_result"
    }
   ],
   "source": [
    "A, A1, A2, A3 = sp.symbols(\"A A_1 A_2 A_3\");\n",
    "E, E1, E2, E3 = sp.symbols(\"E E_1 E_2 E_3\");\n",
    "L, L1, L2, L3 = sp.symbols(\"L L_1 L_2 L_3\");\n",
    "f1, f2, f3, f4 = sp.symbols(\"f_1 f_2 f_3 f_4\");\n",
    "u1, u2, u3, u4 = sp.symbols(\"u_1, u_2, u_3, u_4\");\n",
    "P = sp.symbols(\"P\");\n",
    "\n",
    "k1 = (A1*E1/L1)*sp.Matrix([\n",
    "    [1, -1, 0, 0],\n",
    "    [-1, 1, 0, 0],\n",
    "    [0, 0, 0, 0],\n",
    "    [0, 0, 0, 0]]);\n",
    "\n",
    "k2 = (A2*E2/L2)*sp.Matrix([\n",
    "    [0, 0, 0, 0],\n",
    "    [0, 1, -1, 0],\n",
    "    [0, -1, 1, 0],\n",
    "    [0, 0, 0, 0]]);\n",
    "\n",
    "k3 = (A3*E3/L3)*sp.Matrix([\n",
    "    [0, 0, 0, 0],\n",
    "    [0, 0, 0, 0],\n",
    "    [0, 0, 1, -1],\n",
    "    [0, 0, -1, 1]]);\n",
    "\n",
    "K=k1 + k2 + k3;\n",
    "print(\"\"\"The global stiffness matrix is\"\"\");\n",
    "K"
   ]
  },
  {
   "cell_type": "code",
   "execution_count": 11,
   "metadata": {},
   "outputs": [],
   "source": [
    "# Create the nodal force vector\n",
    "F = sp.Matrix([f1, f2, f3, f4]);\n",
    "# apply nodal force P to node 3\n",
    "F[2] = P;\n",
    "# Create the nodal displacement vector\n",
    "d = sp.Matrix([u1, u2, u3, u4]);\n",
    "\n",
    "# Apply the Boundary Conditions that u1 = u4 = 0\n",
    "d[0] = 0;\n",
    "d[3] = 0;\n",
    "\n",
    "# Create modified displacement vector and drop rows where the displacement is 0\n",
    "dmod = d.copy()\n",
    "dmod.row_del(3);\n",
    "dmod.row_del(0);\n",
    "\n",
    "# Create a modified force vector and drop the rows where the displacement is 0\n",
    "fmod = F.copy();\n",
    "fmod[1] = 0;\n",
    "fmod.row_del(3);\n",
    "fmod.row_del(0);\n",
    "\n",
    "\n",
    "# Create modified stiffness matrix and drop rows and columns where displacement is 0\n",
    "kmod = K.copy();\n",
    "kmod.row_del(3);\n",
    "kmod.row_del(0);\n",
    "kmod.col_del(3);\n",
    "kmod.col_del(0);"
   ]
  },
  {
   "cell_type": "code",
   "execution_count": 12,
   "metadata": {},
   "outputs": [
    {
     "name": "stdout",
     "output_type": "stream",
     "text": [
      "u2 expression is\n"
     ]
    },
    {
     "data": {
      "image/png": "[encoded data removed]",
      "text/latex": [
       "$$\\frac{L P}{3 A E}$$"
      ],
      "text/plain": [
       " L⋅P \n",
       "─────\n",
       "3⋅A⋅E"
      ]
     },
     "execution_count": 12,
     "metadata": {},
     "output_type": "execute_result"
    }
   ],
   "source": [
    "eq = kmod.inv()*fmod-dmod\n",
    "dsol_u2 = sp.solve(eq[0], u2)\n",
    "print(\"u2 expression is\")\n",
    "dsol_u2 = dsol_u2[0].subs([(A1, A), (A2, A), (A3, A), (E1, E), (E2, E), (E3, E), (L1, L), (L2, L), (L3, L)])\n",
    "dsol_u2"
   ]
  },
  {
   "cell_type": "code",
   "execution_count": 13,
   "metadata": {},
   "outputs": [
    {
     "name": "stdout",
     "output_type": "stream",
     "text": [
      "u3 expression is\n"
     ]
    },
    {
     "data": {
      "image/png": "[encoded data removed]",
      "text/latex": [
       "$$\\frac{2 L P}{3 A E}$$"
      ],
      "text/plain": [
       "2⋅L⋅P\n",
       "─────\n",
       "3⋅A⋅E"
      ]
     },
     "execution_count": 13,
     "metadata": {},
     "output_type": "execute_result"
    }
   ],
   "source": [
    "dsol_u3 = sp.solve(eq[1], u3)\n",
    "print(\"u3 expression is\")\n",
    "dsol_u3 = dsol_u3[0].subs([(A1, A), (A2, A), (A3, A), (E1, E), (E2, E), (E3, E), (L1, L), (L2, L), (L3, L)]);\n",
    "dsol_u3"
   ]
  },
  {
   "cell_type": "code",
   "execution_count": 14,
   "metadata": {},
   "outputs": [
    {
     "name": "stdout",
     "output_type": "stream",
     "text": [
      "u2 displacement would be 3.333E-4 inches\n",
      "u3 displacement would be 6.667E-4 inches\n"
     ]
    }
   ],
   "source": [
    "print(\"u2 displacement would be {:1.3E} inches\".format(dsol_u2.subs([(A,1), (E,10E6), (L,10), (P,1000)])))\n",
    "print(\"u3 displacement would be {:1.3E} inches\".format(dsol_u3.subs([(A,1), (E,10E6), (L,10), (P,1000)])))"
   ]
  },
  {
   "cell_type": "code",
   "execution_count": 15,
   "metadata": {},
   "outputs": [
    {
     "name": "stdout",
     "output_type": "stream",
     "text": [
      "\n",
      "    The reaction at node 1 is -3.333E+2 lbf\n",
      "    The reaction at node 4 is -6.667E+2 lbf\n"
     ]
    }
   ],
   "source": [
    "d[1] = dsol_u2.subs([(A,1), (E,10E6), (L,10), (P,1000)]); \n",
    "d[2] = dsol_u3.subs([(A,1), (E,10E6), (L,10), (P,1000)]);\n",
    "print(\"\"\"\n",
    "    The reaction at node 1 is {:1.3E} lbf\n",
    "    The reaction at node 4 is {:1.3E} lbf\"\"\".format(\n",
    "        (K.subs([(A1, 1), (A2, 1), (A3, 1), (E1, 10E6), (E2, 10E6), (E3, 10E6), (L1, 10), (L2, 10), (L3, 10)])*d)[0],\n",
    "        (K.subs([(A1, 1), (A2, 1), (A3, 1), (E1, 10E6), (E2, 10E6), (E3, 10E6), (L1, 10), (L2, 10), (L3, 10)])*d)[3]));"
   ]
  },
  {
   "cell_type": "code",
   "execution_count": 16,
   "metadata": {},
   "outputs": [
    {
     "name": "stdout",
     "output_type": "stream",
     "text": [
      "\n",
      "The stress in element 1 is 3.333E+2 psi\n",
      "The stress in element 2 is 3.333E+2 psi\n",
      "The stress in element 3 is -6.667E+2 psi\n",
      "\n"
     ]
    }
   ],
   "source": [
    "d[1] = dsol_u2;\n",
    "d[2] = dsol_u3;\n",
    "F[0] = (K.subs([(A1, 1), (A2, 1), (A3, 1), (E1, 10E6), (E2, 10E6), (E3, 10E6), (L1, 10), (L2, 10), (L3, 10)])*d)[0];\n",
    "F[1] = (K.subs([(A1, 1), (A2, 1), (A3, 1), (E1, 10E6), (E2, 10E6), (E3, 10E6), (L1, 10), (L2, 10), (L3, 10)])*d)[1];\n",
    "F[2] = 1000;\n",
    "F[3] = (K.subs([(A1, 1), (A2, 1), (A3, 1), (E1, 10E6), (E2, 10E6), (E3, 10E6), (L1, 10), (L2, 10), (L3, 10)])*d)[3];\n",
    "sigma = sp.Matrix([(k1*d)[1], (k2*d)[2], (k3*d)[3]]).subs([(A, 1), (A1, 1), (A2, 1), (A3, 1), (E, 10E6), (E1, 10E6), (E2, 10E6), (E3, 10E6), (L,10), (L1, 10), (L2, 10), (L3, 10), (P,1000)])\n",
    "print(\"\"\"\n",
    "The stress in element 1 is {:1.3E} psi\n",
    "The stress in element 2 is {:1.3E} psi\n",
    "The stress in element 3 is {:1.3E} psi\n",
    "\"\"\".format(sigma[0], sigma[1], sigma[2]))\n",
    "del(A, A1, A2, A3, E, E1, E2, E3, L, L1, L2, L3, f1, f2, f3, f4, u1, u2, u3, u4, P, k1 ,k2, k3, K, F, d, dmod, fmod, kmod, eq, dsol_u2, dsol_u3, sigma)"
   ]
  },
  {
   "cell_type": "markdown",
   "metadata": {},
   "source": [
    "[TOC](#TOC)"
   ]
  },
  {
   "cell_type": "markdown",
   "metadata": {},
   "source": [
    "<a name=\"Prob_313\"></a>\n",
    "### Problem 3.13\n",
    "\n",
    "![alt text](FEM_ch3_p313.png \"Logan, Daryl L.(5th Edition).(2019) <br> A First Course in the FINITE ELEMENT METHOD. Stamford, CT: Global Engineering\")\n",
    "\n",
    "**Problem Statement:**<br>\n",
    "Determine the stiffness matrix for the bar element with end nodes and midlength node shown in Figure P3-13. Let axial displacement $u=a_1 +a_2x + a_3x^2$. (This is a higher-order element in that strain now varies linearly through the element.)<br>\n",
    "\n",
    "**Given:**<br>\n",
    "$u(x)=a_1 + a_2x + a_3x^2$<br>\n",
    "\n",
    "**Find:**<br>\n",
    "stiffness matrix $\\boldsymbol{K}$<br>\n",
    "\n",
    "**Assume:**<br>\n",
    "1. bar element has modulus of elasticity $E$\n",
    "1. bar element has cross sectional area $A$\n",
    "1. $u(-\\frac{L}{2}) = u_1$\n",
    "1. $u(0) = u_3$\n",
    "1. $u(\\frac{L}{2}) = u_2$\n",
    "\n",
    "**Solution:**\n"
   ]
  },
  {
   "cell_type": "code",
   "execution_count": 63,
   "metadata": {},
   "outputs": [
    {
     "name": "stdout",
     "output_type": "stream",
     "text": [
      "B is \n"
     ]
    },
    {
     "data": {
      "text/latex": [
       "$$\\left[\\begin{matrix}- \\frac{1}{L} + \\frac{4 x}{L^{2}} & \\frac{1}{L} + \\frac{4 x}{L^{2}} & - \\frac{8 x}{L^{2}}\\end{matrix}\\right]$$"
      ],
      "text/plain": [
       "⎡  1   4⋅x  1   4⋅x  -8⋅x ⎤\n",
       "⎢- ─ + ───  ─ + ───  ─────⎥\n",
       "⎢  L     2  L     2     2 ⎥\n",
       "⎣       L        L     L  ⎦"
      ]
     },
     "execution_count": 63,
     "metadata": {},
     "output_type": "execute_result"
    }
   ],
   "source": [
    "a1, a2, a3, x = sp.symbols(\"a_1 a_2 a_3 x\")\n",
    "u1, u2, u3 = sp.symbols(\"u_1 u_2 u_3\")\n",
    "f, L, A, E= sp.symbols(\"f L A E\")\n",
    "\n",
    "u = a1 + a2*x + a3*x**2;\n",
    "u = u.subs(a1, sp.solve(u.subs(x,-L/2) - u1, a1)[0]);\n",
    "u = u.subs(a2, sp.solve(u.subs(x, 0) - u3, a2)[0]);\n",
    "u = u.subs(a3, sp.solve(u.subs(x, L/2) - u2, a3)[0]);\n",
    "\n",
    "N = sp.Matrix([[sp.collect(sp.expand(u), [u1, u2, u3]).args[0].args[1],\n",
    "               sp.collect(sp.expand(u), [u1, u2, u3]).args[1].args[1],\n",
    "               sp.collect(sp.expand(u), [u1, u2, u3]).args[2].args[1]]]);\n",
    "\n",
    "D = sp.Matrix([E, E, E]);\n",
    "d = sp.Matrix([u1, u2, u3]);\n",
    "B = N.diff(x);\n",
    "P = sp.Matrix([0, f, 0]);\n",
    "\n",
    "pip = (A/2)*sp.integrate((d.transpose()*B.transpose()*E*B*d)[0], (x, 0, L)) - (d.transpose()*P)[0];\n",
    "dpipdu = sp.Matrix(\n",
    "    [\n",
    "        sp.collect(sp.expand(pip.diff(u1)), [u1, u2, u3]),\n",
    "        sp.collect(sp.expand(pip.diff(u2)), [u1, u2, u3]),\n",
    "        sp.collect(sp.expand(pip.diff(u3)), [u1, u2, u3])\n",
    "    ]);\n",
    "\n",
    "K = sp.Matrix(\n",
    "    [\n",
    "        [\n",
    "            sp.collect(dpipdu[0], [u1, u2, u3]).args[2]/u1, \n",
    "            sp.collect(dpipdu[0], [u1, u2, u3]).args[1]/u2, \n",
    "            sp.collect(dpipdu[0], [u1, u2, u3]).args[0]/u3\n",
    "        ],\n",
    "        [\n",
    "            sp.collect(dpipdu[1], [u1, u2, u3]).args[2]/u1,\n",
    "            sp.collect(dpipdu[1], [u1, u2, u3]).args[3]/u2,\n",
    "            sp.collect(dpipdu[1], [u1, u2, u3]).args[1]/u3,\n",
    "        ],\n",
    "        [\n",
    "            sp.collect(dpipdu[2], [u1, u2, u3]).args[0]/u1, \n",
    "            sp.collect(dpipdu[2], [u1, u2, u3]).args[1]/u2, \n",
    "            sp.collect(dpipdu[2], [u1, u2, u3]).args[2]/u3\n",
    "        ],\n",
    "    ]\n",
    ")/(A*E/L);\n",
    "\n",
    "print(\"B is \");\n",
    "B"
   ]
  },
  {
   "cell_type": "code",
   "execution_count": 64,
   "metadata": {},
   "outputs": [
    {
     "name": "stdout",
     "output_type": "stream",
     "text": [
      "K is \n"
     ]
    },
    {
     "data": {
      "text/latex": [
       "$$\\left[\\begin{matrix}\\frac{13 u_{2}}{3 u_{1}} & \\frac{7 u_{1}}{3 u_{2}} & - \\frac{20}{3}\\\\\\frac{13}{3} & \\frac{31}{3} & - \\frac{44}{3}\\\\- \\frac{44 u_{2}}{3 u_{1}} & - \\frac{20 u_{1}}{3 u_{2}} & \\frac{64}{3}\\end{matrix}\\right]$$"
      ],
      "text/plain": [
       "⎡ 13⋅u₂    7⋅u₁         ⎤\n",
       "⎢ ─────    ────    -20/3⎥\n",
       "⎢  3⋅u₁    3⋅u₂         ⎥\n",
       "⎢                       ⎥\n",
       "⎢ 13/3     31/3    -44/3⎥\n",
       "⎢                       ⎥\n",
       "⎢-44⋅u₂   -20⋅u₁        ⎥\n",
       "⎢───────  ───────  64/3 ⎥\n",
       "⎣  3⋅u₁     3⋅u₂        ⎦"
      ]
     },
     "execution_count": 64,
     "metadata": {},
     "output_type": "execute_result"
    }
   ],
   "source": [
    "print(\"K is \");\n",
    "K"
   ]
  },
  {
   "cell_type": "code",
   "execution_count": 61,
   "metadata": {},
   "outputs": [],
   "source": [
    "del(a1, a2, a3, x,u1, u2, u3, f, L, A, E);"
   ]
  },
  {
   "cell_type": "code",
   "execution_count": 62,
   "metadata": {},
   "outputs": [],
   "source": [
    "u1, u2, x, L = sp.symbols(\"u_1 u_2 x L\")\n",
    "a1, a2, E, f, R1, R2, A = sp.symbols(\"a_1 a_2 E f R1 R2 A\")\n",
    "\n",
    "u = a1 + a2*x;\n",
    "u = u.subs(a1, sp.solve(u.subs(x,0)-u1, a1)[0]);\n",
    "u = u.subs(a2, sp.solve(u.subs(x,L)-u2, a2)[0]);\n",
    "N = sp.Matrix([[\n",
    "    sp.collect(u.expand(), [u1, u2]).args[0].args[1],\n",
    "    sp.collect(u.expand(), [u1, u2]).args[1]/u2]]);\n",
    "\n",
    "B = N.diff(x);\n",
    "\n",
    "d = sp.Matrix([u1, u2])\n",
    "D = E\n",
    "P = sp.Matrix([R1, f])\n",
    "pip = ((A/2)*sp.integrate(d.transpose()*B.transpose()*D*B*d, (x, 0, L)) - d.transpose()*P)[0];\n",
    "\n",
    "    "
   ]
  },
  {
   "cell_type": "markdown",
   "metadata": {},
   "source": [
    "[TOC](#TOC)"
   ]
  },
  {
   "cell_type": "code",
   "execution_count": 55,
   "metadata": {},
   "outputs": [
    {
     "data": {
      "image/png": "[encoded data removed]",
      "text/latex": [
       "$$\\left [ u_{2} + \\frac{L R_{1}}{A E}\\right ]$$"
      ],
      "text/plain": [
       "⎡     L⋅R₁⎤\n",
       "⎢u₂ + ────⎥\n",
       "⎣     A⋅E ⎦"
      ]
     },
     "execution_count": 55,
     "metadata": {},
     "output_type": "execute_result"
    }
   ],
   "source": [
    "sp.solve(pip.diff(u1), u1)"
   ]
  },
  {
   "cell_type": "code",
   "execution_count": 56,
   "metadata": {},
   "outputs": [
    {
     "data": {
      "image/png": "[encoded data removed]",
      "text/latex": [
       "$$\\frac{A L \\left(- \\frac{E u_{1} \\left(- \\frac{u_{1}}{L} + \\frac{u_{2}}{L}\\right)}{L} + \\frac{E u_{2} \\left(- \\frac{u_{1}}{L} + \\frac{u_{2}}{L}\\right)}{L}\\right)}{2} - R_{1} u_{1} - f u_{2}$$"
      ],
      "text/plain": [
       "    ⎛       ⎛  u₁   u₂⎞        ⎛  u₁   u₂⎞⎞               \n",
       "    ⎜  E⋅u₁⋅⎜- ── + ──⎟   E⋅u₂⋅⎜- ── + ──⎟⎟               \n",
       "    ⎜       ⎝  L    L ⎠        ⎝  L    L ⎠⎟               \n",
       "A⋅L⋅⎜- ──────────────── + ────────────────⎟               \n",
       "    ⎝         L                  L        ⎠               \n",
       "─────────────────────────────────────────── - R₁⋅u₁ - f⋅u₂\n",
       "                     2                                    "
      ]
     },
     "execution_count": 56,
     "metadata": {},
     "output_type": "execute_result"
    }
   ],
   "source": [
    "pip"
   ]
  },
  {
   "cell_type": "markdown",
   "metadata": {},
   "source": [
    "<a name=\"Prob_315\"></a>\n",
    "### Problem 3.15"
   ]
  },
  {
   "cell_type": "markdown",
   "metadata": {},
   "source": [
    "[TOC](#TOC)"
   ]
  },
  {
   "cell_type": "markdown",
   "metadata": {},
   "source": [
    "<a name=\"Prob_316\"></a>\n",
    "### Problem 3.16"
   ]
  },
  {
   "cell_type": "markdown",
   "metadata": {},
   "source": [
    "[TOC](#TOC)"
   ]
  },
  {
   "cell_type": "markdown",
   "metadata": {},
   "source": [
    "<a name=\"Prob_320\"></a>\n",
    "### Problem 3.20"
   ]
  },
  {
   "cell_type": "markdown",
   "metadata": {},
   "source": [
    "[TOC](#TOC)"
   ]
  },
  {
   "cell_type": "markdown",
   "metadata": {},
   "source": [
    "<a name=\"Prob_321\"></a>\n",
    "### Problem 3.21"
   ]
  },
  {
   "cell_type": "markdown",
   "metadata": {},
   "source": [
    "[TOC](#TOC)"
   ]
  },
  {
   "cell_type": "markdown",
   "metadata": {},
   "source": [
    "<a name=\"Prob_342\"></a>\n",
    "### Problem 3.42"
   ]
  },
  {
   "cell_type": "markdown",
   "metadata": {},
   "source": [
    "[TOC](#TOC)"
   ]
  },
  {
   "cell_type": "markdown",
   "metadata": {},
   "source": [
    "<a name=\"Prob_349\"></a>\n",
    "### Problem 3.49"
   ]
  },
  {
   "cell_type": "markdown",
   "metadata": {},
   "source": [
    "[TOC](#TOC)"
   ]
  },
  {
   "cell_type": "markdown",
   "metadata": {},
   "source": [
    "<a name=\"Sim\"></a>\n",
    "## Simulations\n",
    "***"
   ]
  },
  {
   "cell_type": "markdown",
   "metadata": {},
   "source": [
    "<a name=\"Sim_320\"></a>\n",
    "### Simulation of problem 3.20"
   ]
  },
  {
   "cell_type": "markdown",
   "metadata": {},
   "source": [
    "[TOC](#TOC)"
   ]
  },
  {
   "cell_type": "markdown",
   "metadata": {},
   "source": [
    "<a name=\"Sim_342\"></a>\n",
    "### Simulation of problem 3.42"
   ]
  },
  {
   "cell_type": "markdown",
   "metadata": {},
   "source": [
    "[TOC](#TOC)"
   ]
  },
  {
   "cell_type": "markdown",
   "metadata": {},
   "source": [
    "<a name=\"Sim_349\"></a>\n",
    "### Simulation of problem 3.49"
   ]
  },
  {
   "cell_type": "markdown",
   "metadata": {},
   "source": [
    "[TOC](#TOC)"
   ]
  }
 ],
 "metadata": {
  "kernelspec": {
   "display_name": "Python 3",
   "language": "python",
   "name": "python3"
  },
  "language_info": {
   "codemirror_mode": {
    "name": "ipython",
    "version": 3
   },
   "file_extension": ".py",
   "mimetype": "text/x-python",
   "name": "python",
   "nbconvert_exporter": "python",
   "pygments_lexer": "ipython3",
   "version": "3.5.5"
  }
 },
 "nbformat": 4,
 "nbformat_minor": 2
}
