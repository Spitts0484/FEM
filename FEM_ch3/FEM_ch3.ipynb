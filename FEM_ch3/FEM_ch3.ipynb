{
 "cells": [
  {
   "cell_type": "code",
   "execution_count": 2,
   "metadata": {},
   "outputs": [],
   "source": [
    "%matplotlib inline\n",
    "\n",
    "import matplotlib.pyplot as plt;\n",
    "import sympy as sp;\n",
    "\n",
    "sp.init_printing;"
   ]
  },
  {
   "cell_type": "markdown",
   "metadata": {},
   "source": [
    "<a name=\"TOC\"></a>\n",
    "\n",
    "# Table of Contents\n",
    "***\n",
    "***\n",
    "1. [Chapter Summary](#CS)\n",
    " 1. [Stiffness Matrix for a bar element in Local Coordinates](#CS_stiff)\n",
    " 1. [Shape Functions](#CS_shape)\n",
    " 1. [Vector Transformations for a bar in 2D](#CS_trans2d)\n",
    " 1. [Stiffness Matrix for a bar in 2D](#CS_stiff2d)\n",
    " 1. [Stress calculations for a bar in 2D](#CS_stress2d)\n",
    " 1. [Vector Transformations for a bar in 3D](#CS_trans3d)\n",
    " 1. [Stress calculations for a bar in 3D](#CS_stress3d)\n",
    " 1. [Inclined/Skewed constraints](#CS_cnstrnt)\n",
    " 1. [Potential Energy Approach](#CS_pe)\n",
    " 1. [Galerkin's Residual Method to derive 1D bar element equation](#CS_galerkin)\n",
    " 1. [Review of other Residual Methods](#CS_residual)\n",
    "2. [Problems](#Prob)\n",
    " 1. [3.1](#Prob_31)\n",
    " 1. [3.13](#Prob_313)\n",
    " 1. [3.15](#Prob_315)\n",
    " 1. [3.16](#Prob_316)\n",
    " 1. [3.20](#Prob_320)\n",
    " 1. [3.21](#Prob_321)\n",
    " 1. [3.42](#Prob_342)\n",
    " 1. [3.49](#Prob_349)\n",
    "3. [Simulations](#Sim)\n",
    "  1. [3.20](#Sim_320)\n",
    "  1. [3.42](#Sim_342)\n",
    "  1. [3.49](#Sim_349)"
   ]
  },
  {
   "cell_type": "markdown",
   "metadata": {},
   "source": [
    "<a name=\"CS\"></a>\n",
    "## Chapter Summary\n",
    "***"
   ]
  },
  {
   "cell_type": "markdown",
   "metadata": {},
   "source": [
    "<a name=\"CS_stiff\"></a>\n",
    "### Stiffness Matrix for a bar element in Local Coordinates\n",
    "\n",
    "The bar, or truss, is considered to be have a constant cross sectional area $A$, has a length of $L$, and is only capable of resisting axial deflections caused by tensile force $T$ and therefore gives us the ability to approximate tensile stresses $\\sigma$; to calculate these fields, the bar will be made of a linear elastic material with a modulus of elasticity $E$ that allows conversions between the tensile stress and strains $\\epsilon$. The previous chapters considered idealized springs which resisted axial deflections but did not have stress since there was no cross sectional area to distribute the force over.<br>\n",
    "To begin, let's define axial stress $\\sigma_x$ as the distribution of the tensile force $T$ at a node of the bar element over the bar's cross sectional area $A$.\n",
    "\n",
    "$$\\sigma = \\frac{T}{A}$$<br>\n",
    "Next, we relate the axial strain of the bar $\\epsilon_x$ to $\\sigma_x$ using Hooke's law and the modulus of elasticity of the bar's material, $E$.\n",
    "\n",
    "$$\\sigma_x = E\\epsilon_x$$<br>\n",
    "The axial strain of the bar is defined by the change in length of the bar element over the original length of the bar element. \n",
    "\n",
    "$$\\epsilon_x = \\frac{du}{dx}$$<br>\n",
    "We can now combine the above equations and solve for the nodal force to get closer to the format used in the previous chapters.\n",
    "\n",
    "$$ T = EA\\frac{du}{dx}$$<br>\n",
    "Initial considerations of a bar will only have loads applied at the nodes which yields the property that the change in stress of the bar along it's length is 0.\n",
    "\n",
    "$$\\frac{d}{dx}\\biggl(EA\\frac{du}{dx}\\biggr) = 0$$<br>\n",
    "Neither the cross sectional area, nor the modulus of elasticity have been taken out of the derivative in preparation for a time when the cross sectional area and/or material property varies along the length of the bar element.\n",
    "<br><br>\n",
    "[TOC](#TOC)\n"
   ]
  },
  {
   "cell_type": "code",
   "execution_count": 39,
   "metadata": {},
   "outputs": [
    {
     "data": {
      "image/png": "[encoded data removed]",
      "text/plain": [
       "<Figure size 432x288 with 1 Axes>"
      ]
     },
     "metadata": {
      "needs_background": "light"
     },
     "output_type": "display_data"
    }
   ],
   "source": [
    "plt.quiver(0,0, 1, 0, scale=2);\n",
    "plt.quiver(0,0,0,1, scale=20);\n",
    "plt.quiver(0,0, 0.8, .2, scale=2);\n",
    "plt.grid()\n",
    "plt.xlim(-2,2);\n",
    "plt.ylim(-1.50,1.50);\n",
    "plt.show()"
   ]
  },
  {
   "cell_type": "markdown",
   "metadata": {},
   "source": [
    "<a name=\"CS_shape\"></a>\n",
    "### Shape Functions\n",
    "\n",
    "The matrix equations allow for the approximation of the field equations at nodes. It is often necessary to approximate one of the field values at a some location that is in/on an element but is in between the end nodes. To do this, we requiquire an interpolation equation that blends the value of a field variable between all pertinent nodes. In the case of the bar element, we need a way of approximating the displacement at any location on the element. To do this, we assume a displacement function for our element as\n",
    "\n",
    "$$u(x) = a_0 + a_1x$$<br>\n",
    "In general, the displacement functions has as many constants as the element has Degrees of Freedom (DOF). If our bar element had an intermediate node, then our assumed displacement function would be $u(x) = a_0 + a_1x + a_2x^2$. To determine the values of the constants, we enforce the \"boundary conditions\" of the bar element that $u(0)=u_0$ and $u(L) = u_1$\n",
    "\n",
    "$$u(0) = u_0 = a_1$$<br>\n",
    "$$u(L) = u_1 = u_0 + a_1L \\implies a_1 = \\frac{u_1-u_0}{L}$$\n",
    "$$u(x) = u_0 + \\frac{u_1-u_0}{L}x$$\n",
    "$$u(x) = u_0(1-\\frac{x}{L}) + u_1(\\frac{x}{L})$$\n",
    "$$u(x) = \\begin{bmatrix}1-\\frac{x}{L} & \\frac{x}{L}\\end{bmatrix}\\begin{bmatrix}u_0\\\\u_1\\end{bmatrix}$$\n",
    "$$u(x) = \\begin{bmatrix}N_0 & N_1\\end{bmatrix}\\begin{bmatrix}u_0\\\\u_1\\end{bmatrix}\\ \\  where\\ N_0 = 1-\\frac{x}{L}\\ \\  and\\ \\  N_1 = \\frac{x}{L}$$<br>\n",
    "$N_0$ and $N_1$ are called shape functions and they contain the following properties:\n",
    "1. Must be continuous within the bar element\n",
    "2. Shape functions between two elements which share a node must conform with eachother. This prevents two elements from seperating or overlapping at the node. This property of the shape functions is the reason they are sometimes reffered to as *conforming* or *compatibility* functions. This basic assumption is critical to FEA and allows the information from one element to pass to the next element.\n",
    "3. Must allow for rigid body motion; consequently, the shape functions of an element must sum to be zero. In the case of the bar element, if $u_0$ and $u_1$ are equal, then $u(x) = 1$\n",
    "\n",
    "[TOC](#TOC)"
   ]
  },
  {
   "cell_type": "markdown",
   "metadata": {},
   "source": [
    "<a name=\"CS_trans2d\"></a>\n",
    "### Vector Transformations for a bar in 2D\n",
    "\n",
    "For Reasons that will become apparant later, we need a way of jumping between the global coordinate system, which has $\\boldsymbol{i}$ and $\\boldsymbol{j}$ unit vectors aligned with the global x and y axis, and the local coordinate system, which has $\\boldsymbol{i}'$ and $\\boldsymbol{j}'$ unit vectors with the $\\boldsymbol{i}'$ unit vector aligned with the axis of the bar element and the $\\boldsymbol{j}'$ unit vector perpendicular to the axis. In the 2D case, lets assume that the local coordinate system has been rotated by an $\\theta$ radians from the global coordinate system. We can then define the local unit vectors as some combination of sines and cosines of the global unit vectors as.\n",
    "\n",
    "$$ \\boldsymbol{i}' = \\boldsymbol{i} \\cos{\\theta} + \\boldsymbol{j} \\sin{\\theta}$$\n",
    "$$ \\boldsymbol{j}' = -\\boldsymbol{i} \\sin{\\theta} + \\boldsymbol{j} \\cos{\\theta}$$<br>\n",
    "writing in matrix notation we get\n",
    "\n",
    "$$\\begin{bmatrix} \\boldsymbol{i}' \\\\ \\boldsymbol{j}' \\end{bmatrix} = \n",
    "\\begin{bmatrix} \\cos{\\theta} & \\sin{\\theta} \\\\ -\\sin{\\theta} & \\cos{\\theta} \\end{bmatrix}\n",
    "\\begin{bmatrix}\\boldsymbol{i} \\\\ \\boldsymbol{j} \\end{bmatrix}$$<br>\n",
    "In shorthand notation we write\n",
    "\n",
    "$$\\begin{bmatrix} \\boldsymbol{i}' \\\\ \\boldsymbol{j}' \\end{bmatrix} = \n",
    "\\begin{bmatrix} C & S \\\\ -S & C \\end{bmatrix}\n",
    "\\begin{bmatrix}\\boldsymbol{i} \\\\ \\boldsymbol{j} \\end{bmatrix}$$<br><br>\n",
    "where $C = \\cos{\\theta}$ and $S=\\sin{\\theta}$. This *transformation*, or *rotation*, *matrix* can be used on transfer any vector quantity from the local coordinate system, or basis, to the global coordinate system or vice-versa. It is left to the reader to investigate the interesting relationship between the inverse and trasnpose of the transformation matrix; this odd but useful property is a result of the rotation matrix being orthogonal.<br>\n",
    "\n",
    "\n",
    "[TOC](#TOC)"
   ]
  },
  {
   "cell_type": "markdown",
   "metadata": {},
   "source": [
    "<a name=\"CS_stiff2d\"></a>\n",
    "### Stiffness matrix for a bar in 2D\n",
    "\n",
    "In the case of the stiffness matrix, lets analyze a bar element oriented at an angle $\\theta$ relative to the global coordinate system. In the local coordinate system, we express the system of equations as\n",
    "\n",
    "$$ \\begin{bmatrix}f_1' \\\\ f_2' \\end{bmatrix} = \n",
    "\\begin{bmatrix}k & -k \\\\ -k & k \\end{bmatrix}\n",
    "\\begin{bmatrix}u_1' \\\\ u_2' \\end{bmatrix}\n",
    "\\implies\n",
    "\\boldsymbol{f}' = \\boldsymbol{k}' \\boldsymbol{d}'$$<br>\n",
    "To determine the transformation matrix, we look at the displacement vectors and see that\n",
    "\n",
    "$$u_1' = u_1 C + v_1 S$$\n",
    "$$u_2' = u_2 C + v_2 S$$<br>\n",
    "yielding the equation\n",
    "\n",
    "$$\\begin{bmatrix} u_1' \\\\ u_2' \\end{bmatrix} = \n",
    "\\begin {bmatrix} C & S & 0 & 0 \\\\ 0 & 0 & C & S \\end{bmatrix}\n",
    "\\begin{bmatrix}u_1 \\\\ v_1 \\\\ u_2 \\\\ v_2 \\end{bmatrix}$$<br>\n",
    "or more conciseley\n",
    "\n",
    "$$ \\boldsymbol{d}' = \\boldsymbol{T}^* \\boldsymbol{d}$$<br>\n",
    "The * is used to indicate that the transformation is incomplete/incorrect for reasons that will be apparent later. This equation can be substituted into the system of equations for the local coordinate system and yields\n",
    "\n",
    "$$ \\boldsymbol{f}' = \\boldsymbol{k}' \\boldsymbol{T}^* \\boldsymbol{d}$$<br>\n",
    "similarly \n",
    "\n",
    "$$\\begin{bmatrix}f_1' \\\\ f_2' \\end{bmatrix} = \n",
    "\\boldsymbol{T}^*\n",
    "\\begin{bmatrix}f_{1x} \\\\ f_{1y} \\\\ f_{2x} \\\\ f_{2y} \\end{bmatrix} \n",
    "\\implies\n",
    "\\boldsymbol{f}' = \\boldsymbol{T}^* \\boldsymbol{f}\n",
    "$$<br>\n",
    "which can also be substituted into the previous equation yielding\n",
    "\n",
    "$$\\boldsymbol{T}^* \\boldsymbol{f} = \\boldsymbol{k}' \\boldsymbol{T}^* \\boldsymbol{d}$$<br>\n",
    "Though this system of equations is technically true, it yields an immediate issue if one tries to solve for $\\boldsymbol{d}$ as has been done in previous sections; the transformation matrix $\\boldsymbol{T}^*$ is not square and is therefore non-invertible. To rectify this, the entire system of equation must be expanded to include $v_1'$, $v_2'$, $f_1'$, and $f_2'$ in the original system of equations even though they must all come to be 0. This activity is left to the reader, for which they should reference the derivation in the \"Vector Transformation for a bar in 2D\" section. We find the correct transformation matrix to be\n",
    "\n",
    "$$ \\boldsymbol{T} = \n",
    "\\begin{bmatrix}C & S & 0 & 0 \\\\ -S & C & 0 & 0 \\\\ 0 & 0 & C & S \\\\ 0 & 0 & -S & C \\end{bmatrix}$$<br>\n",
    "which gives the displacement transformation of\n",
    "\n",
    "$$ \\begin{bmatrix}u_1' \\\\ v_1' \\\\ u_2' \\\\ v_2' \\end{bmatrix} = \n",
    "\\boldsymbol{T}\n",
    "\\begin{bmatrix} u_1 \\\\ v_1 \\\\ u_2 \\\\ v_2 \\end{bmatrix}$$<br>\n",
    "\n",
    "$$ \\begin{bmatrix}f_1' \\\\ f_1' \\\\ f_2' \\\\ f_2' \\end{bmatrix} = \n",
    "\\boldsymbol{T}\n",
    "\\begin{bmatrix} f_{1x} \\\\ f_{1y} \\\\ f_{2x} \\\\ f_{2y} \\end{bmatrix}$$<br>\n",
    "\n",
    "Therefore\n",
    "$$ \\boldsymbol{T} \\boldsymbol{f} = \\boldsymbol{k}' \\boldsymbol{T} \\boldsymbol{d}$$<br>\n",
    "$$ \\boldsymbol{f} = \\boldsymbol{T}^{-1}\\boldsymbol{k}' \\boldsymbol{T} \\boldsymbol{d}$$<br>\n",
    "$$ \\therefore \\boldsymbol{f} = \\boldsymbol{k}\\boldsymbol{d}\\ \\ where\\ \\ \\boldsymbol{k} = \\boldsymbol{T}^T\\boldsymbol{k}\\boldsymbol{T}$$<br>\n",
    "[TOC](#TOC)"
   ]
  },
  {
   "cell_type": "markdown",
   "metadata": {},
   "source": [
    "<a name=\"CS_stress2d\"></a>\n",
    "### Stress Calculations for a bar in 2D\n",
    "\n",
    "[TOC](#TOC)"
   ]
  },
  {
   "cell_type": "markdown",
   "metadata": {},
   "source": [
    "<a name=\"CS_trans3d\"></a>\n",
    "### Vector Transformations for a bar in 3D\n",
    "\n",
    "[TOC](#TOC)"
   ]
  },
  {
   "cell_type": "markdown",
   "metadata": {},
   "source": [
    "<a name=\"CS_stress3d\"></a>\n",
    "### Stress Calculations for a bar in 3D\n",
    "\n",
    "[TOC](#TOC)"
   ]
  },
  {
   "cell_type": "markdown",
   "metadata": {},
   "source": [
    "<a name=\"CS_cnstrnt\"></a>\n",
    "### Inclined/Skewed Constraints\n",
    "\n",
    "[TOC](#TOC)"
   ]
  },
  {
   "cell_type": "markdown",
   "metadata": {},
   "source": [
    "<a name=\"CS_pe\"></a>\n",
    "### Potential Energy Approach\n",
    "\n",
    "[TOC](#TOC)"
   ]
  },
  {
   "cell_type": "markdown",
   "metadata": {},
   "source": [
    "<a name=\"CS_galerkin\"></a>\n",
    "### Galerkin's Residual Method to derive 1D bar element equation\n",
    "\n",
    "[TOC](#TOC)"
   ]
  },
  {
   "cell_type": "markdown",
   "metadata": {},
   "source": [
    "<a name=\"CS_residual\"></a>\n",
    "### Review of other Residual Methods\n",
    "\n",
    "[TOC](#TOC)"
   ]
  },
  {
   "cell_type": "markdown",
   "metadata": {},
   "source": [
    "<a name=\"Prob\"></a>\n",
    "\n",
    "## Problems\n",
    "***"
   ]
  },
  {
   "cell_type": "markdown",
   "metadata": {},
   "source": [
    "<a name=\"Prob_31\"></a>\n",
    "### Problem 3.1"
   ]
  },
  {
   "cell_type": "markdown",
   "metadata": {},
   "source": [
    "[TOC](#TOC)"
   ]
  },
  {
   "cell_type": "markdown",
   "metadata": {},
   "source": [
    "<a name=\"Prob_313\"></a>\n",
    "### Problem 3.13"
   ]
  },
  {
   "cell_type": "markdown",
   "metadata": {},
   "source": [
    "[TOC](#TOC)"
   ]
  },
  {
   "cell_type": "markdown",
   "metadata": {},
   "source": [
    "<a name=\"Prob_315\"></a>\n",
    "### Problem 3.15"
   ]
  },
  {
   "cell_type": "markdown",
   "metadata": {},
   "source": [
    "[TOC](#TOC)"
   ]
  },
  {
   "cell_type": "markdown",
   "metadata": {},
   "source": [
    "<a name=\"Prob_316\"></a>\n",
    "### Problem 3.16"
   ]
  },
  {
   "cell_type": "markdown",
   "metadata": {},
   "source": [
    "[TOC](#TOC)"
   ]
  },
  {
   "cell_type": "markdown",
   "metadata": {},
   "source": [
    "<a name=\"Prob_320\"></a>\n",
    "### Problem 3.20"
   ]
  },
  {
   "cell_type": "markdown",
   "metadata": {},
   "source": [
    "[TOC](#TOC)"
   ]
  },
  {
   "cell_type": "markdown",
   "metadata": {},
   "source": [
    "<a name=\"Prob_321\"></a>\n",
    "### Problem 3.21"
   ]
  },
  {
   "cell_type": "markdown",
   "metadata": {},
   "source": [
    "[TOC](#TOC)"
   ]
  },
  {
   "cell_type": "markdown",
   "metadata": {},
   "source": [
    "<a name=\"Prob_342\"></a>\n",
    "### Problem 3.42"
   ]
  },
  {
   "cell_type": "markdown",
   "metadata": {},
   "source": [
    "[TOC](#TOC)"
   ]
  },
  {
   "cell_type": "markdown",
   "metadata": {},
   "source": [
    "<a name=\"Prob_349\"></a>\n",
    "### Problem 3.49"
   ]
  },
  {
   "cell_type": "markdown",
   "metadata": {},
   "source": [
    "[TOC](#TOC)"
   ]
  },
  {
   "cell_type": "markdown",
   "metadata": {},
   "source": [
    "<a name=\"Sim\"></a>\n",
    "## Simulations\n",
    "***"
   ]
  },
  {
   "cell_type": "markdown",
   "metadata": {},
   "source": [
    "<a name=\"Sim_320\"></a>\n",
    "### Simulation of problem 3.20"
   ]
  },
  {
   "cell_type": "markdown",
   "metadata": {},
   "source": [
    "[TOC](#TOC)"
   ]
  },
  {
   "cell_type": "markdown",
   "metadata": {},
   "source": [
    "<a name=\"Sim_342\"></a>\n",
    "### Simulation of problem 3.42"
   ]
  },
  {
   "cell_type": "markdown",
   "metadata": {},
   "source": [
    "[TOC](#TOC)"
   ]
  },
  {
   "cell_type": "markdown",
   "metadata": {},
   "source": [
    "<a name=\"Sim_349\"></a>\n",
    "### Simulation of problem 3.49"
   ]
  },
  {
   "cell_type": "markdown",
   "metadata": {},
   "source": [
    "[TOC](#TOC)"
   ]
  }
 ],
 "metadata": {
  "kernelspec": {
   "display_name": "Python 3",
   "language": "python",
   "name": "python3"
  },
  "language_info": {
   "codemirror_mode": {
    "name": "ipython",
    "version": 3
   },
   "file_extension": ".py",
   "mimetype": "text/x-python",
   "name": "python",
   "nbconvert_exporter": "python",
   "pygments_lexer": "ipython3",
   "version": "3.5.5"
  }
 },
 "nbformat": 4,
 "nbformat_minor": 2
}
