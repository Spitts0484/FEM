{
 "cells": [
  {
   "cell_type": "markdown",
   "metadata": {},
   "source": [
    "# Chapter 4: Development of Beam Equations"
   ]
  },
  {
   "cell_type": "code",
   "execution_count": 5,
   "metadata": {},
   "outputs": [],
   "source": [
    "import matplotlib.pyplot as plt\n",
    "import numpy as np\n",
    "import sympy as sp\n",
    "\n",
    "sp.init_printing()\n",
    "%matplotlib inline"
   ]
  },
  {
   "cell_type": "markdown",
   "metadata": {},
   "source": [
    "## Steps for FEA\n",
    "\n",
    "1. Discretize and select the element types\n",
    "1. Select Displacement Function\n",
    "1. Define the strain/displacement and stress/strain relationships\n",
    "1. Derive the element stiffness Matrix and equations\n",
    "  1. Direct Stiffness Method\n",
    "  1. Work or Energy Method\n",
    "  1. Methods of Residuals\n",
    "1. Assemble the equations to obtain the global or ttoal equations and introduce boundar conditions\n",
    "1. Solve for unkown degrees of freedom\n",
    "1. Solve for element strains and stresses\n",
    "1. Interpret the results"
   ]
  },
  {
   "cell_type": "markdown",
   "metadata": {},
   "source": [
    "![alt text](under-928246_640.jpg \"Image of the beam element with all degrees of freedom\")"
   ]
  },
  {
   "cell_type": "markdown",
   "metadata": {},
   "source": [
    "## Euler Bernoulli beam theory (bending only)\n",
    "For this theory, we assume that any plane that was perpendicular to the beam's neutral axis prior to deformation will remain perpendicular to the the neutral axis after deformation. This theory is typically sufficient for most loadings"
   ]
  },
  {
   "cell_type": "code",
   "execution_count": 180,
   "metadata": {},
   "outputs": [],
   "source": [
    "V, w, Fy, x, M, k, YM, rho, MoI= sp.symbols('V w(x) F_y x M kappa E rho I', real=True)\n",
    "a1, a2, a3, a4 = sp.symbols(\"a_1 a_2 a_3 a_4\", real=True)\n",
    "vx, v0, v1, phi0, phi1 = sp.symbols('v(x) v_0 v_1 phi_0 phi_1')\n",
    "sFy = sp.Symbol('\\Sigma F_y')\n",
    "sM2 = sp.Symbol('\\Sigma M_2')\n",
    "dx = sp.Symbol('\\Delta x', real=True)\n",
    "dV = sp.Symbol('\\Delta V', real=True)\n",
    "dM = sp.Symbol(\"\\Delta M\", real=True)"
   ]
  },
  {
   "cell_type": "markdown",
   "metadata": {},
   "source": [
    "### Summation of vertical forces"
   ]
  },
  {
   "cell_type": "code",
   "execution_count": 181,
   "metadata": {},
   "outputs": [
    {
     "data": {
      "image/png": "[encoded data removed]",
      "text/latex": [
       "$$\\Sigma F_y = 0$$"
      ],
      "text/plain": [
       "\\Sigma F_y = 0"
      ]
     },
     "execution_count": 181,
     "metadata": {},
     "output_type": "execute_result"
    }
   ],
   "source": [
    "sp.Eq(sFy, 0)"
   ]
  },
  {
   "cell_type": "code",
   "execution_count": 182,
   "metadata": {},
   "outputs": [
    {
     "data": {
      "image/png": "[encoded data removed]",
      "text/latex": [
       "$$V = V + \\Delta V + \\Delta x w(x)$$"
      ],
      "text/plain": [
       "V = V + \\Delta V + \\Delta x⋅w(x)"
      ]
     },
     "execution_count": 182,
     "metadata": {},
     "output_type": "execute_result"
    }
   ],
   "source": [
    "eqn = sp.Eq(V,(V+dV)+w*dx)\n",
    "eqn"
   ]
  },
  {
   "cell_type": "code",
   "execution_count": 183,
   "metadata": {},
   "outputs": [
    {
     "data": {
      "image/png": "[encoded data removed]",
      "text/latex": [
       "$$w(x) = - \\frac{\\Delta V}{\\Delta x}$$"
      ],
      "text/plain": [
       "       -\\Delta V \n",
       "w(x) = ──────────\n",
       "        \\Delta x "
      ]
     },
     "execution_count": 183,
     "metadata": {},
     "output_type": "execute_result"
    }
   ],
   "source": [
    "sp.Eq(w,sp.solveset(f=eqn, symbol=w, domain=sp.S.Reals).args[0])"
   ]
  },
  {
   "cell_type": "markdown",
   "metadata": {},
   "source": [
    "Now we take $\\lim_{\\Delta x \\to 0}$"
   ]
  },
  {
   "cell_type": "code",
   "execution_count": 184,
   "metadata": {},
   "outputs": [
    {
     "data": {
      "image/png": "[encoded data removed]",
      "text/latex": [
       "$$w(x) = - \\frac{\\partial}{\\partial x} \\left(a_{1} x^{3} + a_{2} x^{2} + a_{3} x + v_{0}\\right)$$"
      ],
      "text/plain": [
       "        ∂ ⎛    3       2            ⎞\n",
       "w(x) = -──⎝a₁⋅x  + a₂⋅x  + a₃⋅x + v₀⎠\n",
       "        ∂x                           "
      ]
     },
     "execution_count": 184,
     "metadata": {},
     "output_type": "execute_result"
    }
   ],
   "source": [
    "sp.Eq(w,-sp.Derivative(v,x))"
   ]
  },
  {
   "cell_type": "markdown",
   "metadata": {},
   "source": [
    "### Summation of moments"
   ]
  },
  {
   "cell_type": "code",
   "execution_count": 185,
   "metadata": {},
   "outputs": [
    {
     "data": {
      "image/png": "[encoded data removed]",
      "text/latex": [
       "$$\\Sigma M_2 = 0$$"
      ],
      "text/plain": [
       "\\Sigma M₂ = 0"
      ]
     },
     "execution_count": 185,
     "metadata": {},
     "output_type": "execute_result"
    }
   ],
   "source": [
    "sp.Eq(sM2)"
   ]
  },
  {
   "cell_type": "code",
   "execution_count": 186,
   "metadata": {},
   "outputs": [
    {
     "data": {
      "image/png": "[encoded data removed]",
      "text/latex": [
       "$$M + V \\Delta x = M + \\Delta M + \\frac{\\Delta x^{2} w(x)}{2}$$"
      ],
      "text/plain": [
       "                                        2     \n",
       "                                \\Delta x ⋅w(x)\n",
       "M + V⋅\\Delta x = M + \\Delta M + ──────────────\n",
       "                                      2       "
      ]
     },
     "execution_count": 186,
     "metadata": {},
     "output_type": "execute_result"
    }
   ],
   "source": [
    "eqn = sp.Eq(M + V*dx, M+dM + w*dx*dx/2)\n",
    "eqn"
   ]
  },
  {
   "cell_type": "code",
   "execution_count": 187,
   "metadata": {},
   "outputs": [
    {
     "data": {
      "image/png": "[encoded data removed]",
      "text/latex": [
       "$$- V + \\frac{\\Delta M}{\\Delta x} + \\frac{\\Delta x w(x)}{2} = 0$$"
      ],
      "text/plain": [
       "     \\Delta M   \\Delta x⋅w(x)    \n",
       "-V + ──────── + ───────────── = 0\n",
       "     \\Delta x         2          "
      ]
     },
     "execution_count": 187,
     "metadata": {},
     "output_type": "execute_result"
    }
   ],
   "source": [
    "eqn = -V*dx + dM + w*dx*dx/2\n",
    "eqn = eqn/dx\n",
    "sp.Eq(eqn.simplify())"
   ]
  },
  {
   "cell_type": "markdown",
   "metadata": {},
   "source": [
    "taking $\\lim_{\\Delta x \\to 0}$"
   ]
  },
  {
   "cell_type": "code",
   "execution_count": 188,
   "metadata": {},
   "outputs": [
    {
     "data": {
      "image/png": "[encoded data removed]",
      "text/latex": [
       "$$V = \\frac{d}{d x} M$$"
      ],
      "text/plain": [
       "    d    \n",
       "V = ──(M)\n",
       "    dx   "
      ]
     },
     "execution_count": 188,
     "metadata": {},
     "output_type": "execute_result"
    }
   ],
   "source": [
    "eqn = sp.Eq(V,sp.Derivative(M,x))\n",
    "eqn"
   ]
  },
  {
   "cell_type": "markdown",
   "metadata": {},
   "source": [
    "### Recalling curvatures"
   ]
  },
  {
   "cell_type": "code",
   "execution_count": 189,
   "metadata": {},
   "outputs": [
    {
     "data": {
      "image/png": "[encoded data removed]",
      "text/latex": [
       "$$\\kappa = \\frac{1}{\\rho}$$"
      ],
      "text/plain": [
       "    1\n",
       "κ = ─\n",
       "    ρ"
      ]
     },
     "execution_count": 189,
     "metadata": {},
     "output_type": "execute_result"
    }
   ],
   "source": [
    "eqn = sp.Eq(k, 1/rho)\n",
    "eqn"
   ]
  },
  {
   "cell_type": "code",
   "execution_count": 190,
   "metadata": {},
   "outputs": [
    {
     "data": {
      "image/png": "[encoded data removed]",
      "text/latex": [
       "$$\\frac{1}{\\rho} = \\frac{M}{E I}$$"
      ],
      "text/plain": [
       "1    M \n",
       "─ = ───\n",
       "ρ   E⋅I"
      ]
     },
     "execution_count": 190,
     "metadata": {},
     "output_type": "execute_result"
    }
   ],
   "source": [
    "eqn = sp.Eq(1/rho, M/(YM*MoI))\n",
    "eqn"
   ]
  },
  {
   "cell_type": "markdown",
   "metadata": {},
   "source": [
    "also, recalling the formula for calculating the radius of curveature"
   ]
  },
  {
   "cell_type": "code",
   "execution_count": 191,
   "metadata": {},
   "outputs": [
    {
     "data": {
      "image/png": "[encoded data removed]",
      "text/latex": [
       "$$\\frac{1}{\\rho} = \\frac{M}{E I}$$"
      ],
      "text/plain": [
       "1    M \n",
       "─ = ───\n",
       "ρ   E⋅I"
      ]
     },
     "execution_count": 191,
     "metadata": {},
     "output_type": "execute_result"
    }
   ],
   "source": [
    "eqn"
   ]
  },
  {
   "cell_type": "markdown",
   "metadata": {},
   "source": [
    "realize that $v' = \\phi$ and we are assuming small angles so $v'^2 \\approx 0$"
   ]
  },
  {
   "cell_type": "code",
   "execution_count": 192,
   "metadata": {},
   "outputs": [
    {
     "data": {
      "image/png": "[encoded data removed]",
      "text/latex": [
       "$$\\kappa = \\frac{\\partial^{2}}{\\partial x^{2}} \\left(a_{1} x^{3} + a_{2} x^{2} + a_{3} x + v_{0}\\right)$$"
      ],
      "text/plain": [
       "      2                           \n",
       "     ∂ ⎛    3       2            ⎞\n",
       "κ = ───⎝a₁⋅x  + a₂⋅x  + a₃⋅x + v₀⎠\n",
       "      2                           \n",
       "    ∂x                            "
      ]
     },
     "execution_count": 192,
     "metadata": {},
     "output_type": "execute_result"
    }
   ],
   "source": [
    "eqn = sp.Eq(k, sp.Derivative(v,x,x));\n",
    "eqn"
   ]
  },
  {
   "cell_type": "markdown",
   "metadata": {},
   "source": [
    "giving us the expression"
   ]
  },
  {
   "cell_type": "code",
   "execution_count": 193,
   "metadata": {},
   "outputs": [
    {
     "data": {
      "image/png": "[encoded data removed]",
      "text/latex": [
       "$$\\frac{M}{E I} = \\frac{d^{2}}{d x^{2}} V$$"
      ],
      "text/plain": [
       "        2   \n",
       " M     d    \n",
       "─── = ───(V)\n",
       "E⋅I     2   \n",
       "      dx    "
      ]
     },
     "execution_count": 193,
     "metadata": {},
     "output_type": "execute_result"
    }
   ],
   "source": [
    "eqn = sp.Eq(M/(YM*MoI),sp.Derivative(V,x,x));\n",
    "eqn"
   ]
  },
  {
   "cell_type": "code",
   "execution_count": 194,
   "metadata": {},
   "outputs": [
    {
     "data": {
      "image/png": "[encoded data removed]",
      "text/latex": [
       "$$M = E I \\frac{d^{2}}{d x^{2}} V$$"
      ],
      "text/plain": [
       "          2   \n",
       "         d    \n",
       "M = E⋅I⋅───(V)\n",
       "          2   \n",
       "        dx    "
      ]
     },
     "execution_count": 194,
     "metadata": {},
     "output_type": "execute_result"
    }
   ],
   "source": [
    "eqn = sp.Eq(M, YM*MoI*sp.Derivative(V,x,x))\n",
    "eqn"
   ]
  },
  {
   "cell_type": "markdown",
   "metadata": {},
   "source": [
    "### Back substituting"
   ]
  },
  {
   "cell_type": "code",
   "execution_count": 195,
   "metadata": {},
   "outputs": [
    {
     "data": {
      "image/png": "[encoded data removed]",
      "text/latex": [
       "$$w(x) = E I \\frac{d^{4}}{d x^{4}} V$$"
      ],
      "text/plain": [
       "             4   \n",
       "            d    \n",
       "w(x) = E⋅I⋅───(V)\n",
       "             4   \n",
       "           dx    "
      ]
     },
     "execution_count": 195,
     "metadata": {},
     "output_type": "execute_result"
    }
   ],
   "source": [
    "eqn = sp.Eq(w,YM*MoI*sp.Derivative(V,x,x,x,x) )\n",
    "eqn"
   ]
  },
  {
   "cell_type": "markdown",
   "metadata": {},
   "source": [
    "assuming only nodal loads"
   ]
  },
  {
   "cell_type": "code",
   "execution_count": 196,
   "metadata": {},
   "outputs": [
    {
     "data": {
      "image/png": "[encoded data removed]",
      "text/latex": [
       "$$E I \\frac{d^{4}}{d x^{4}} V = 0$$"
      ],
      "text/plain": [
       "      4       \n",
       "     d        \n",
       "E⋅I⋅───(V) = 0\n",
       "      4       \n",
       "    dx        "
      ]
     },
     "execution_count": 196,
     "metadata": {},
     "output_type": "execute_result"
    }
   ],
   "source": [
    "eqn = sp.Eq(YM*MoI*sp.Derivative(V,x,x,x,x))\n",
    "eqn"
   ]
  },
  {
   "cell_type": "markdown",
   "metadata": {},
   "source": [
    "## Now we will go through the steps for performing FEA\n",
    "\n",
    "### Step 1: Select the element type:\n",
    "We have chosen to use the Beam element with modeling of Euler-Bernouli\n",
    "\n",
    "### Select a displacement Function"
   ]
  },
  {
   "cell_type": "code",
   "execution_count": 197,
   "metadata": {},
   "outputs": [
    {
     "data": {
      "image/png": "[encoded data removed]",
      "text/latex": [
       "$$v(x) = a_{1} x^{3} + a_{2} x^{2} + a_{3} x + a_{4}$$"
      ],
      "text/plain": [
       "           3       2            \n",
       "v(x) = a₁⋅x  + a₂⋅x  + a₃⋅x + a₄"
      ]
     },
     "execution_count": 197,
     "metadata": {},
     "output_type": "execute_result"
    }
   ],
   "source": [
    "eqn = sp.Eq(vx, a1*x**3 + a2*x**2 + a3*x + a4)\n",
    "eqn"
   ]
  },
  {
   "cell_type": "code",
   "execution_count": 198,
   "metadata": {},
   "outputs": [],
   "source": [
    "v = a1*x**3 + a2*x**2 + a3*x + a4"
   ]
  },
  {
   "cell_type": "markdown",
   "metadata": {},
   "source": [
    "Now to enforce the following boundary conditions to determine the coefficients\n",
    "1. $v(x=0) = v_0$\n",
    "1. $v'(x=0) = \\phi_0$\n",
    "1. $v(x=L) = v_1$\n",
    "1. $v'(x=L) = \\phi_1$"
   ]
  },
  {
   "cell_type": "code",
   "execution_count": 201,
   "metadata": {},
   "outputs": [
    {
     "data": {
      "image/png": "[encoded data removed]",
      "text/latex": [
       "$$v(x) = a_{1} x^{3} + a_{2} x^{2} + a_{3} x + v_{0}$$"
      ],
      "text/plain": [
       "           3       2            \n",
       "v(x) = a₁⋅x  + a₂⋅x  + a₃⋅x + v₀"
      ]
     },
     "execution_count": 201,
     "metadata": {},
     "output_type": "execute_result"
    }
   ],
   "source": [
    "v = v.subs({a4:sp.solveset(v.subs({x:0})-v0, a4).args[0]})\n",
    "eqn = sp.Eq(vx, v)\n",
    "eqn"
   ]
  },
  {
   "cell_type": "code",
   "execution_count": 206,
   "metadata": {},
   "outputs": [
    {
     "data": {
      "image/png": "[encoded data removed]",
      "text/latex": [
       "$$v(x) = a_{1} x^{3} + a_{2} x^{2} + \\phi_{0} x + v_{0}$$"
      ],
      "text/plain": [
       "           3       2            \n",
       "v(x) = a₁⋅x  + a₂⋅x  + φ₀⋅x + v₀"
      ]
     },
     "execution_count": 206,
     "metadata": {},
     "output_type": "execute_result"
    }
   ],
   "source": [
    "v = v.subs({a3:sp.solveset(v.diff(x).subs({x:0})-phi0, a3).args[0]})\n",
    "eqn = sp.Eq(vx, v)\n",
    "eqn"
   ]
  },
  {
   "cell_type": "code",
   "execution_count": null,
   "metadata": {},
   "outputs": [],
   "source": []
  }
 ],
 "metadata": {
  "kernelspec": {
   "display_name": "Python 3",
   "language": "python",
   "name": "python3"
  },
  "language_info": {
   "codemirror_mode": {
    "name": "ipython",
    "version": 3
   },
   "file_extension": ".py",
   "mimetype": "text/x-python",
   "name": "python",
   "nbconvert_exporter": "python",
   "pygments_lexer": "ipython3",
   "version": "3.5.5"
  }
 },
 "nbformat": 4,
 "nbformat_minor": 2
}
