{
 "cells": [
  {
   "cell_type": "markdown",
   "metadata": {},
   "source": [
    "# Chapter 4: Development of Beam Equations"
   ]
  },
  {
   "cell_type": "code",
   "execution_count": 1,
   "metadata": {
    "jupyter": {
     "source_hidden": true
    }
   },
   "outputs": [],
   "source": [
    "import matplotlib.pyplot as plt\n",
    "import numpy as np\n",
    "import sympy as sp\n",
    "\n",
    "sp.init_printing()\n",
    "%matplotlib inline"
   ]
  },
  {
   "cell_type": "markdown",
   "metadata": {},
   "source": [
    "## Steps for FEA\n",
    "\n",
    "1. Discretize and select the element types\n",
    "1. Select Displacement Function\n",
    "1. Define the strain/displacement and stress/strain relationships\n",
    "1. Derive the element stiffness Matrix and equations\n",
    "  1. Direct Stiffness Method\n",
    "  1. Work or Energy Method\n",
    "  1. Methods of Residuals\n",
    "1. Assemble the equations to obtain the global or ttoal equations and introduce boundar conditions\n",
    "1. Solve for unkown degrees of freedom\n",
    "1. Solve for element strains and stresses\n",
    "1. Interpret the results"
   ]
  },
  {
   "cell_type": "markdown",
   "metadata": {},
   "source": [
    "![alt text](under-928246_640.jpg \"Image of the beam element with all degrees of freedom\")"
   ]
  },
  {
   "cell_type": "markdown",
   "metadata": {},
   "source": [
    "## Euler Bernoulli beam theory (bending only)\n",
    "For this theory, we assume that any plane that was perpendicular to the beam's neutral axis prior to deformation will remain perpendicular to the the neutral axis after deformation. This theory is typically sufficient for most loadings"
   ]
  },
  {
   "cell_type": "code",
   "execution_count": 2,
   "metadata": {
    "jupyter": {
     "source_hidden": true
    }
   },
   "outputs": [],
   "source": [
    "V, w, Fy, x, M, k, YM, rho, MoI, L= sp.symbols('V w(x) F_y x M kappa E rho I L', real=True)\n",
    "ex, y, u, sigma = sp.symbols('epsilon_x y u sigma', real=True);\n",
    "a1, a2, a3, a4 = sp.symbols(\"a_1 a_2 a_3 a_4\", real=True)\n",
    "f0y, f1y, m0, m1, m = sp.symbols(\"f_{0y} f_{1y} m_0 m_1 m\")\n",
    "vx, v0, v1, phi0, phi1 = sp.symbols('v(x) v_0 v_1 phi_0 phi_1')\n",
    "sFy = sp.Symbol('\\Sigma F_y')\n",
    "sM2 = sp.Symbol('\\Sigma M_2')\n",
    "dx = sp.Symbol('\\Delta x', real=True)\n",
    "dV = sp.Symbol('\\Delta V', real=True)\n",
    "dM = sp.Symbol(\"\\Delta M\", real=True)"
   ]
  },
  {
   "cell_type": "markdown",
   "metadata": {},
   "source": [
    "### Summation of vertical forces"
   ]
  },
  {
   "cell_type": "code",
   "execution_count": 3,
   "metadata": {
    "jupyter": {
     "source_hidden": true
    }
   },
   "outputs": [
    {
     "data": {
      "image/png": "[encoded data removed]",
      "text/latex": [
       "$$\\Sigma F_y = 0$$"
      ],
      "text/plain": [
       "\\Sigma F_y = 0"
      ]
     },
     "execution_count": 3,
     "metadata": {},
     "output_type": "execute_result"
    }
   ],
   "source": [
    "sp.Eq(sFy, 0)"
   ]
  },
  {
   "cell_type": "code",
   "execution_count": 4,
   "metadata": {
    "jupyter": {
     "source_hidden": true
    }
   },
   "outputs": [
    {
     "data": {
      "image/png": "[encoded data removed]",
      "text/latex": [
       "$$V = V + \\Delta V + \\Delta x w(x)$$"
      ],
      "text/plain": [
       "V = V + \\Delta V + \\Delta x⋅w(x)"
      ]
     },
     "execution_count": 4,
     "metadata": {},
     "output_type": "execute_result"
    }
   ],
   "source": [
    "eqn = sp.Eq(V,(V+dV)+w*dx)\n",
    "eqn"
   ]
  },
  {
   "cell_type": "code",
   "execution_count": 5,
   "metadata": {
    "jupyter": {
     "source_hidden": true
    }
   },
   "outputs": [
    {
     "data": {
      "image/png": "[encoded data removed]",
      "text/latex": [
       "$$w(x) = - \\frac{\\Delta V}{\\Delta x}$$"
      ],
      "text/plain": [
       "       -\\Delta V \n",
       "w(x) = ──────────\n",
       "        \\Delta x "
      ]
     },
     "execution_count": 5,
     "metadata": {},
     "output_type": "execute_result"
    }
   ],
   "source": [
    "sp.Eq(w,sp.solveset(f=eqn, symbol=w, domain=sp.S.Reals).args[0])"
   ]
  },
  {
   "cell_type": "markdown",
   "metadata": {},
   "source": [
    "Now we take $\\lim_{\\Delta x \\to 0}$"
   ]
  },
  {
   "cell_type": "code",
   "execution_count": 6,
   "metadata": {
    "jupyter": {
     "source_hidden": true
    }
   },
   "outputs": [
    {
     "data": {
      "image/png": "[encoded data removed]",
      "text/latex": [
       "$$w(x) = - \\frac{d}{d x} V$$"
      ],
      "text/plain": [
       "        d    \n",
       "w(x) = -──(V)\n",
       "        dx   "
      ]
     },
     "execution_count": 6,
     "metadata": {},
     "output_type": "execute_result"
    }
   ],
   "source": [
    "sp.Eq(w,-sp.Derivative(V,x))"
   ]
  },
  {
   "cell_type": "markdown",
   "metadata": {},
   "source": [
    "### Summation of moments"
   ]
  },
  {
   "cell_type": "code",
   "execution_count": 7,
   "metadata": {
    "jupyter": {
     "source_hidden": true
    }
   },
   "outputs": [
    {
     "data": {
      "image/png": "[encoded data removed]",
      "text/latex": [
       "$$\\Sigma M_2 = 0$$"
      ],
      "text/plain": [
       "\\Sigma M₂ = 0"
      ]
     },
     "execution_count": 7,
     "metadata": {},
     "output_type": "execute_result"
    }
   ],
   "source": [
    "sp.Eq(sM2)"
   ]
  },
  {
   "cell_type": "code",
   "execution_count": 8,
   "metadata": {
    "jupyter": {
     "source_hidden": true
    }
   },
   "outputs": [
    {
     "data": {
      "image/png": "[encoded data removed]",
      "text/latex": [
       "$$M + V \\Delta x = M + \\Delta M + \\frac{\\Delta x^{2} w(x)}{2}$$"
      ],
      "text/plain": [
       "                                        2     \n",
       "                                \\Delta x ⋅w(x)\n",
       "M + V⋅\\Delta x = M + \\Delta M + ──────────────\n",
       "                                      2       "
      ]
     },
     "execution_count": 8,
     "metadata": {},
     "output_type": "execute_result"
    }
   ],
   "source": [
    "eqn = sp.Eq(M + V*dx, M+dM + w*dx*dx/2)\n",
    "eqn"
   ]
  },
  {
   "cell_type": "code",
   "execution_count": 9,
   "metadata": {
    "jupyter": {
     "source_hidden": true
    }
   },
   "outputs": [
    {
     "data": {
      "image/png": "[encoded data removed]",
      "text/latex": [
       "$$- V + \\frac{\\Delta M}{\\Delta x} + \\frac{\\Delta x w(x)}{2} = 0$$"
      ],
      "text/plain": [
       "     \\Delta M   \\Delta x⋅w(x)    \n",
       "-V + ──────── + ───────────── = 0\n",
       "     \\Delta x         2          "
      ]
     },
     "execution_count": 9,
     "metadata": {},
     "output_type": "execute_result"
    }
   ],
   "source": [
    "eqn = -V*dx + dM + w*dx*dx/2\n",
    "eqn = eqn/dx\n",
    "sp.Eq(eqn.simplify())"
   ]
  },
  {
   "cell_type": "markdown",
   "metadata": {},
   "source": [
    "taking $\\lim_{\\Delta x \\to 0}$"
   ]
  },
  {
   "cell_type": "code",
   "execution_count": 10,
   "metadata": {
    "jupyter": {
     "source_hidden": true
    }
   },
   "outputs": [
    {
     "data": {
      "image/png": "[encoded data removed]",
      "text/latex": [
       "$$V = \\frac{d}{d x} M$$"
      ],
      "text/plain": [
       "    d    \n",
       "V = ──(M)\n",
       "    dx   "
      ]
     },
     "execution_count": 10,
     "metadata": {},
     "output_type": "execute_result"
    }
   ],
   "source": [
    "eqn = sp.Eq(V,sp.Derivative(M,x))\n",
    "eqn"
   ]
  },
  {
   "cell_type": "markdown",
   "metadata": {},
   "source": [
    "### Recalling curvatures"
   ]
  },
  {
   "cell_type": "code",
   "execution_count": 11,
   "metadata": {
    "jupyter": {
     "source_hidden": true
    }
   },
   "outputs": [
    {
     "data": {
      "image/png": "[encoded data removed]",
      "text/latex": [
       "$$\\kappa = \\frac{1}{\\rho}$$"
      ],
      "text/plain": [
       "    1\n",
       "κ = ─\n",
       "    ρ"
      ]
     },
     "execution_count": 11,
     "metadata": {},
     "output_type": "execute_result"
    }
   ],
   "source": [
    "eqn = sp.Eq(k, 1/rho)\n",
    "eqn"
   ]
  },
  {
   "cell_type": "code",
   "execution_count": 12,
   "metadata": {
    "jupyter": {
     "source_hidden": true
    }
   },
   "outputs": [
    {
     "data": {
      "image/png": "[encoded data removed]",
      "text/latex": [
       "$$\\frac{1}{\\rho} = \\frac{M}{E I}$$"
      ],
      "text/plain": [
       "1    M \n",
       "─ = ───\n",
       "ρ   E⋅I"
      ]
     },
     "execution_count": 12,
     "metadata": {},
     "output_type": "execute_result"
    }
   ],
   "source": [
    "eqn = sp.Eq(1/rho, M/(YM*MoI))\n",
    "eqn"
   ]
  },
  {
   "cell_type": "markdown",
   "metadata": {},
   "source": [
    "also, recalling the formula for calculating the radius of curveature"
   ]
  },
  {
   "cell_type": "code",
   "execution_count": 13,
   "metadata": {
    "jupyter": {
     "source_hidden": true
    }
   },
   "outputs": [
    {
     "data": {
      "image/png": "[encoded data removed]",
      "text/latex": [
       "$$\\frac{1}{\\rho} = \\frac{M}{E I}$$"
      ],
      "text/plain": [
       "1    M \n",
       "─ = ───\n",
       "ρ   E⋅I"
      ]
     },
     "execution_count": 13,
     "metadata": {},
     "output_type": "execute_result"
    }
   ],
   "source": [
    "eqn"
   ]
  },
  {
   "cell_type": "markdown",
   "metadata": {},
   "source": [
    "realize that $v' = \\phi$ and we are assuming small angles so $v'^2 \\approx 0$"
   ]
  },
  {
   "cell_type": "code",
   "execution_count": 14,
   "metadata": {
    "jupyter": {
     "source_hidden": true
    }
   },
   "outputs": [
    {
     "data": {
      "image/png": "[encoded data removed]",
      "text/latex": [
       "$$\\kappa = \\frac{d^{2}}{d x^{2}} V$$"
      ],
      "text/plain": [
       "      2   \n",
       "     d    \n",
       "κ = ───(V)\n",
       "      2   \n",
       "    dx    "
      ]
     },
     "execution_count": 14,
     "metadata": {},
     "output_type": "execute_result"
    }
   ],
   "source": [
    "eqn = sp.Eq(k, sp.Derivative(V,x,x));\n",
    "eqn"
   ]
  },
  {
   "cell_type": "markdown",
   "metadata": {},
   "source": [
    "giving us the expression"
   ]
  },
  {
   "cell_type": "code",
   "execution_count": 15,
   "metadata": {
    "jupyter": {
     "source_hidden": true
    }
   },
   "outputs": [
    {
     "data": {
      "image/png": "[encoded data removed]",
      "text/latex": [
       "$$\\frac{M}{E I} = \\frac{d^{2}}{d x^{2}} V$$"
      ],
      "text/plain": [
       "        2   \n",
       " M     d    \n",
       "─── = ───(V)\n",
       "E⋅I     2   \n",
       "      dx    "
      ]
     },
     "execution_count": 15,
     "metadata": {},
     "output_type": "execute_result"
    }
   ],
   "source": [
    "eqn = sp.Eq(M/(YM*MoI),sp.Derivative(V,x,x));\n",
    "eqn"
   ]
  },
  {
   "cell_type": "code",
   "execution_count": 16,
   "metadata": {
    "jupyter": {
     "source_hidden": true
    }
   },
   "outputs": [
    {
     "data": {
      "image/png": "[encoded data removed]",
      "text/latex": [
       "$$M = E I \\frac{d^{2}}{d x^{2}} V$$"
      ],
      "text/plain": [
       "          2   \n",
       "         d    \n",
       "M = E⋅I⋅───(V)\n",
       "          2   \n",
       "        dx    "
      ]
     },
     "execution_count": 16,
     "metadata": {},
     "output_type": "execute_result"
    }
   ],
   "source": [
    "eqn = sp.Eq(M, YM*MoI*sp.Derivative(V,x,x))\n",
    "eqn"
   ]
  },
  {
   "cell_type": "markdown",
   "metadata": {},
   "source": [
    "### Back substituting"
   ]
  },
  {
   "cell_type": "code",
   "execution_count": 17,
   "metadata": {
    "jupyter": {
     "source_hidden": true
    }
   },
   "outputs": [
    {
     "data": {
      "image/png": "[encoded data removed]",
      "text/latex": [
       "$$w(x) = E I \\frac{d^{4}}{d x^{4}} V$$"
      ],
      "text/plain": [
       "             4   \n",
       "            d    \n",
       "w(x) = E⋅I⋅───(V)\n",
       "             4   \n",
       "           dx    "
      ]
     },
     "execution_count": 17,
     "metadata": {},
     "output_type": "execute_result"
    }
   ],
   "source": [
    "eqn = sp.Eq(w,YM*MoI*sp.Derivative(V,x,x,x,x) )\n",
    "eqn"
   ]
  },
  {
   "cell_type": "markdown",
   "metadata": {},
   "source": [
    "assuming only nodal loads"
   ]
  },
  {
   "cell_type": "code",
   "execution_count": 18,
   "metadata": {
    "jupyter": {
     "source_hidden": true
    }
   },
   "outputs": [
    {
     "data": {
      "image/png": "[encoded data removed]",
      "text/latex": [
       "$$E I \\frac{d^{4}}{d x^{4}} V = 0$$"
      ],
      "text/plain": [
       "      4       \n",
       "     d        \n",
       "E⋅I⋅───(V) = 0\n",
       "      4       \n",
       "    dx        "
      ]
     },
     "execution_count": 18,
     "metadata": {},
     "output_type": "execute_result"
    }
   ],
   "source": [
    "eqn = sp.Eq(YM*MoI*sp.Derivative(V,x,x,x,x))\n",
    "eqn"
   ]
  },
  {
   "cell_type": "markdown",
   "metadata": {},
   "source": [
    "## Now we will go through the steps for performing FEA\n",
    "\n",
    "### Step 1: Select the element type:\n",
    "We have chosen to use the Beam element with modeling of Euler-Bernouli\n",
    "\n",
    "### Step 2: Select a displacement Function"
   ]
  },
  {
   "cell_type": "code",
   "execution_count": 19,
   "metadata": {
    "jupyter": {
     "source_hidden": true
    }
   },
   "outputs": [
    {
     "data": {
      "image/png": "[encoded data removed]",
      "text/latex": [
       "$$v(x) = a_{1} x^{3} + a_{2} x^{2} + a_{3} x + a_{4}$$"
      ],
      "text/plain": [
       "           3       2            \n",
       "v(x) = a₁⋅x  + a₂⋅x  + a₃⋅x + a₄"
      ]
     },
     "execution_count": 19,
     "metadata": {},
     "output_type": "execute_result"
    }
   ],
   "source": [
    "eqn = sp.Eq(vx, a1*x**3 + a2*x**2 + a3*x + a4)\n",
    "eqn"
   ]
  },
  {
   "cell_type": "code",
   "execution_count": 20,
   "metadata": {
    "jupyter": {
     "source_hidden": true
    }
   },
   "outputs": [],
   "source": [
    "v = a1*x**3 + a2*x**2 + a3*x + a4"
   ]
  },
  {
   "cell_type": "markdown",
   "metadata": {},
   "source": [
    "Now to enforce the following boundary conditions to determine the coefficients\n",
    "1. $v(x=0) = v_0$\n",
    "1. $v'(x=0) = \\phi_0$\n",
    "1. $v(x=L) = v_1$\n",
    "1. $v'(x=L) = \\phi_1$"
   ]
  },
  {
   "cell_type": "code",
   "execution_count": 21,
   "metadata": {
    "jupyter": {
     "source_hidden": true
    }
   },
   "outputs": [
    {
     "data": {
      "image/png": "[encoded data removed]",
      "text/latex": [
       "$$v(x) = a_{1} x^{3} + a_{2} x^{2} + a_{3} x + v_{0}$$"
      ],
      "text/plain": [
       "           3       2            \n",
       "v(x) = a₁⋅x  + a₂⋅x  + a₃⋅x + v₀"
      ]
     },
     "execution_count": 21,
     "metadata": {},
     "output_type": "execute_result"
    }
   ],
   "source": [
    "v = v.subs({a4:sp.solveset(v.subs({x:0})-v0, a4).args[0]})\n",
    "eqn = sp.Eq(vx, v)\n",
    "eqn"
   ]
  },
  {
   "cell_type": "code",
   "execution_count": 22,
   "metadata": {
    "jupyter": {
     "source_hidden": true
    }
   },
   "outputs": [
    {
     "data": {
      "image/png": "[encoded data removed]",
      "text/latex": [
       "$$v(x) = a_{1} x^{3} + a_{2} x^{2} + \\phi_{0} x + v_{0}$$"
      ],
      "text/plain": [
       "           3       2            \n",
       "v(x) = a₁⋅x  + a₂⋅x  + φ₀⋅x + v₀"
      ]
     },
     "execution_count": 22,
     "metadata": {},
     "output_type": "execute_result"
    }
   ],
   "source": [
    "v = v.subs({a3:sp.solveset(v.diff(x).subs({x:0})-phi0, a3).args[0]})\n",
    "eqn = sp.Eq(vx, v)\n",
    "eqn"
   ]
  },
  {
   "cell_type": "code",
   "execution_count": 23,
   "metadata": {
    "jupyter": {
     "source_hidden": true
    }
   },
   "outputs": [
    {
     "data": {
      "image/png": "[encoded data removed]",
      "text/latex": [
       "$$v(x) = a_{1} x^{3} + \\phi_{0} x + v_{0} - \\frac{x^{2} \\left(L^{3} a_{1} + L \\phi_{0} + v_{0} - v_{1}\\right)}{L^{2}}$$"
      ],
      "text/plain": [
       "                            2 ⎛ 3                    ⎞\n",
       "           3               x ⋅⎝L ⋅a₁ + L⋅φ₀ + v₀ - v₁⎠\n",
       "v(x) = a₁⋅x  + φ₀⋅x + v₀ - ───────────────────────────\n",
       "                                         2            \n",
       "                                        L             "
      ]
     },
     "execution_count": 23,
     "metadata": {},
     "output_type": "execute_result"
    }
   ],
   "source": [
    "v = v.subs({a2:sp.solveset(sp.Eq(v1,v.subs({x:L})),a2).args[0]});\n",
    "eqn = sp.Eq(vx,v);\n",
    "eqn"
   ]
  },
  {
   "cell_type": "code",
   "execution_count": 24,
   "metadata": {
    "jupyter": {
     "source_hidden": true
    }
   },
   "outputs": [
    {
     "data": {
      "image/png": "[encoded data removed]",
      "text/latex": [
       "$$v(x) = \\phi_{0} x + v_{0} - \\frac{x^{2} \\left(2 L \\phi_{0} + L \\phi_{1} + 3 v_{0} - 3 v_{1}\\right)}{L^{2}} + \\frac{x^{3} \\left(L \\phi_{0} + L \\phi_{1} + 2 v_{0} - 2 v_{1}\\right)}{L^{3}}$$"
      ],
      "text/plain": [
       "                    2                                  3                      \n",
       "                   x ⋅(2⋅L⋅φ₀ + L⋅φ₁ + 3⋅v₀ - 3⋅v₁)   x ⋅(L⋅φ₀ + L⋅φ₁ + 2⋅v₀ -\n",
       "v(x) = φ₀⋅x + v₀ - ──────────────────────────────── + ────────────────────────\n",
       "                                   2                                 3        \n",
       "                                  L                                 L         \n",
       "\n",
       "      \n",
       " 2⋅v₁)\n",
       "──────\n",
       "      \n",
       "      "
      ]
     },
     "execution_count": 24,
     "metadata": {},
     "output_type": "execute_result"
    }
   ],
   "source": [
    "v=v.subs({a1:sp.solveset(sp.Eq(phi1,sp.diff(v,x).subs({x:L})),a1).args[0]});\n",
    "eqn = sp.Eq(vx,v);\n",
    "eqn"
   ]
  },
  {
   "cell_type": "markdown",
   "metadata": {},
   "source": [
    "collecting terms"
   ]
  },
  {
   "cell_type": "code",
   "execution_count": 25,
   "metadata": {
    "jupyter": {
     "source_hidden": true
    }
   },
   "outputs": [
    {
     "data": {
      "image/png": "[encoded data removed]",
      "text/latex": [
       "$$v(x) = \\phi_{0} \\left(x - \\frac{2 x^{2}}{L} + \\frac{x^{3}}{L^{2}}\\right) + \\phi_{1} \\left(- \\frac{x^{2}}{L} + \\frac{x^{3}}{L^{2}}\\right) + v_{0} \\left(1 - \\frac{3 x^{2}}{L^{2}} + \\frac{2 x^{3}}{L^{3}}\\right) + v_{1} \\left(\\frac{3 x^{2}}{L^{2}} - \\frac{2 x^{3}}{L^{3}}\\right)$$"
      ],
      "text/plain": [
       "          ⎛       2    3⎞      ⎛   2    3⎞      ⎛       2      3⎞      ⎛   2  \n",
       "          ⎜    2⋅x    x ⎟      ⎜  x    x ⎟      ⎜    3⋅x    2⋅x ⎟      ⎜3⋅x   \n",
       "v(x) = φ₀⋅⎜x - ──── + ──⎟ + φ₁⋅⎜- ── + ──⎟ + v₀⋅⎜1 - ──── + ────⎟ + v₁⋅⎜──── -\n",
       "          ⎜     L      2⎟      ⎜  L     2⎟      ⎜      2      3 ⎟      ⎜  2   \n",
       "          ⎝           L ⎠      ⎝       L ⎠      ⎝     L      L  ⎠      ⎝ L    \n",
       "\n",
       "    3⎞\n",
       " 2⋅x ⎟\n",
       " ────⎟\n",
       "   3 ⎟\n",
       "  L  ⎠"
      ]
     },
     "execution_count": 25,
     "metadata": {},
     "output_type": "execute_result"
    }
   ],
   "source": [
    "v = sp.collect(sp.expand(v),[v0, phi0, v1, phi1]);\n",
    "eqn=sp.Eq(vx,v)\n",
    "eqn"
   ]
  },
  {
   "cell_type": "markdown",
   "metadata": {},
   "source": [
    "Converting to matrix notation"
   ]
  },
  {
   "cell_type": "code",
   "execution_count": 26,
   "metadata": {
    "jupyter": {
     "source_hidden": true
    }
   },
   "outputs": [
    {
     "data": {
      "text/latex": [
       "$$\\left[\\begin{matrix}v(x)\\end{matrix}\\right] = \\left[\\begin{matrix}1 - \\frac{3 x^{2}}{L^{2}} + \\frac{2 x^{3}}{L^{3}} & x - \\frac{2 x^{2}}{L} + \\frac{x^{3}}{L^{2}} & \\frac{3 x^{2}}{L^{2}} - \\frac{2 x^{3}}{L^{3}} & - \\frac{x^{2}}{L} + \\frac{x^{3}}{L^{2}}\\end{matrix}\\right] \\left[\\begin{matrix}v_{0}\\\\\\phi_{0}\\\\v_{1}\\\\\\phi_{1}\\end{matrix}\\right]$$"
      ],
      "text/plain": [
       "                                                                  ⎡v₀⎤\n",
       "         ⎡       2      3         2    3     2      3     2    3⎤ ⎢  ⎥\n",
       "         ⎢    3⋅x    2⋅x       2⋅x    x   3⋅x    2⋅x     x    x ⎥ ⎢φ₀⎥\n",
       "[v(x)] = ⎢1 - ──── + ────  x - ──── + ──  ──── - ────  - ── + ──⎥⋅⎢  ⎥\n",
       "         ⎢      2      3        L      2    2      3     L     2⎥ ⎢v₁⎥\n",
       "         ⎣     L      L               L    L      L           L ⎦ ⎢  ⎥\n",
       "                                                                  ⎣φ₁⎦"
      ]
     },
     "execution_count": 26,
     "metadata": {},
     "output_type": "execute_result"
    }
   ],
   "source": [
    "d = sp.Matrix([v0, phi0, v1, phi1]);\n",
    "N,B=sp.linear_eq_to_matrix([v],[v0, phi0, v1, phi1]);\n",
    "del(B)\n",
    "eqn = sp.Eq(sp.Matrix([vx]),sp.MatMul(N,d))\n",
    "eqn"
   ]
  },
  {
   "cell_type": "markdown",
   "metadata": {},
   "source": [
    "### Step 3: Define the Strain/Displacement and Stress/Strain Relationship"
   ]
  },
  {
   "cell_type": "code",
   "execution_count": 27,
   "metadata": {
    "jupyter": {
     "source_hidden": true
    }
   },
   "outputs": [
    {
     "data": {
      "image/png": "[encoded data removed]",
      "text/latex": [
       "$$\\epsilon_{x} = \\frac{d}{d x} u$$"
      ],
      "text/plain": [
       "     d    \n",
       "εₓ = ──(u)\n",
       "     dx   "
      ]
     },
     "execution_count": 27,
     "metadata": {},
     "output_type": "execute_result"
    }
   ],
   "source": [
    "eqn = sp.Eq(ex,sp.Derivative(u,x));\n",
    "eqn"
   ]
  },
  {
   "cell_type": "markdown",
   "metadata": {},
   "source": [
    "![alt text](under-928246_640.jpg \"Image of the deformed beam explaining the relationship between du/dx and y*dv/dx\")"
   ]
  },
  {
   "cell_type": "code",
   "execution_count": 28,
   "metadata": {
    "jupyter": {
     "source_hidden": true
    }
   },
   "outputs": [
    {
     "data": {
      "image/png": "[encoded data removed]",
      "text/latex": [
       "$$u = - y \\frac{d}{d x} v(x)$$"
      ],
      "text/plain": [
       "       d       \n",
       "u = -y⋅──(v(x))\n",
       "       dx      "
      ]
     },
     "execution_count": 28,
     "metadata": {},
     "output_type": "execute_result"
    }
   ],
   "source": [
    "eqn = sp.Eq(u, -y*sp.Derivative(vx,x));\n",
    "eqn"
   ]
  },
  {
   "cell_type": "code",
   "execution_count": 29,
   "metadata": {
    "jupyter": {
     "source_hidden": true
    }
   },
   "outputs": [
    {
     "data": {
      "image/png": "[encoded data removed]",
      "text/latex": [
       "$$\\epsilon_{x} = - y \\frac{d^{2}}{d x^{2}} v(x)$$"
      ],
      "text/plain": [
       "          2      \n",
       "         d       \n",
       "εₓ = -y⋅───(v(x))\n",
       "          2      \n",
       "        dx       "
      ]
     },
     "execution_count": 29,
     "metadata": {},
     "output_type": "execute_result"
    }
   ],
   "source": [
    "eqn = sp.Eq(ex, -y*sp.Derivative(vx,x,x));\n",
    "eqn"
   ]
  },
  {
   "cell_type": "markdown",
   "metadata": {},
   "source": [
    "recall"
   ]
  },
  {
   "cell_type": "code",
   "execution_count": 30,
   "metadata": {
    "jupyter": {
     "source_hidden": true
    }
   },
   "outputs": [
    {
     "data": {
      "image/png": "[encoded data removed]",
      "text/latex": [
       "$$\\frac{d^{2}}{d x^{2}} v(x) = \\frac{M}{E I}$$"
      ],
      "text/plain": [
       "  2            \n",
       " d           M \n",
       "───(v(x)) = ───\n",
       "  2         E⋅I\n",
       "dx             "
      ]
     },
     "execution_count": 30,
     "metadata": {},
     "output_type": "execute_result"
    }
   ],
   "source": [
    "sp.Eq(sp.Derivative(vx,x,x), M/(YM*MoI))"
   ]
  },
  {
   "cell_type": "markdown",
   "metadata": {},
   "source": [
    "and"
   ]
  },
  {
   "cell_type": "code",
   "execution_count": 31,
   "metadata": {
    "jupyter": {
     "source_hidden": true
    }
   },
   "outputs": [
    {
     "data": {
      "image/png": "[encoded data removed]",
      "text/latex": [
       "$$\\sigma = E \\epsilon_{x}$$"
      ],
      "text/plain": [
       "σ = E⋅εₓ"
      ]
     },
     "execution_count": 31,
     "metadata": {},
     "output_type": "execute_result"
    }
   ],
   "source": [
    "sp.Eq(sigma, YM*ex)"
   ]
  },
  {
   "cell_type": "code",
   "execution_count": 32,
   "metadata": {
    "jupyter": {
     "source_hidden": true
    }
   },
   "outputs": [
    {
     "data": {
      "image/png": "[encoded data removed]",
      "text/latex": [
       "$$\\sigma = - \\frac{M y}{I}$$"
      ],
      "text/plain": [
       "    -M⋅y \n",
       "σ = ─────\n",
       "      I  "
      ]
     },
     "execution_count": 32,
     "metadata": {},
     "output_type": "execute_result"
    }
   ],
   "source": [
    "sp.Eq(sigma,-y*M/MoI)"
   ]
  },
  {
   "cell_type": "markdown",
   "metadata": {},
   "source": [
    "### Step 4: Derive the Element Stiffness Matrix and Equations"
   ]
  },
  {
   "cell_type": "markdown",
   "metadata": {},
   "source": [
    "recall"
   ]
  },
  {
   "cell_type": "code",
   "execution_count": 33,
   "metadata": {
    "jupyter": {
     "source_hidden": true
    }
   },
   "outputs": [
    {
     "data": {
      "image/png": "[encoded data removed]",
      "text/latex": [
       "$$M = E I \\frac{d^{2}}{d x^{2}} v(x)$$"
      ],
      "text/plain": [
       "          2      \n",
       "         d       \n",
       "M = E⋅I⋅───(v(x))\n",
       "          2      \n",
       "        dx       "
      ]
     },
     "execution_count": 33,
     "metadata": {},
     "output_type": "execute_result"
    }
   ],
   "source": [
    "sp.Eq(M,YM*MoI*sp.Derivative(vx,x,x))"
   ]
  },
  {
   "cell_type": "markdown",
   "metadata": {},
   "source": [
    "and"
   ]
  },
  {
   "cell_type": "code",
   "execution_count": 34,
   "metadata": {
    "jupyter": {
     "source_hidden": true
    }
   },
   "outputs": [
    {
     "data": {
      "image/png": "[encoded data removed]",
      "text/latex": [
       "$$V = \\frac{d}{d x} M = E I \\frac{d^{3}}{d x^{3}} v(x)$$"
      ],
      "text/plain": [
       "                  3      \n",
       "    d            d       \n",
       "V = ──(M) = E⋅I⋅───(v(x))\n",
       "    dx            3      \n",
       "                dx       "
      ]
     },
     "execution_count": 34,
     "metadata": {},
     "output_type": "execute_result"
    }
   ],
   "source": [
    "sp.Eq(V,sp.Eq(sp.Derivative(M,x),YM*MoI*sp.Derivative(vx,x,x,x)))"
   ]
  },
  {
   "cell_type": "code",
   "execution_count": 35,
   "metadata": {
    "jupyter": {
     "source_hidden": true
    }
   },
   "outputs": [
    {
     "data": {
      "image/png": "[encoded data removed]",
      "text/latex": [
       "$$f_{0y} = V = E I \\frac{d^{3}}{d x^{3}} v(x) = \\frac{6 E I \\left(\\phi_{0} + \\phi_{1} + \\frac{2 v_{0}}{L} - \\frac{2 v_{1}}{L}\\right)}{L^{2}}$$"
      ],
      "text/plain": [
       "                                   ⎛          2⋅v₀   2⋅v₁⎞\n",
       "                   3         6⋅E⋅I⋅⎜φ₀ + φ₁ + ──── - ────⎟\n",
       "                  d                ⎝           L      L  ⎠\n",
       "f_{0y} = V = E⋅I⋅───(v(x)) = ─────────────────────────────\n",
       "                   3                        2             \n",
       "                 dx                        L              "
      ]
     },
     "execution_count": 35,
     "metadata": {},
     "output_type": "execute_result"
    }
   ],
   "source": [
    "eqn1 = YM*MoI*v.diff(x,x,x);\n",
    "sp.Eq(\n",
    "    f0y, sp.Eq(\n",
    "        V,sp.Eq(\n",
    "            YM*MoI*sp.Derivative(vx,x,x,x), eqn1\n",
    "        )\n",
    "    )\n",
    ")"
   ]
  },
  {
   "cell_type": "code",
   "execution_count": 36,
   "metadata": {
    "jupyter": {
     "source_hidden": true
    }
   },
   "outputs": [
    {
     "data": {
      "image/png": "[encoded data removed]",
      "text/latex": [
       "$$m_{0} = - m = - E I \\frac{d^{2}}{d x^{2}} v(x) = - \\frac{2 E I \\left(- 2 \\phi_{0} - \\phi_{1} - \\frac{3 v_{0}}{L} + \\frac{3 v_{1}}{L}\\right)}{L}$$"
      ],
      "text/plain": [
       "      ⎛     ⎛                       ⎛             3⋅v₀   3⋅v₁⎞ ⎞⎞\n",
       "      ⎜     ⎜      2         -2⋅E⋅I⋅⎜-2⋅φ₀ - φ₁ - ──── + ────⎟ ⎟⎟\n",
       "      ⎜     ⎜     d                 ⎝              L      L  ⎠ ⎟⎟\n",
       "m₀ = -⎜m = -⎜E⋅I⋅───(v(x)) = ──────────────────────────────────⎟⎟\n",
       "      ⎜     ⎜      2                         L                 ⎟⎟\n",
       "      ⎝     ⎝    dx                                            ⎠⎠"
      ]
     },
     "execution_count": 36,
     "metadata": {},
     "output_type": "execute_result"
    }
   ],
   "source": [
    "eqn2 = -YM*MoI*v.diff(x,x).subs({x:0})\n",
    "sp.Eq(\n",
    "    m0, -sp.Eq(\n",
    "        m,-sp.Eq(\n",
    "            YM*MoI*sp.Derivative(vx,x,x), eqn2\n",
    "        )\n",
    "    )\n",
    ")"
   ]
  },
  {
   "cell_type": "code",
   "execution_count": 37,
   "metadata": {
    "jupyter": {
     "source_hidden": true
    }
   },
   "outputs": [
    {
     "data": {
      "image/png": "[encoded data removed]",
      "text/latex": [
       "$$f_{1y} = - V = - E I \\frac{d^{3}}{d x^{3}} v(x) = - \\frac{6 E I \\left(\\phi_{0} + \\phi_{1} + \\frac{2 v_{0}}{L} - \\frac{2 v_{1}}{L}\\right)}{L^{2}}$$"
      ],
      "text/plain": [
       "          ⎛     ⎛                       ⎛          2⋅v₀   2⋅v₁⎞ ⎞⎞\n",
       "          ⎜     ⎜      3         -6⋅E⋅I⋅⎜φ₀ + φ₁ + ──── - ────⎟ ⎟⎟\n",
       "          ⎜     ⎜     d                 ⎝           L      L  ⎠ ⎟⎟\n",
       "f_{1y} = -⎜V = -⎜E⋅I⋅───(v(x)) = ───────────────────────────────⎟⎟\n",
       "          ⎜     ⎜      3                         2              ⎟⎟\n",
       "          ⎝     ⎝    dx                         L               ⎠⎠"
      ]
     },
     "execution_count": 37,
     "metadata": {},
     "output_type": "execute_result"
    }
   ],
   "source": [
    "eqn3 = -YM*MoI*v.diff(x,x,x)\n",
    "sp.Eq(\n",
    "    f1y, -sp.Eq(\n",
    "        V,-sp.Eq(\n",
    "            YM*MoI*sp.Derivative(vx,x,x,x), eqn3\n",
    "        )\n",
    "    )\n",
    ")"
   ]
  },
  {
   "cell_type": "code",
   "execution_count": 38,
   "metadata": {
    "jupyter": {
     "source_hidden": true
    }
   },
   "outputs": [
    {
     "data": {
      "image/png": "[encoded data removed]",
      "text/latex": [
       "$$m_{1} = m = E I \\frac{d^{2}}{d x^{2}} v(x) = \\frac{2 E I \\left(\\phi_{0} + 2 \\phi_{1} + \\frac{3 v_{0}}{L} - \\frac{3 v_{1}}{L}\\right)}{L}$$"
      ],
      "text/plain": [
       "                               ⎛            3⋅v₀   3⋅v₁⎞\n",
       "               2         2⋅E⋅I⋅⎜φ₀ + 2⋅φ₁ + ──── - ────⎟\n",
       "              d                ⎝             L      L  ⎠\n",
       "m₁ = m = E⋅I⋅───(v(x)) = ───────────────────────────────\n",
       "               2                        L               \n",
       "             dx                                         "
      ]
     },
     "execution_count": 38,
     "metadata": {},
     "output_type": "execute_result"
    }
   ],
   "source": [
    "eqn4 = YM*MoI*v.diff(x,x).subs({x:L});\n",
    "sp.Eq(\n",
    "    m1, sp.Eq(\n",
    "        m,sp.Eq(\n",
    "            YM*MoI*sp.Derivative(vx,x,x), eqn4\n",
    "        )\n",
    "    )\n",
    ")"
   ]
  },
  {
   "cell_type": "code",
   "execution_count": 39,
   "metadata": {
    "jupyter": {
     "source_hidden": true
    }
   },
   "outputs": [
    {
     "data": {
      "text/latex": [
       "$$\\left[\\begin{matrix}f_{0y}\\\\m_{0}\\\\f_{1y}\\\\m_{1}\\end{matrix}\\right] = \\left[\\begin{matrix}\\frac{12 E I}{L^{3}} & \\frac{6 E I}{L^{2}} & - \\frac{12 E I}{L^{3}} & \\frac{6 E I}{L^{2}}\\\\\\frac{6 E I}{L^{2}} & \\frac{4 E I}{L} & - \\frac{6 E I}{L^{2}} & \\frac{2 E I}{L}\\\\- \\frac{12 E I}{L^{3}} & - \\frac{6 E I}{L^{2}} & \\frac{12 E I}{L^{3}} & - \\frac{6 E I}{L^{2}}\\\\\\frac{6 E I}{L^{2}} & \\frac{2 E I}{L} & - \\frac{6 E I}{L^{2}} & \\frac{4 E I}{L}\\end{matrix}\\right] \\left[\\begin{matrix}v_{0}\\\\\\phi_{0}\\\\v_{1}\\\\\\phi_{1}\\end{matrix}\\right]$$"
      ],
      "text/plain": [
       "           ⎡ 12⋅E⋅I    6⋅E⋅I   -12⋅E⋅I    6⋅E⋅I ⎤     \n",
       "           ⎢ ──────    ─────   ────────   ───── ⎥     \n",
       "           ⎢    3         2        3         2  ⎥     \n",
       "           ⎢   L         L        L         L   ⎥     \n",
       "           ⎢                                    ⎥     \n",
       "           ⎢ 6⋅E⋅I     4⋅E⋅I   -6⋅E⋅I     2⋅E⋅I ⎥     \n",
       "⎡f_{0y}⎤   ⎢ ─────     ─────   ───────    ───── ⎥ ⎡v₀⎤\n",
       "⎢      ⎥   ⎢    2        L         2        L   ⎥ ⎢  ⎥\n",
       "⎢  m₀  ⎥   ⎢   L                  L             ⎥ ⎢φ₀⎥\n",
       "⎢      ⎥ = ⎢                                    ⎥⋅⎢  ⎥\n",
       "⎢f_{1y}⎥   ⎢-12⋅E⋅I   -6⋅E⋅I    12⋅E⋅I   -6⋅E⋅I ⎥ ⎢v₁⎥\n",
       "⎢      ⎥   ⎢────────  ───────   ──────   ───────⎥ ⎢  ⎥\n",
       "⎣  m₁  ⎦   ⎢    3         2        3         2  ⎥ ⎣φ₁⎦\n",
       "           ⎢   L         L        L         L   ⎥     \n",
       "           ⎢                                    ⎥     \n",
       "           ⎢ 6⋅E⋅I     2⋅E⋅I   -6⋅E⋅I     4⋅E⋅I ⎥     \n",
       "           ⎢ ─────     ─────   ───────    ───── ⎥     \n",
       "           ⎢    2        L         2        L   ⎥     \n",
       "           ⎣   L                  L             ⎦     "
      ]
     },
     "execution_count": 39,
     "metadata": {},
     "output_type": "execute_result"
    }
   ],
   "source": [
    "k,f = sp.linear_eq_to_matrix([eqn1.expand()-f0y, eqn2.expand()-m0, eqn3.expand()-f1y, eqn4.expand()-m1], [v0, phi0,v1, phi1])\n",
    "sp.Eq(f,sp.MatMul(k,d))"
   ]
  },
  {
   "cell_type": "code",
   "execution_count": null,
   "metadata": {
    "jupyter": {
     "source_hidden": true
    }
   },
   "outputs": [],
   "source": []
  }
 ],
 "metadata": {
  "kernelspec": {
   "display_name": "Python 3",
   "language": "python",
   "name": "python3"
  },
  "language_info": {
   "codemirror_mode": {
    "name": "ipython",
    "version": 3
   },
   "file_extension": ".py",
   "mimetype": "text/x-python",
   "name": "python",
   "nbconvert_exporter": "python",
   "pygments_lexer": "ipython3",
   "version": "3.5.5"
  }
 },
 "nbformat": 4,
 "nbformat_minor": 2
}
