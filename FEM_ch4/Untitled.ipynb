{
 "cells": [
  {
   "cell_type": "markdown",
   "metadata": {},
   "source": [
    "# Chapter 4: Development of Beam Equations"
   ]
  },
  {
   "cell_type": "markdown",
   "metadata": {},
   "source": [
    "## Steps for FEA\n",
    "\n",
    "1. Discretize and select the element types\n",
    "1. Select Displacement Function\n",
    "1. Define the strain/displacement and stress/strain relationships\n",
    "1. Derive the element stiffness Matrix and equations\n",
    "  1. Direct Stiffness Method\n",
    "  1. Work or Energy Method\n",
    "  1. Methods of Residuals\n",
    "1. Assemble the equations to obtain the global or ttoal equations and introduce boundar conditions\n",
    "1. Solve for unkown degrees of freedom\n",
    "1. Solve for element strains and stresses\n",
    "1. Interpret the results"
   ]
  },
  {
   "cell_type": "markdown",
   "metadata": {},
   "source": [
    "![alt text](under-928246_640.jpg \"Image of the beam element with all degrees of freedom\")"
   ]
  },
  {
   "cell_type": "markdown",
   "metadata": {},
   "source": [
    "## Euler-Bernoulli beam theory (bending only)\n",
    "\n",
    "For this theory, we assume that any plane that was perpendicular to the beams neutral axis prior to deformation will remain perpendicular the neutral axis after deformation. This theory is typically sufficient for most loadings\n",
    "\n",
    "### Summation of vertical forces\n",
    "\n",
    "$$\\sum{F_y} = 0 \\to v -(v + \\Delta v) - w(x) \\Delta x = 0 $$\n",
    "\n",
    "$$ w(x) = -\\frac{\\Delta v}{\\Delta x} $$\n",
    "\n",
    "$$ \\lim_{\\Delta x \\to 0} w(x) = -\\lim_{\\Delta x \\to 0}\\frac{\\Delta v}{\\Delta x} $$\n",
    "\n",
    "$$ w(x) = -\\frac{\\mathrm d v}{\\mathrm d x}$$\n",
    "\n",
    "### Summation of moments\n",
    "\n",
    "$$ \\sum{M_2} = 0 \\to -M + ( M + \\Delta M) - v \\Delta x + w(x) \\Delta x \\frac{\\Delta x}{2} = 0 $$\n",
    "\n",
    "$$ \\frac{\\Delta M}{\\Delta x} - v + w(x) \\frac{\\Delta x}{2}  = 0$$\n",
    "\n",
    "$$ \\lim_{\\Delta x \\to 0} \\biggl( \\frac{\\Delta M}{\\Delta x} - v + w(x) \\frac{\\Delta x}{2} \\biggr) = 0 $$\n",
    "\n",
    "$$ v = \\frac{\\mathrm d M}{\\mathrm d x} $$\n",
    "\n",
    "### Recalling curvatures\n",
    "\n",
    "$$ \\kappa = \\frac{1}{\\rho} = \\frac{M}{EI}$$\n",
    "\n",
    "also\n",
    "\n",
    "$$ \\kappa = \\frac{v''}{({1 + v'^2})^{\\frac{3}{2}}} $$\n",
    "\n",
    "$$ v' = \\frac{\\mathrm d v}{\\mathrm d x} = \\phi << 1 \\implies v'^2 \\approx 0 $$\n",
    "\n",
    "$$ so\\ \\ \\kappa = \\frac{\\mathrm d^2 v}{\\mathrm d x^2} $$\n",
    "\n",
    "$$ \\therefore \\frac{M}{EI} = \\frac{\\mathrm d^2 v}{\\mathrm d x^2} \\to M = EI \\frac{\\mathrm d^2 v}{\\mathrm d x^2} $$\n",
    "\n",
    "### Back substituting\n",
    "\n",
    "$$ w(x) = EI \\frac{\\mathrm d v^4}{\\mathrm d x ^4} $$\n",
    "\n",
    "assuming only nodal forces and moments\n",
    "\n",
    "$$ 0 = EI \\frac{\\mathrm d v^4}{\\mathrm d x ^4} $$"
   ]
  },
  {
   "cell_type": "markdown",
   "metadata": {},
   "source": []
  },
  {
   "cell_type": "code",
   "execution_count": null,
   "metadata": {},
   "outputs": [],
   "source": []
  },
  {
   "cell_type": "code",
   "execution_count": null,
   "metadata": {},
   "outputs": [],
   "source": []
  },
  {
   "cell_type": "code",
   "execution_count": null,
   "metadata": {},
   "outputs": [],
   "source": []
  },
  {
   "cell_type": "code",
   "execution_count": null,
   "metadata": {},
   "outputs": [],
   "source": []
  },
  {
   "cell_type": "code",
   "execution_count": null,
   "metadata": {},
   "outputs": [],
   "source": []
  },
  {
   "cell_type": "code",
   "execution_count": null,
   "metadata": {},
   "outputs": [],
   "source": []
  },
  {
   "cell_type": "code",
   "execution_count": null,
   "metadata": {},
   "outputs": [],
   "source": []
  },
  {
   "cell_type": "code",
   "execution_count": null,
   "metadata": {},
   "outputs": [],
   "source": []
  },
  {
   "cell_type": "code",
   "execution_count": null,
   "metadata": {},
   "outputs": [],
   "source": []
  },
  {
   "cell_type": "code",
   "execution_count": null,
   "metadata": {},
   "outputs": [],
   "source": []
  },
  {
   "cell_type": "code",
   "execution_count": null,
   "metadata": {},
   "outputs": [],
   "source": []
  }
 ],
 "metadata": {
  "kernelspec": {
   "display_name": "Python 3",
   "language": "python",
   "name": "python3"
  },
  "language_info": {
   "codemirror_mode": {
    "name": "ipython",
    "version": 3
   },
   "file_extension": ".py",
   "mimetype": "text/x-python",
   "name": "python",
   "nbconvert_exporter": "python",
   "pygments_lexer": "ipython3",
   "version": "3.5.5"
  }
 },
 "nbformat": 4,
 "nbformat_minor": 2
}
